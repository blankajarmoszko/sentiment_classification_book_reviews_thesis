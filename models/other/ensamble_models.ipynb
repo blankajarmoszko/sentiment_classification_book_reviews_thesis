{
 "cells": [
  {
   "cell_type": "markdown",
   "source": [
    "# KNN Model"
   ],
   "metadata": {
    "collapsed": false
   },
   "id": "5a86795f8057af19"
  },
  {
   "cell_type": "code",
   "execution_count": 12,
   "outputs": [],
   "source": [
    "# Import libraries\n",
    "from sklearn.linear_model import LogisticRegression\n",
    "from sklearn.preprocessing import StandardScaler\n",
    "from sklearn.feature_extraction.text import TfidfVectorizer, CountVectorizer\n",
    "from sklearn.naive_bayes import MultinomialNB\n",
    "from sklearn.metrics import accuracy_score, classification_report, confusion_matrix\n",
    "from sklearn.model_selection import train_test_split\n",
    "\n",
    "import numpy as np\n",
    "import pandas as pd\n",
    "import matplotlib.pyplot as plt\n",
    "\n",
    "import warnings\n",
    "warnings.filterwarnings('ignore')\n"
   ],
   "metadata": {
    "collapsed": false,
    "ExecuteTime": {
     "end_time": "2024-04-08T15:58:12.160696Z",
     "start_time": "2024-04-08T15:58:12.149492Z"
    }
   },
   "id": "5aa05f1c"
  },
  {
   "cell_type": "code",
   "execution_count": 13,
   "id": "ec069be2",
   "metadata": {
    "ExecuteTime": {
     "end_time": "2024-04-08T15:58:13.405882Z",
     "start_time": "2024-04-08T15:58:12.487438Z"
    }
   },
   "outputs": [],
   "source": [
    "# Read the data file into a Pandas DataFrame\n",
    "df = pd.read_csv('/Users/blankajarmoszko/PycharmProjects/thesis/data/df_cleaned.csv')"
   ]
  },
  {
   "cell_type": "code",
   "execution_count": 14,
   "id": "7645b39e",
   "metadata": {
    "scrolled": true,
    "ExecuteTime": {
     "end_time": "2024-04-08T15:58:13.412172Z",
     "start_time": "2024-04-08T15:58:13.409504Z"
    }
   },
   "outputs": [
    {
     "data": {
      "text/plain": "             title reviewer_name num_reviews num_followers  star_rating  \\\n0  The Stolen Heir     Emily May       2,031          310k          4.0   \n1  The Stolen Heir       jessica       2,563         42.2k          4.0   \n2  The Stolen Heir         katia         306           526          3.0   \n3  The Stolen Heir     madeline          111            18          3.0   \n4  The Stolen Heir    Haley pham          81          143k          4.0   \n\n                                         review_text num_likes  num_comments  \\\n0  Not quite The Cruel Prince but I enjoyed this ...     1,206           3.0   \n1  hmm. i didnt obsess over this one like i did w...       654           0.0   \n2  3.5 ★oak was a disappointment, but suren!! i l...     1,233           0.0   \n3  Every single mention of Oak’s hooves was a jum...     1,707           4.0   \n4  4.5 stars  star  fairy_light_skin_tone  face_h...     1,432           0.0   \n\n   sentiment                                       cleaned_text  \n0          1  quit,cruel,princ,enjoy,loti,love,back,world,lo...  \n1          1  hmm,didnt,obsess,one,like,origin,trilogywhil,e...  \n2          0  oak,disappoint,suren,love,much,cant,pretend,do...  \n3          0              everi,singl,mention,oak,hoov,jumpscar  \n4          1  star,star,fairy_light_skin_ton,face_holding_ba...  ",
      "text/html": "<div>\n<style scoped>\n    .dataframe tbody tr th:only-of-type {\n        vertical-align: middle;\n    }\n\n    .dataframe tbody tr th {\n        vertical-align: top;\n    }\n\n    .dataframe thead th {\n        text-align: right;\n    }\n</style>\n<table border=\"1\" class=\"dataframe\">\n  <thead>\n    <tr style=\"text-align: right;\">\n      <th></th>\n      <th>title</th>\n      <th>reviewer_name</th>\n      <th>num_reviews</th>\n      <th>num_followers</th>\n      <th>star_rating</th>\n      <th>review_text</th>\n      <th>num_likes</th>\n      <th>num_comments</th>\n      <th>sentiment</th>\n      <th>cleaned_text</th>\n    </tr>\n  </thead>\n  <tbody>\n    <tr>\n      <th>0</th>\n      <td>The Stolen Heir</td>\n      <td>Emily May</td>\n      <td>2,031</td>\n      <td>310k</td>\n      <td>4.0</td>\n      <td>Not quite The Cruel Prince but I enjoyed this ...</td>\n      <td>1,206</td>\n      <td>3.0</td>\n      <td>1</td>\n      <td>quit,cruel,princ,enjoy,loti,love,back,world,lo...</td>\n    </tr>\n    <tr>\n      <th>1</th>\n      <td>The Stolen Heir</td>\n      <td>jessica</td>\n      <td>2,563</td>\n      <td>42.2k</td>\n      <td>4.0</td>\n      <td>hmm. i didnt obsess over this one like i did w...</td>\n      <td>654</td>\n      <td>0.0</td>\n      <td>1</td>\n      <td>hmm,didnt,obsess,one,like,origin,trilogywhil,e...</td>\n    </tr>\n    <tr>\n      <th>2</th>\n      <td>The Stolen Heir</td>\n      <td>katia</td>\n      <td>306</td>\n      <td>526</td>\n      <td>3.0</td>\n      <td>3.5 ★oak was a disappointment, but suren!! i l...</td>\n      <td>1,233</td>\n      <td>0.0</td>\n      <td>0</td>\n      <td>oak,disappoint,suren,love,much,cant,pretend,do...</td>\n    </tr>\n    <tr>\n      <th>3</th>\n      <td>The Stolen Heir</td>\n      <td>madeline</td>\n      <td>111</td>\n      <td>18</td>\n      <td>3.0</td>\n      <td>Every single mention of Oak’s hooves was a jum...</td>\n      <td>1,707</td>\n      <td>4.0</td>\n      <td>0</td>\n      <td>everi,singl,mention,oak,hoov,jumpscar</td>\n    </tr>\n    <tr>\n      <th>4</th>\n      <td>The Stolen Heir</td>\n      <td>Haley pham</td>\n      <td>81</td>\n      <td>143k</td>\n      <td>4.0</td>\n      <td>4.5 stars  star  fairy_light_skin_tone  face_h...</td>\n      <td>1,432</td>\n      <td>0.0</td>\n      <td>1</td>\n      <td>star,star,fairy_light_skin_ton,face_holding_ba...</td>\n    </tr>\n  </tbody>\n</table>\n</div>"
     },
     "execution_count": 14,
     "metadata": {},
     "output_type": "execute_result"
    }
   ],
   "source": [
    "df.head()"
   ]
  },
  {
   "cell_type": "code",
   "execution_count": 15,
   "id": "82e706d5",
   "metadata": {
    "ExecuteTime": {
     "end_time": "2024-04-08T15:58:13.492162Z",
     "start_time": "2024-04-08T15:58:13.428436Z"
    }
   },
   "outputs": [
    {
     "name": "stdout",
     "output_type": "stream",
     "text": [
      "Number of rows per star rating:\n",
      "sentiment\n",
      "2    17996\n",
      "1    14874\n",
      "0    13876\n",
      "Name: count, dtype: int64\n"
     ]
    },
    {
     "data": {
      "text/plain": "<Figure size 640x480 with 1 Axes>",
      "image/png": "[encoded data removed]"
     },
     "metadata": {},
     "output_type": "display_data"
    }
   ],
   "source": [
    "# Function to map stars to sentiment\n",
    "def map_sentiment(stars_received):\n",
    "    if stars_received <= 3:\n",
    "        return 0\n",
    "    elif stars_received <= 4:\n",
    "        return 1\n",
    "    else:\n",
    "        return 2\n",
    "# Mapping stars to sentiment into three categories\n",
    "df['sentiment'] = [ map_sentiment(x) for x in df['star_rating']]\n",
    "print(\"Number of rows per star rating:\")\n",
    "print(df['sentiment'].value_counts())\n",
    "\n",
    "# Plotting the sentiment distribution\n",
    "plt.figure()\n",
    "pd.value_counts(df['sentiment']).plot.bar(title=\"Sentiment distribution in df\")\n",
    "plt.xlabel(\"Sentiment\")\n",
    "plt.ylabel(\"No. of rows in df\")\n",
    "plt.show()"
   ]
  },
  {
   "cell_type": "code",
   "execution_count": 16,
   "id": "f123973c",
   "metadata": {
    "ExecuteTime": {
     "end_time": "2024-04-08T15:58:14.478407Z",
     "start_time": "2024-04-08T15:58:14.475116Z"
    }
   },
   "outputs": [
    {
     "data": {
      "text/plain": "             title reviewer_name num_reviews num_followers  star_rating  \\\n0  The Stolen Heir     Emily May       2,031          310k          4.0   \n1  The Stolen Heir       jessica       2,563         42.2k          4.0   \n2  The Stolen Heir         katia         306           526          3.0   \n3  The Stolen Heir     madeline          111            18          3.0   \n4  The Stolen Heir    Haley pham          81          143k          4.0   \n\n                                         review_text num_likes  num_comments  \\\n0  Not quite The Cruel Prince but I enjoyed this ...     1,206           3.0   \n1  hmm. i didnt obsess over this one like i did w...       654           0.0   \n2  3.5 ★oak was a disappointment, but suren!! i l...     1,233           0.0   \n3  Every single mention of Oak’s hooves was a jum...     1,707           4.0   \n4  4.5 stars  star  fairy_light_skin_tone  face_h...     1,432           0.0   \n\n   sentiment                                       cleaned_text  \n0          1  quit,cruel,princ,enjoy,loti,love,back,world,lo...  \n1          1  hmm,didnt,obsess,one,like,origin,trilogywhil,e...  \n2          0  oak,disappoint,suren,love,much,cant,pretend,do...  \n3          0              everi,singl,mention,oak,hoov,jumpscar  \n4          1  star,star,fairy_light_skin_ton,face_holding_ba...  ",
      "text/html": "<div>\n<style scoped>\n    .dataframe tbody tr th:only-of-type {\n        vertical-align: middle;\n    }\n\n    .dataframe tbody tr th {\n        vertical-align: top;\n    }\n\n    .dataframe thead th {\n        text-align: right;\n    }\n</style>\n<table border=\"1\" class=\"dataframe\">\n  <thead>\n    <tr style=\"text-align: right;\">\n      <th></th>\n      <th>title</th>\n      <th>reviewer_name</th>\n      <th>num_reviews</th>\n      <th>num_followers</th>\n      <th>star_rating</th>\n      <th>review_text</th>\n      <th>num_likes</th>\n      <th>num_comments</th>\n      <th>sentiment</th>\n      <th>cleaned_text</th>\n    </tr>\n  </thead>\n  <tbody>\n    <tr>\n      <th>0</th>\n      <td>The Stolen Heir</td>\n      <td>Emily May</td>\n      <td>2,031</td>\n      <td>310k</td>\n      <td>4.0</td>\n      <td>Not quite The Cruel Prince but I enjoyed this ...</td>\n      <td>1,206</td>\n      <td>3.0</td>\n      <td>1</td>\n      <td>quit,cruel,princ,enjoy,loti,love,back,world,lo...</td>\n    </tr>\n    <tr>\n      <th>1</th>\n      <td>The Stolen Heir</td>\n      <td>jessica</td>\n      <td>2,563</td>\n      <td>42.2k</td>\n      <td>4.0</td>\n      <td>hmm. i didnt obsess over this one like i did w...</td>\n      <td>654</td>\n      <td>0.0</td>\n      <td>1</td>\n      <td>hmm,didnt,obsess,one,like,origin,trilogywhil,e...</td>\n    </tr>\n    <tr>\n      <th>2</th>\n      <td>The Stolen Heir</td>\n      <td>katia</td>\n      <td>306</td>\n      <td>526</td>\n      <td>3.0</td>\n      <td>3.5 ★oak was a disappointment, but suren!! i l...</td>\n      <td>1,233</td>\n      <td>0.0</td>\n      <td>0</td>\n      <td>oak,disappoint,suren,love,much,cant,pretend,do...</td>\n    </tr>\n    <tr>\n      <th>3</th>\n      <td>The Stolen Heir</td>\n      <td>madeline</td>\n      <td>111</td>\n      <td>18</td>\n      <td>3.0</td>\n      <td>Every single mention of Oak’s hooves was a jum...</td>\n      <td>1,707</td>\n      <td>4.0</td>\n      <td>0</td>\n      <td>everi,singl,mention,oak,hoov,jumpscar</td>\n    </tr>\n    <tr>\n      <th>4</th>\n      <td>The Stolen Heir</td>\n      <td>Haley pham</td>\n      <td>81</td>\n      <td>143k</td>\n      <td>4.0</td>\n      <td>4.5 stars  star  fairy_light_skin_tone  face_h...</td>\n      <td>1,432</td>\n      <td>0.0</td>\n      <td>1</td>\n      <td>star,star,fairy_light_skin_ton,face_holding_ba...</td>\n    </tr>\n  </tbody>\n</table>\n</div>"
     },
     "execution_count": 16,
     "metadata": {},
     "output_type": "execute_result"
    }
   ],
   "source": [
    "df.head()"
   ]
  },
  {
   "cell_type": "code",
   "execution_count": 17,
   "id": "d95efa53",
   "metadata": {
    "ExecuteTime": {
     "end_time": "2024-04-08T15:58:15.022987Z",
     "start_time": "2024-04-08T15:58:15.018516Z"
    }
   },
   "outputs": [],
   "source": [
    "# Drop rows with NaN values in the 'cleaned_text' column\n",
    "df = df.dropna(subset=['cleaned_text'])\n",
    "\n",
    "# Reset index after removing rows\n",
    "df.reset_index(drop=True, inplace=True)"
   ]
  },
  {
   "cell_type": "code",
   "execution_count": 18,
   "id": "705de8d6",
   "metadata": {
    "ExecuteTime": {
     "end_time": "2024-04-08T15:58:15.298069Z",
     "start_time": "2024-04-08T15:58:15.275366Z"
    }
   },
   "outputs": [],
   "source": [
    "# Split the dataset into training and testing sets\n",
    "train_data, test_data, train_labels, test_labels = train_test_split(df['cleaned_text'], df['sentiment'], test_size=0.2, random_state=42)\n"
   ]
  },
  {
   "cell_type": "code",
   "execution_count": 19,
   "outputs": [
    {
     "data": {
      "text/plain": "             title reviewer_name num_reviews num_followers  star_rating  \\\n0  The Stolen Heir     Emily May       2,031          310k          4.0   \n1  The Stolen Heir       jessica       2,563         42.2k          4.0   \n2  The Stolen Heir         katia         306           526          3.0   \n3  The Stolen Heir     madeline          111            18          3.0   \n4  The Stolen Heir    Haley pham          81          143k          4.0   \n\n                                         review_text num_likes  num_comments  \\\n0  Not quite The Cruel Prince but I enjoyed this ...     1,206           3.0   \n1  hmm. i didnt obsess over this one like i did w...       654           0.0   \n2  3.5 ★oak was a disappointment, but suren!! i l...     1,233           0.0   \n3  Every single mention of Oak’s hooves was a jum...     1,707           4.0   \n4  4.5 stars  star  fairy_light_skin_tone  face_h...     1,432           0.0   \n\n   sentiment                                       cleaned_text  \n0          1  quit,cruel,princ,enjoy,loti,love,back,world,lo...  \n1          1  hmm,didnt,obsess,one,like,origin,trilogywhil,e...  \n2          0  oak,disappoint,suren,love,much,cant,pretend,do...  \n3          0              everi,singl,mention,oak,hoov,jumpscar  \n4          1  star,star,fairy_light_skin_ton,face_holding_ba...  ",
      "text/html": "<div>\n<style scoped>\n    .dataframe tbody tr th:only-of-type {\n        vertical-align: middle;\n    }\n\n    .dataframe tbody tr th {\n        vertical-align: top;\n    }\n\n    .dataframe thead th {\n        text-align: right;\n    }\n</style>\n<table border=\"1\" class=\"dataframe\">\n  <thead>\n    <tr style=\"text-align: right;\">\n      <th></th>\n      <th>title</th>\n      <th>reviewer_name</th>\n      <th>num_reviews</th>\n      <th>num_followers</th>\n      <th>star_rating</th>\n      <th>review_text</th>\n      <th>num_likes</th>\n      <th>num_comments</th>\n      <th>sentiment</th>\n      <th>cleaned_text</th>\n    </tr>\n  </thead>\n  <tbody>\n    <tr>\n      <th>0</th>\n      <td>The Stolen Heir</td>\n      <td>Emily May</td>\n      <td>2,031</td>\n      <td>310k</td>\n      <td>4.0</td>\n      <td>Not quite The Cruel Prince but I enjoyed this ...</td>\n      <td>1,206</td>\n      <td>3.0</td>\n      <td>1</td>\n      <td>quit,cruel,princ,enjoy,loti,love,back,world,lo...</td>\n    </tr>\n    <tr>\n      <th>1</th>\n      <td>The Stolen Heir</td>\n      <td>jessica</td>\n      <td>2,563</td>\n      <td>42.2k</td>\n      <td>4.0</td>\n      <td>hmm. i didnt obsess over this one like i did w...</td>\n      <td>654</td>\n      <td>0.0</td>\n      <td>1</td>\n      <td>hmm,didnt,obsess,one,like,origin,trilogywhil,e...</td>\n    </tr>\n    <tr>\n      <th>2</th>\n      <td>The Stolen Heir</td>\n      <td>katia</td>\n      <td>306</td>\n      <td>526</td>\n      <td>3.0</td>\n      <td>3.5 ★oak was a disappointment, but suren!! i l...</td>\n      <td>1,233</td>\n      <td>0.0</td>\n      <td>0</td>\n      <td>oak,disappoint,suren,love,much,cant,pretend,do...</td>\n    </tr>\n    <tr>\n      <th>3</th>\n      <td>The Stolen Heir</td>\n      <td>madeline</td>\n      <td>111</td>\n      <td>18</td>\n      <td>3.0</td>\n      <td>Every single mention of Oak’s hooves was a jum...</td>\n      <td>1,707</td>\n      <td>4.0</td>\n      <td>0</td>\n      <td>everi,singl,mention,oak,hoov,jumpscar</td>\n    </tr>\n    <tr>\n      <th>4</th>\n      <td>The Stolen Heir</td>\n      <td>Haley pham</td>\n      <td>81</td>\n      <td>143k</td>\n      <td>4.0</td>\n      <td>4.5 stars  star  fairy_light_skin_tone  face_h...</td>\n      <td>1,432</td>\n      <td>0.0</td>\n      <td>1</td>\n      <td>star,star,fairy_light_skin_ton,face_holding_ba...</td>\n    </tr>\n  </tbody>\n</table>\n</div>"
     },
     "execution_count": 19,
     "metadata": {},
     "output_type": "execute_result"
    }
   ],
   "source": [
    "df.head()"
   ],
   "metadata": {
    "collapsed": false,
    "ExecuteTime": {
     "end_time": "2024-04-08T15:58:15.700810Z",
     "start_time": "2024-04-08T15:58:15.696118Z"
    }
   },
   "id": "cd6a37b288335836"
  },
  {
   "cell_type": "code",
   "execution_count": 20,
   "id": "853a413b",
   "metadata": {
    "ExecuteTime": {
     "end_time": "2024-04-08T15:58:18.716968Z",
     "start_time": "2024-04-08T15:58:16.396942Z"
    }
   },
   "outputs": [],
   "source": [
    "# Vectorize the text using TF-IDF\n",
    "vectorizer = TfidfVectorizer()\n",
    "X_train_tfidf = vectorizer.fit_transform(train_data)\n",
    "X_test_tfidf = vectorizer.transform(test_data)"
   ]
  },
  {
   "cell_type": "markdown",
   "source": [
    "## Naive Bayes "
   ],
   "metadata": {
    "collapsed": false
   },
   "id": "cf3f0f62"
  },
  {
   "cell_type": "markdown",
   "source": [
    "### Naive Bayes with tfidf"
   ],
   "metadata": {
    "collapsed": false
   },
   "id": "0f4dd492"
  },
  {
   "cell_type": "code",
   "execution_count": 21,
   "outputs": [
    {
     "name": "stdout",
     "output_type": "stream",
     "text": [
      "Test Accuracy: 0.5040249007191155\n",
      "              precision    recall  f1-score   support\n",
      "\n",
      "           0       0.86      0.36      0.51      2767\n",
      "           1       0.49      0.08      0.14      2941\n",
      "           2       0.45      0.96      0.61      3609\n",
      "\n",
      "    accuracy                           0.50      9317\n",
      "   macro avg       0.60      0.47      0.42      9317\n",
      "weighted avg       0.58      0.50      0.43      9317\n",
      "\n",
      "Train Accuracy: 0.5835837716003005\n",
      "              precision    recall  f1-score   support\n",
      "\n",
      "           0       0.92      0.48      0.63     11034\n",
      "           1       0.80      0.20      0.32     11868\n",
      "           2       0.49      0.98      0.66     14366\n",
      "\n",
      "    accuracy                           0.58     37268\n",
      "   macro avg       0.74      0.55      0.54     37268\n",
      "weighted avg       0.72      0.58      0.54     37268\n"
     ]
    }
   ],
   "source": [
    "# Train a Naive Bayes classifier\n",
    "naive_bayes_model = MultinomialNB()\n",
    "naive_bayes_model.fit(X_train_tfidf, train_labels)\n",
    "\n",
    "# Make predictions on the test set\n",
    "test_predictions = naive_bayes_model.predict(X_test_tfidf)\n",
    "# Evaluate the model\n",
    "test_accuracy = accuracy_score(test_labels, test_predictions)\n",
    "print(f\"Test Accuracy: {test_accuracy}\")\n",
    "print(classification_report(test_labels, test_predictions))\n",
    "\n",
    "# Make predictions on the train set\n",
    "train_predictions = naive_bayes_model.predict(X_train_tfidf)\n",
    "# Evaluate the model\n",
    "train_accuracy = accuracy_score(train_labels, train_predictions)\n",
    "print(f\"Train Accuracy: {train_accuracy}\")\n",
    "print(classification_report(train_labels, train_predictions))"
   ],
   "metadata": {
    "collapsed": false,
    "ExecuteTime": {
     "end_time": "2024-04-08T15:59:00.065531Z",
     "start_time": "2024-04-08T15:58:59.966487Z"
    }
   },
   "id": "f2d26a11"
  },
  {
   "cell_type": "markdown",
   "source": [
    "## Logistic Regression"
   ],
   "metadata": {
    "collapsed": false
   },
   "id": "5f812581"
  },
  {
   "cell_type": "markdown",
   "source": [
    "### Logistic Regression w/ tfidf"
   ],
   "metadata": {
    "collapsed": false
   },
   "id": "a52630ed"
  },
  {
   "cell_type": "code",
   "execution_count": 22,
   "outputs": [
    {
     "name": "stdout",
     "output_type": "stream",
     "text": [
      "Test Accuracy: 0.6389395728238704\n",
      "              precision    recall  f1-score   support\n",
      "\n",
      "           0       0.74      0.71      0.72      2767\n",
      "           1       0.53      0.48      0.50      2941\n",
      "           2       0.65      0.72      0.68      3609\n",
      "\n",
      "    accuracy                           0.64      9317\n",
      "   macro avg       0.64      0.63      0.63      9317\n",
      "weighted avg       0.64      0.64      0.64      9317\n",
      "\n",
      "Train Accuracy: 0.8043093270365997\n",
      "              precision    recall  f1-score   support\n",
      "\n",
      "           0       0.86      0.83      0.84     11034\n",
      "           1       0.77      0.71      0.74     11868\n",
      "           2       0.79      0.87      0.83     14366\n",
      "\n",
      "    accuracy                           0.80     37268\n",
      "   macro avg       0.81      0.80      0.80     37268\n",
      "weighted avg       0.80      0.80      0.80     37268\n"
     ]
    }
   ],
   "source": [
    "# Train a Logistic Regression classifier\n",
    "logistic_regression_model= LogisticRegression()\n",
    "logistic_regression_model.fit(X_train_tfidf, train_labels)\n",
    "\n",
    "# Make predictions on the test set\n",
    "test_predictions = logistic_regression_model.predict(X_test_tfidf)\n",
    "# Evaluate the model\n",
    "test_accuracy = accuracy_score(test_labels, test_predictions)\n",
    "print(f\"Test Accuracy: {test_accuracy}\")\n",
    "print(classification_report(test_labels, test_predictions))\n",
    "\n",
    "# Make predictions on the train set\n",
    "train_predictions = logistic_regression_model.predict(X_train_tfidf)\n",
    "# Evaluate the model\n",
    "train_accuracy = accuracy_score(train_labels, train_predictions)\n",
    "print(f\"Train Accuracy: {train_accuracy}\")\n",
    "print(classification_report(train_labels, train_predictions))"
   ],
   "metadata": {
    "collapsed": false,
    "ExecuteTime": {
     "end_time": "2024-04-08T15:59:24.982904Z",
     "start_time": "2024-04-08T15:59:18.117641Z"
    }
   },
   "id": "3a650a07"
  },
  {
   "cell_type": "markdown",
   "id": "e996b185",
   "metadata": {},
   "source": [
    "## Random Forest"
   ]
  },
  {
   "cell_type": "markdown",
   "id": "1f4069e7",
   "metadata": {},
   "source": [
    "### Random Forrest witb tfidf"
   ]
  },
  {
   "cell_type": "code",
   "execution_count": 24,
   "id": "13fed21b",
   "metadata": {
    "ExecuteTime": {
     "end_time": "2024-04-08T16:01:11.683182Z",
     "start_time": "2024-04-08T16:01:03.679647Z"
    }
   },
   "outputs": [
    {
     "name": "stdout",
     "output_type": "stream",
     "text": [
      "\n",
      "Test Set:\n",
      "Test Accuracy: 0.5876355049908769\n",
      "              precision    recall  f1-score   support\n",
      "\n",
      "           0       0.73      0.61      0.66      2767\n",
      "           1       0.54      0.22      0.31      2941\n",
      "           2       0.54      0.87      0.67      3609\n",
      "\n",
      "    accuracy                           0.59      9317\n",
      "   macro avg       0.60      0.57      0.55      9317\n",
      "weighted avg       0.60      0.59      0.55      9317\n",
      "Train Set:\n",
      "Train Accuracy: 0.8317591499409681\n",
      "              precision    recall  f1-score   support\n",
      "\n",
      "           0       0.92      0.81      0.86     11034\n",
      "           1       0.94      0.67      0.78     11868\n",
      "           2       0.74      0.98      0.84     14366\n",
      "\n",
      "    accuracy                           0.83     37268\n",
      "   macro avg       0.87      0.82      0.83     37268\n",
      "weighted avg       0.86      0.83      0.83     37268\n"
     ]
    }
   ],
   "source": [
    "from sklearn.ensemble import RandomForestClassifier\n",
    "# Build the Random Forest model\n",
    "# Best Parameters: {'n_estimators': 75, 'min_samples_split': 10, 'min_samples_leaf': 4, 'max_features': 'sqrt', 'max_depth': None}\n",
    "random_forest_model = RandomForestClassifier(n_estimators=75, min_samples_split=10, min_samples_leaf= 4, max_features= 'sqrt', max_depth= None, random_state=42)\n",
    "\n",
    "# Train the model\n",
    "random_forest_model.fit(X_train_tfidf, train_labels)\n",
    "\n",
    "# Make predictions on the train set\n",
    "test_predictions = random_forest_model.predict(X_test_tfidf)\n",
    "# Evaluate the model on the test set\n",
    "test_accuracy = accuracy_score(test_labels, test_predictions)\n",
    "print(\"\\nTest Set:\")\n",
    "print(f\"Test Accuracy: {test_accuracy}\")\n",
    "print(classification_report(test_labels, test_predictions))\n",
    "\n",
    "# Make predictions on the train set\n",
    "train_predictions = random_forest_model.predict(X_train_tfidf)\n",
    "\n",
    "# Evaluate the model on the train set\n",
    "train_accuracy = accuracy_score(train_labels, train_predictions)\n",
    "print(\"Train Set:\")\n",
    "print(f\"Train Accuracy: {train_accuracy}\")\n",
    "print(classification_report(train_labels, train_predictions))"
   ]
  },
  {
   "cell_type": "markdown",
   "source": [
    "### AdaBoost Model"
   ],
   "metadata": {
    "collapsed": false
   },
   "id": "907656216bb763f2"
  },
  {
   "cell_type": "code",
   "execution_count": 25,
   "outputs": [
    {
     "name": "stdout",
     "output_type": "stream",
     "text": [
      "Training Set:\n",
      "Classification Report:\n",
      "              precision    recall  f1-score   support\n",
      "\n",
      "           0       0.76      0.62      0.68     11034\n",
      "           1       0.51      0.41      0.45     11868\n",
      "           2       0.59      0.77      0.67     14366\n",
      "\n",
      "    accuracy                           0.61     37268\n",
      "   macro avg       0.62      0.60      0.60     37268\n",
      "weighted avg       0.62      0.61      0.60     37268\n",
      "\n",
      "Confusion Matrix:\n",
      "[[ 6847  2042  2145]\n",
      " [ 1478  4842  5548]\n",
      " [  645  2629 11092]]\n",
      "\n",
      "Test Set:\n",
      "Classification Report:\n",
      "              precision    recall  f1-score   support\n",
      "\n",
      "           0       0.71      0.59      0.64      2767\n",
      "           1       0.48      0.38      0.42      2941\n",
      "           2       0.58      0.76      0.66      3609\n",
      "\n",
      "    accuracy                           0.59      9317\n",
      "   macro avg       0.59      0.57      0.57      9317\n",
      "weighted avg       0.59      0.59      0.58      9317\n",
      "\n",
      "Confusion Matrix:\n",
      "[[1621  554  592]\n",
      " [ 468 1117 1356]\n",
      " [ 207  662 2740]]\n"
     ]
    }
   ],
   "source": [
    "from sklearn.ensemble import AdaBoostClassifier\n",
    "from sklearn.tree import DecisionTreeClassifier\n",
    "from sklearn.model_selection import GridSearchCV\n",
    "# Define a shallow decision tree as the base estimator\n",
    "base_estimator = DecisionTreeClassifier(max_depth=3)\n",
    "\n",
    "# Reduce the number of estimators to make training faster\n",
    "ada_classifier = AdaBoostClassifier( base_estimator, n_estimators=50, learning_rate= 0.5)\n",
    "\n",
    "# Fit the classifier\n",
    "ada_classifier.fit(X_train_tfidf, train_labels)\n",
    "\n",
    "# Predictions on training set\n",
    "train_preds = ada_classifier.predict(X_train_tfidf)\n",
    "\n",
    "# Predictions on test set\n",
    "test_preds = ada_classifier.predict(X_test_tfidf)\n",
    "\n",
    "# Classification report and confusion matrix for training set\n",
    "print(\"Training Set:\")\n",
    "print(\"Classification Report:\")\n",
    "print(classification_report(train_labels, train_preds))\n",
    "print(\"Confusion Matrix:\")\n",
    "print(confusion_matrix(train_labels, train_preds))\n",
    "\n",
    "# Classification report and confusion matrix for test set\n",
    "print(\"\\nTest Set:\")\n",
    "print(\"Classification Report:\")\n",
    "print(classification_report(test_labels, test_preds))\n",
    "print(\"Confusion Matrix:\")\n",
    "print(confusion_matrix(test_labels, test_preds))"
   ],
   "metadata": {
    "collapsed": false,
    "ExecuteTime": {
     "end_time": "2024-04-08T16:02:28.727864Z",
     "start_time": "2024-04-08T16:01:20.889757Z"
    }
   },
   "id": "8854fcbbdb45decb"
  },
  {
   "cell_type": "markdown",
   "source": [
    "### KNN"
   ],
   "metadata": {
    "collapsed": false
   },
   "id": "bea10b32a8691f13"
  },
  {
   "cell_type": "code",
   "execution_count": 26,
   "outputs": [
    {
     "name": "stdout",
     "output_type": "stream",
     "text": [
      "Training Set:\n",
      "Classification Report:\n",
      "              precision    recall  f1-score   support\n",
      "\n",
      "           0       0.63      0.69      0.66     11034\n",
      "           1       0.58      0.59      0.59     11868\n",
      "           2       0.71      0.65      0.68     14366\n",
      "\n",
      "    accuracy                           0.64     37268\n",
      "   macro avg       0.64      0.64      0.64     37268\n",
      "weighted avg       0.65      0.64      0.64     37268\n",
      "\n",
      "Confusion Matrix:\n",
      "[[7610 1974 1450]\n",
      " [2393 7016 2459]\n",
      " [1991 3028 9347]]\n",
      "\n",
      "Test Set:\n",
      "Classification Report:\n",
      "              precision    recall  f1-score   support\n",
      "\n",
      "           0       0.48      0.52      0.50      2767\n",
      "           1       0.38      0.40      0.39      2941\n",
      "           2       0.52      0.48      0.50      3609\n",
      "\n",
      "    accuracy                           0.46      9317\n",
      "   macro avg       0.46      0.46      0.46      9317\n",
      "weighted avg       0.47      0.46      0.46      9317\n",
      "\n",
      "Confusion Matrix:\n",
      "[[1427  749  591]\n",
      " [ 798 1177  966]\n",
      " [ 760 1132 1717]]\n"
     ]
    }
   ],
   "source": [
    "from sklearn.neighbors import KNeighborsClassifier\n",
    "\n",
    "# Define the KNN classifier with default parameters\n",
    "knn_classifier = KNeighborsClassifier()\n",
    "\n",
    "# Fit the KNN classifier to the training data\n",
    "knn_classifier.fit(X_train_tfidf, train_labels)\n",
    "\n",
    "# Predictions on training set\n",
    "train_preds = knn_classifier.predict(X_train_tfidf)\n",
    "\n",
    "# Predictions on test set\n",
    "test_preds = knn_classifier.predict(X_test_tfidf)\n",
    "\n",
    "# Classification report and confusion matrix for training set\n",
    "print(\"Training Set:\")\n",
    "print(\"Classification Report:\")\n",
    "print(classification_report(train_labels, train_preds))\n",
    "print(\"Confusion Matrix:\")\n",
    "print(confusion_matrix(train_labels, train_preds))\n",
    "\n",
    "# Classification report and confusion matrix for test set\n",
    "print(\"\\nTest Set:\")\n",
    "print(\"Classification Report:\")\n",
    "print(classification_report(test_labels, test_preds))\n",
    "print(\"Confusion Matrix:\")\n",
    "print(confusion_matrix(test_labels, test_preds))"
   ],
   "metadata": {
    "collapsed": false,
    "ExecuteTime": {
     "end_time": "2024-04-08T16:03:38.918709Z",
     "start_time": "2024-04-08T16:02:28.729805Z"
    }
   },
   "id": "cc2317239ab54356"
  },
  {
   "cell_type": "markdown",
   "source": [],
   "metadata": {
    "collapsed": false
   },
   "id": "2af0058d6bea5a94"
  },
  {
   "cell_type": "markdown",
   "source": [
    "# Build Ensamble Model"
   ],
   "metadata": {
    "collapsed": false
   },
   "id": "433d34b1291bdb66"
  },
  {
   "cell_type": "markdown",
   "source": [
    "### Voting Model"
   ],
   "metadata": {
    "collapsed": false
   },
   "id": "e1aef7932c35198f"
  },
  {
   "cell_type": "code",
   "execution_count": 27,
   "outputs": [
    {
     "name": "stdout",
     "output_type": "stream",
     "text": [
      "Mean Cross-Validation Accuracy: 0.6169903724731508\n"
     ]
    }
   ],
   "source": [
    "from sklearn.ensemble import VotingClassifier\n",
    "from sklearn.model_selection import cross_val_score\n",
    "\n",
    "# Assuming you have already trained your base models (e.g., logistic regression, random forest, etc.)\n",
    "# Replace base_model1, base_model2, ... with your actual trained models\n",
    "\n",
    "# Define a list of tuples containing the name and the trained base model\n",
    "# Example: [('model1', base_model1), ('model2', base_model2), ...]\n",
    "models = [('Logistic Regression', logistic_regression_model),\n",
    "          ('Random Forest', random_forest_model),\n",
    "          ('AdaBoost', ada_classifier),\n",
    "          ('KNN', knn_classifier)]\n",
    "\n",
    "# Create the voting classifier\n",
    "voting_classifier = VotingClassifier(estimators=models, voting='hard')  # or 'soft' for soft voting\n",
    "\n",
    "# Evaluate the voting classifier using cross-validation\n",
    "scores = cross_val_score(voting_classifier, X_train_tfidf, train_labels, cv=5)\n",
    "\n",
    "# Print the mean cross-validation accuracy\n",
    "print(\"Mean Cross-Validation Accuracy:\", scores.mean())"
   ],
   "metadata": {
    "collapsed": false,
    "ExecuteTime": {
     "end_time": "2024-04-08T16:32:31.870150Z",
     "start_time": "2024-04-08T16:05:59.486711Z"
    }
   },
   "id": "7b6d4720752ccec8"
  },
  {
   "cell_type": "code",
   "execution_count": 28,
   "outputs": [
    {
     "name": "stdout",
     "output_type": "stream",
     "text": [
      "Test Accuracy: 0.6291724804121498\n",
      "Classification Report:\n",
      "              precision    recall  f1-score   support\n",
      "\n",
      "           0       0.72      0.71      0.71      2767\n",
      "           1       0.53      0.42      0.47      2941\n",
      "           2       0.63      0.73      0.68      3609\n",
      "\n",
      "    accuracy                           0.63      9317\n",
      "   macro avg       0.62      0.62      0.62      9317\n",
      "weighted avg       0.62      0.63      0.62      9317\n"
     ]
    }
   ],
   "source": [
    "# Train the voting classifier on the entire training dataset\n",
    "voting_classifier.fit(X_train_tfidf, train_labels)\n",
    "\n",
    "# Use the trained classifier to make predictions on the test data\n",
    "test_predictions = voting_classifier.predict(X_test_tfidf)\n",
    "\n",
    "# Evaluate performance using accuracy\n",
    "test_accuracy = accuracy_score(test_labels, test_predictions)\n",
    "print(\"Test Accuracy:\", test_accuracy)\n",
    "\n",
    "# Evaluate performance using classification report (which includes precision, recall, F1-score, and support)\n",
    "print(\"Classification Report:\")\n",
    "print(classification_report(test_labels, test_predictions))\n"
   ],
   "metadata": {
    "collapsed": false,
    "ExecuteTime": {
     "end_time": "2024-04-08T16:34:02.431659Z",
     "start_time": "2024-04-08T16:32:31.880318Z"
    }
   },
   "id": "9100251feaa347b0"
  },
  {
   "cell_type": "code",
   "execution_count": 31,
   "outputs": [
    {
     "ename": "ValueError",
     "evalue": "Found input variables with inconsistent numbers of samples: [37268, 9317]",
     "output_type": "error",
     "traceback": [
      "\u001B[0;31m---------------------------------------------------------------------------\u001B[0m",
      "\u001B[0;31mValueError\u001B[0m                                Traceback (most recent call last)",
      "Cell \u001B[0;32mIn[31], line 8\u001B[0m\n\u001B[1;32m      5\u001B[0m train_predictions \u001B[38;5;241m=\u001B[39m voting_classifier\u001B[38;5;241m.\u001B[39mpredict(X_test_tfidf)\n\u001B[1;32m      7\u001B[0m \u001B[38;5;66;03m# Evaluate performance using accuracy\u001B[39;00m\n\u001B[0;32m----> 8\u001B[0m train_accuracy \u001B[38;5;241m=\u001B[39m \u001B[43maccuracy_score\u001B[49m\u001B[43m(\u001B[49m\u001B[43mtrain_labels\u001B[49m\u001B[43m,\u001B[49m\u001B[43m \u001B[49m\u001B[43mtrain_predictions\u001B[49m\u001B[43m)\u001B[49m\n\u001B[1;32m      9\u001B[0m \u001B[38;5;28mprint\u001B[39m(\u001B[38;5;124m\"\u001B[39m\u001B[38;5;124mTrain Accuracy:\u001B[39m\u001B[38;5;124m\"\u001B[39m, train_accuracy)\n\u001B[1;32m     11\u001B[0m \u001B[38;5;66;03m# Evaluate performance using classification report (which includes precision, recall, F1-score, and support)\u001B[39;00m\n",
      "File \u001B[0;32m~/PycharmProjects/thesis/venv/lib/python3.10/site-packages/sklearn/utils/_param_validation.py:213\u001B[0m, in \u001B[0;36mvalidate_params.<locals>.decorator.<locals>.wrapper\u001B[0;34m(*args, **kwargs)\u001B[0m\n\u001B[1;32m    207\u001B[0m \u001B[38;5;28;01mtry\u001B[39;00m:\n\u001B[1;32m    208\u001B[0m     \u001B[38;5;28;01mwith\u001B[39;00m config_context(\n\u001B[1;32m    209\u001B[0m         skip_parameter_validation\u001B[38;5;241m=\u001B[39m(\n\u001B[1;32m    210\u001B[0m             prefer_skip_nested_validation \u001B[38;5;129;01mor\u001B[39;00m global_skip_validation\n\u001B[1;32m    211\u001B[0m         )\n\u001B[1;32m    212\u001B[0m     ):\n\u001B[0;32m--> 213\u001B[0m         \u001B[38;5;28;01mreturn\u001B[39;00m \u001B[43mfunc\u001B[49m\u001B[43m(\u001B[49m\u001B[38;5;241;43m*\u001B[39;49m\u001B[43margs\u001B[49m\u001B[43m,\u001B[49m\u001B[43m \u001B[49m\u001B[38;5;241;43m*\u001B[39;49m\u001B[38;5;241;43m*\u001B[39;49m\u001B[43mkwargs\u001B[49m\u001B[43m)\u001B[49m\n\u001B[1;32m    214\u001B[0m \u001B[38;5;28;01mexcept\u001B[39;00m InvalidParameterError \u001B[38;5;28;01mas\u001B[39;00m e:\n\u001B[1;32m    215\u001B[0m     \u001B[38;5;66;03m# When the function is just a wrapper around an estimator, we allow\u001B[39;00m\n\u001B[1;32m    216\u001B[0m     \u001B[38;5;66;03m# the function to delegate validation to the estimator, but we replace\u001B[39;00m\n\u001B[1;32m    217\u001B[0m     \u001B[38;5;66;03m# the name of the estimator by the name of the function in the error\u001B[39;00m\n\u001B[1;32m    218\u001B[0m     \u001B[38;5;66;03m# message to avoid confusion.\u001B[39;00m\n\u001B[1;32m    219\u001B[0m     msg \u001B[38;5;241m=\u001B[39m re\u001B[38;5;241m.\u001B[39msub(\n\u001B[1;32m    220\u001B[0m         \u001B[38;5;124mr\u001B[39m\u001B[38;5;124m\"\u001B[39m\u001B[38;5;124mparameter of \u001B[39m\u001B[38;5;124m\\\u001B[39m\u001B[38;5;124mw+ must be\u001B[39m\u001B[38;5;124m\"\u001B[39m,\n\u001B[1;32m    221\u001B[0m         \u001B[38;5;124mf\u001B[39m\u001B[38;5;124m\"\u001B[39m\u001B[38;5;124mparameter of \u001B[39m\u001B[38;5;132;01m{\u001B[39;00mfunc\u001B[38;5;241m.\u001B[39m\u001B[38;5;18m__qualname__\u001B[39m\u001B[38;5;132;01m}\u001B[39;00m\u001B[38;5;124m must be\u001B[39m\u001B[38;5;124m\"\u001B[39m,\n\u001B[1;32m    222\u001B[0m         \u001B[38;5;28mstr\u001B[39m(e),\n\u001B[1;32m    223\u001B[0m     )\n",
      "File \u001B[0;32m~/PycharmProjects/thesis/venv/lib/python3.10/site-packages/sklearn/metrics/_classification.py:213\u001B[0m, in \u001B[0;36maccuracy_score\u001B[0;34m(y_true, y_pred, normalize, sample_weight)\u001B[0m\n\u001B[1;32m    147\u001B[0m \u001B[38;5;250m\u001B[39m\u001B[38;5;124;03m\"\"\"Accuracy classification score.\u001B[39;00m\n\u001B[1;32m    148\u001B[0m \n\u001B[1;32m    149\u001B[0m \u001B[38;5;124;03mIn multilabel classification, this function computes subset accuracy:\u001B[39;00m\n\u001B[0;32m   (...)\u001B[0m\n\u001B[1;32m    209\u001B[0m \u001B[38;5;124;03m0.5\u001B[39;00m\n\u001B[1;32m    210\u001B[0m \u001B[38;5;124;03m\"\"\"\u001B[39;00m\n\u001B[1;32m    212\u001B[0m \u001B[38;5;66;03m# Compute accuracy for each possible representation\u001B[39;00m\n\u001B[0;32m--> 213\u001B[0m y_type, y_true, y_pred \u001B[38;5;241m=\u001B[39m \u001B[43m_check_targets\u001B[49m\u001B[43m(\u001B[49m\u001B[43my_true\u001B[49m\u001B[43m,\u001B[49m\u001B[43m \u001B[49m\u001B[43my_pred\u001B[49m\u001B[43m)\u001B[49m\n\u001B[1;32m    214\u001B[0m check_consistent_length(y_true, y_pred, sample_weight)\n\u001B[1;32m    215\u001B[0m \u001B[38;5;28;01mif\u001B[39;00m y_type\u001B[38;5;241m.\u001B[39mstartswith(\u001B[38;5;124m\"\u001B[39m\u001B[38;5;124mmultilabel\u001B[39m\u001B[38;5;124m\"\u001B[39m):\n",
      "File \u001B[0;32m~/PycharmProjects/thesis/venv/lib/python3.10/site-packages/sklearn/metrics/_classification.py:85\u001B[0m, in \u001B[0;36m_check_targets\u001B[0;34m(y_true, y_pred)\u001B[0m\n\u001B[1;32m     58\u001B[0m \u001B[38;5;28;01mdef\u001B[39;00m \u001B[38;5;21m_check_targets\u001B[39m(y_true, y_pred):\n\u001B[1;32m     59\u001B[0m \u001B[38;5;250m    \u001B[39m\u001B[38;5;124;03m\"\"\"Check that y_true and y_pred belong to the same classification task.\u001B[39;00m\n\u001B[1;32m     60\u001B[0m \n\u001B[1;32m     61\u001B[0m \u001B[38;5;124;03m    This converts multiclass or binary types to a common shape, and raises a\u001B[39;00m\n\u001B[0;32m   (...)\u001B[0m\n\u001B[1;32m     83\u001B[0m \u001B[38;5;124;03m    y_pred : array or indicator matrix\u001B[39;00m\n\u001B[1;32m     84\u001B[0m \u001B[38;5;124;03m    \"\"\"\u001B[39;00m\n\u001B[0;32m---> 85\u001B[0m     \u001B[43mcheck_consistent_length\u001B[49m\u001B[43m(\u001B[49m\u001B[43my_true\u001B[49m\u001B[43m,\u001B[49m\u001B[43m \u001B[49m\u001B[43my_pred\u001B[49m\u001B[43m)\u001B[49m\n\u001B[1;32m     86\u001B[0m     type_true \u001B[38;5;241m=\u001B[39m type_of_target(y_true, input_name\u001B[38;5;241m=\u001B[39m\u001B[38;5;124m\"\u001B[39m\u001B[38;5;124my_true\u001B[39m\u001B[38;5;124m\"\u001B[39m)\n\u001B[1;32m     87\u001B[0m     type_pred \u001B[38;5;241m=\u001B[39m type_of_target(y_pred, input_name\u001B[38;5;241m=\u001B[39m\u001B[38;5;124m\"\u001B[39m\u001B[38;5;124my_pred\u001B[39m\u001B[38;5;124m\"\u001B[39m)\n",
      "File \u001B[0;32m~/PycharmProjects/thesis/venv/lib/python3.10/site-packages/sklearn/utils/validation.py:457\u001B[0m, in \u001B[0;36mcheck_consistent_length\u001B[0;34m(*arrays)\u001B[0m\n\u001B[1;32m    455\u001B[0m uniques \u001B[38;5;241m=\u001B[39m np\u001B[38;5;241m.\u001B[39munique(lengths)\n\u001B[1;32m    456\u001B[0m \u001B[38;5;28;01mif\u001B[39;00m \u001B[38;5;28mlen\u001B[39m(uniques) \u001B[38;5;241m>\u001B[39m \u001B[38;5;241m1\u001B[39m:\n\u001B[0;32m--> 457\u001B[0m     \u001B[38;5;28;01mraise\u001B[39;00m \u001B[38;5;167;01mValueError\u001B[39;00m(\n\u001B[1;32m    458\u001B[0m         \u001B[38;5;124m\"\u001B[39m\u001B[38;5;124mFound input variables with inconsistent numbers of samples: \u001B[39m\u001B[38;5;132;01m%r\u001B[39;00m\u001B[38;5;124m\"\u001B[39m\n\u001B[1;32m    459\u001B[0m         \u001B[38;5;241m%\u001B[39m [\u001B[38;5;28mint\u001B[39m(l) \u001B[38;5;28;01mfor\u001B[39;00m l \u001B[38;5;129;01min\u001B[39;00m lengths]\n\u001B[1;32m    460\u001B[0m     )\n",
      "\u001B[0;31mValueError\u001B[0m: Found input variables with inconsistent numbers of samples: [37268, 9317]"
     ]
    }
   ],
   "source": [
    "# Train the voting classifier on the entire training dataset\n",
    "voting_classifier.fit(X_train_tfidf, train_labels)\n",
    "\n",
    "# Use the trained classifier to make predictions on the test data\n",
    "train_predictions = voting_classifier.predict(X_test_tfidf)\n",
    "\n",
    "# Evaluate performance using accuracy\n",
    "train_accuracy = accuracy_score(train_labels, train_predictions)\n",
    "print(\"Train Accuracy:\", train_accuracy)\n",
    "\n",
    "# Evaluate performance using classification report (which includes precision, recall, F1-score, and support)\n",
    "print(\"Classification Report:\")\n",
    "print(classification_report(train_labels, train_predictions))"
   ],
   "metadata": {
    "collapsed": false,
    "ExecuteTime": {
     "end_time": "2024-04-08T17:05:06.761089Z",
     "start_time": "2024-04-08T17:03:39.653632Z"
    }
   },
   "id": "82c462a9966ff4d"
  },
  {
   "cell_type": "code",
   "execution_count": 32,
   "outputs": [
    {
     "name": "stdout",
     "output_type": "stream",
     "text": [
      "Mean Cross-Validation Accuracy: 0.5978320343304402\n"
     ]
    }
   ],
   "source": [
    "# Create the voting classifier\n",
    "voting_classifier_soft = VotingClassifier(estimators=models, voting='soft')  # or 'soft' for soft voting\n",
    "\n",
    "# Evaluate the voting classifier using cross-validation\n",
    "scores = cross_val_score(voting_classifier_soft, X_train_tfidf, train_labels, cv=5)\n",
    "\n",
    "# Print the mean cross-validation accuracy\n",
    "print(\"Mean Cross-Validation Accuracy:\", scores.mean())"
   ],
   "metadata": {
    "collapsed": false,
    "ExecuteTime": {
     "end_time": "2024-04-08T17:33:27.484522Z",
     "start_time": "2024-04-08T17:07:33.833323Z"
    }
   },
   "id": "7cb50072425e9380"
  },
  {
   "cell_type": "code",
   "execution_count": 33,
   "outputs": [
    {
     "name": "stdout",
     "output_type": "stream",
     "text": [
      "Test Accuracy: 0.6083503273585918\n",
      "Classification Report:\n",
      "              precision    recall  f1-score   support\n",
      "\n",
      "           0       0.73      0.65      0.69      2767\n",
      "           1       0.50      0.42      0.45      2941\n",
      "           2       0.60      0.73      0.66      3609\n",
      "\n",
      "    accuracy                           0.61      9317\n",
      "   macro avg       0.61      0.60      0.60      9317\n",
      "weighted avg       0.61      0.61      0.60      9317\n"
     ]
    }
   ],
   "source": [
    "# Train the voting classifier on the entire training dataset\n",
    "voting_classifier_soft.fit(X_train_tfidf, train_labels)\n",
    "\n",
    "# Use the trained classifier to make predictions on the test data\n",
    "test_predictions = voting_classifier_soft.predict(X_test_tfidf)\n",
    "\n",
    "# Evaluate performance using accuracy\n",
    "test_accuracy = accuracy_score(test_labels, test_predictions)\n",
    "print(\"Test Accuracy:\", test_accuracy)\n",
    "\n",
    "# Evaluate performance using classification report (which includes precision, recall, F1-score, and support)\n",
    "print(\"Classification Report:\")\n",
    "print(classification_report(test_labels, test_predictions))\n",
    "\n",
    "# # Use the trained classifier to make predictions on the test data\n",
    "# train_predictions = voting_classifier_soft.predict(X_test_tfidf)\n",
    "# \n",
    "# # Evaluate performance using accuracy\n",
    "# train_accuracy = accuracy_score(train_labels, train_predictions)\n",
    "# print(\"Train Accuracy:\", train_accuracy)\n",
    "# \n",
    "# # Evaluate performance using classification report (which includes precision, recall, F1-score, and support)\n",
    "# print(\"Classification Report:\")\n",
    "# print(classification_report(train_labels, train_predictions))"
   ],
   "metadata": {
    "collapsed": false,
    "ExecuteTime": {
     "end_time": "2024-04-08T17:38:14.493840Z",
     "start_time": "2024-04-08T17:36:47.862663Z"
    }
   },
   "id": "b385841f148ac190"
  },
  {
   "cell_type": "markdown",
   "source": [],
   "metadata": {
    "collapsed": false
   },
   "id": "2c8c83514c2bd79f"
  }
 ],
 "metadata": {
  "kernelspec": {
   "display_name": "Python 3 (ipykernel)",
   "language": "python",
   "name": "python3"
  },
  "language_info": {
   "codemirror_mode": {
    "name": "ipython",
    "version": 3
   },
   "file_extension": ".py",
   "mimetype": "text/x-python",
   "name": "python",
   "nbconvert_exporter": "python",
   "pygments_lexer": "ipython3",
   "version": "3.10.2"
  }
 },
 "nbformat": 4,
 "nbformat_minor": 5
}
