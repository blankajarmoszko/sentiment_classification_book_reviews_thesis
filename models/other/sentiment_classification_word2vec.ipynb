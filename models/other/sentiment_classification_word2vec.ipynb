{
 "cells": [
  {
   "cell_type": "code",
   "execution_count": 1,
   "id": "5aa05f1c",
   "metadata": {},
   "outputs": [],
   "source": [
    "import matplotlib.pyplot as plt \n",
    "import re\n",
    "from nltk.tokenize import word_tokenize\n",
    "from nltk.corpus import stopwords\n",
    "from nltk.stem import PorterStemmer\n",
    "import pandas as pd\n",
    "from gensim.models import Word2Vec\n",
    "from sklearn.model_selection import train_test_split"
   ]
  },
  {
   "cell_type": "code",
   "execution_count": 2,
   "id": "0b0c83d2",
   "metadata": {},
   "outputs": [],
   "source": [
    "from wordcloud import WordCloud"
   ]
  },
  {
   "cell_type": "code",
   "execution_count": 3,
   "id": "ffe5a3fd",
   "metadata": {},
   "outputs": [],
   "source": [
    "df = pd.read_csv(\"review_data.csv\")"
   ]
  },
  {
   "cell_type": "code",
   "execution_count": 4,
   "id": "d6297449",
   "metadata": {},
   "outputs": [
    {
     "data": {
      "text/html": [
       "<div>\n",
       "<style scoped>\n",
       "    .dataframe tbody tr th:only-of-type {\n",
       "        vertical-align: middle;\n",
       "    }\n",
       "\n",
       "    .dataframe tbody tr th {\n",
       "        vertical-align: top;\n",
       "    }\n",
       "\n",
       "    .dataframe thead th {\n",
       "        text-align: right;\n",
       "    }\n",
       "</style>\n",
       "<table border=\"1\" class=\"dataframe\">\n",
       "  <thead>\n",
       "    <tr style=\"text-align: right;\">\n",
       "      <th></th>\n",
       "      <th>title</th>\n",
       "      <th>reviewer_name</th>\n",
       "      <th>num_reviews</th>\n",
       "      <th>num_followers</th>\n",
       "      <th>star_rating</th>\n",
       "      <th>review_text</th>\n",
       "      <th>num_likes</th>\n",
       "      <th>num_comments</th>\n",
       "    </tr>\n",
       "  </thead>\n",
       "  <tbody>\n",
       "    <tr>\n",
       "      <th>0</th>\n",
       "      <td>The Stolen Heir</td>\n",
       "      <td>Emily May</td>\n",
       "      <td>2,031</td>\n",
       "      <td>310k</td>\n",
       "      <td>4.0</td>\n",
       "      <td>Not quite The Cruel Prince but I enjoyed this ...</td>\n",
       "      <td>1,206</td>\n",
       "      <td>3.0</td>\n",
       "    </tr>\n",
       "    <tr>\n",
       "      <th>1</th>\n",
       "      <td>The Stolen Heir</td>\n",
       "      <td>jessica</td>\n",
       "      <td>2,563</td>\n",
       "      <td>42.2k</td>\n",
       "      <td>4.0</td>\n",
       "      <td>hmm. i didnt obsess over this one like i did w...</td>\n",
       "      <td>654</td>\n",
       "      <td>0.0</td>\n",
       "    </tr>\n",
       "    <tr>\n",
       "      <th>2</th>\n",
       "      <td>The Stolen Heir</td>\n",
       "      <td>katia</td>\n",
       "      <td>306</td>\n",
       "      <td>526</td>\n",
       "      <td>3.0</td>\n",
       "      <td>3.5 ★oak was a disappointment, but suren!! i l...</td>\n",
       "      <td>1,233</td>\n",
       "      <td>0.0</td>\n",
       "    </tr>\n",
       "    <tr>\n",
       "      <th>3</th>\n",
       "      <td>The Stolen Heir</td>\n",
       "      <td>cor</td>\n",
       "      <td>269</td>\n",
       "      <td>74</td>\n",
       "      <td>NaN</td>\n",
       "      <td>OMG IM SHAKING IM SO EXCITED IM GOING TO CRY I...</td>\n",
       "      <td>610</td>\n",
       "      <td>0.0</td>\n",
       "    </tr>\n",
       "    <tr>\n",
       "      <th>4</th>\n",
       "      <td>The Stolen Heir</td>\n",
       "      <td>ale (semi hiatus) ‧ ₊˚୨ ♡ ୧ ₊˚</td>\n",
       "      <td>438</td>\n",
       "      <td>2,598</td>\n",
       "      <td>NaN</td>\n",
       "      <td>WE HAVE A COVER, OMG, WE HAVE A COVER!!!!I NEE...</td>\n",
       "      <td>746</td>\n",
       "      <td>0.0</td>\n",
       "    </tr>\n",
       "  </tbody>\n",
       "</table>\n",
       "</div>"
      ],
      "text/plain": [
       "             title                   reviewer_name num_reviews num_followers  \\\n",
       "0  The Stolen Heir                       Emily May       2,031          310k   \n",
       "1  The Stolen Heir                         jessica       2,563         42.2k   \n",
       "2  The Stolen Heir                           katia         306           526   \n",
       "3  The Stolen Heir                             cor         269            74   \n",
       "4  The Stolen Heir  ale (semi hiatus) ‧ ₊˚୨ ♡ ୧ ₊˚         438         2,598   \n",
       "\n",
       "   star_rating                                        review_text num_likes  \\\n",
       "0          4.0  Not quite The Cruel Prince but I enjoyed this ...     1,206   \n",
       "1          4.0  hmm. i didnt obsess over this one like i did w...       654   \n",
       "2          3.0  3.5 ★oak was a disappointment, but suren!! i l...     1,233   \n",
       "3          NaN  OMG IM SHAKING IM SO EXCITED IM GOING TO CRY I...       610   \n",
       "4          NaN  WE HAVE A COVER, OMG, WE HAVE A COVER!!!!I NEE...       746   \n",
       "\n",
       "   num_comments  \n",
       "0           3.0  \n",
       "1           0.0  \n",
       "2           0.0  \n",
       "3           0.0  \n",
       "4           0.0  "
      ]
     },
     "execution_count": 4,
     "metadata": {},
     "output_type": "execute_result"
    }
   ],
   "source": [
    "df.head()"
   ]
  },
  {
   "cell_type": "code",
   "execution_count": 5,
   "id": "6199f17a",
   "metadata": {},
   "outputs": [],
   "source": [
    "df_cleaned = df.dropna(subset=[\"star_rating\",\"review_text\"])"
   ]
  },
  {
   "cell_type": "code",
   "execution_count": 6,
   "id": "40fdad9f",
   "metadata": {},
   "outputs": [
    {
     "data": {
      "text/plain": [
       "(8399, 8)"
      ]
     },
     "execution_count": 6,
     "metadata": {},
     "output_type": "execute_result"
    }
   ],
   "source": [
    "df.shape"
   ]
  },
  {
   "cell_type": "code",
   "execution_count": 7,
   "id": "1f8781ae",
   "metadata": {},
   "outputs": [
    {
     "data": {
      "text/plain": [
       "(7850, 8)"
      ]
     },
     "execution_count": 7,
     "metadata": {},
     "output_type": "execute_result"
    }
   ],
   "source": [
    "df_cleaned.shape"
   ]
  },
  {
   "cell_type": "code",
   "execution_count": 25,
   "id": "1c3f9f3c",
   "metadata": {},
   "outputs": [
    {
     "name": "stdout",
     "output_type": "stream",
     "text": [
      "Number of rows per star rating:\n",
      "1    3271\n",
      "2    2733\n",
      "0    1209\n",
      "Name: sentiment, dtype: int64\n"
     ]
    },
    {
     "data": {
      "image/png": "[encoded data removed]",
      "text/plain": [
       "<Figure size 432x288 with 1 Axes>"
      ]
     },
     "metadata": {
      "needs_background": "light"
     },
     "output_type": "display_data"
    }
   ],
   "source": [
    "# Function to map stars to sentiment\n",
    "def map_sentiment(stars_received):\n",
    "    if stars_received <= 2:\n",
    "        return 0\n",
    "    elif stars_received <= 4:\n",
    "        return 1\n",
    "    else:\n",
    "        return 2\n",
    "# Mapping stars to sentiment into three categories\n",
    "df_cleaned['sentiment'] = [ map_sentiment(x) for x in df_cleaned['star_rating']]\n",
    "print(\"Number of rows per star rating:\")\n",
    "print(df_cleaned['sentiment'].value_counts())\n",
    "\n",
    "# Plotting the sentiment distribution\n",
    "plt.figure()\n",
    "pd.value_counts(df_cleaned['sentiment']).plot.bar(title=\"Sentiment distribution in df\")\n",
    "plt.xlabel(\"Sentiment\")\n",
    "plt.ylabel(\"No. of rows in df\")\n",
    "plt.show()"
   ]
  },
  {
   "cell_type": "code",
   "execution_count": 26,
   "id": "8c714042",
   "metadata": {},
   "outputs": [],
   "source": [
    "import re\n",
    "from nltk.tokenize import word_tokenize\n",
    "from nltk.corpus import stopwords\n",
    "from nltk.stem import PorterStemmer\n",
    "\n",
    "def preprocess_text(text):\n",
    "    # Convert text to lowercase\n",
    "    text = text.lower()\n",
    "\n",
    "    # Remove numbers\n",
    "    text = re.sub(r'\\d+', '', text)\n",
    "\n",
    "    # Remove punctuation\n",
    "    text = re.sub(r'[^\\w\\s]', '', text)\n",
    "\n",
    "    # Tokenize the text\n",
    "    tokens = word_tokenize(text)\n",
    "\n",
    "    # Remove stop words\n",
    "    stop_words = set(stopwords.words('english'))\n",
    "    tokens = [word for word in tokens if word not in stop_words]\n",
    "\n",
    "    # Stemming\n",
    "    stemmer = PorterStemmer()\n",
    "    tokens = [stemmer.stem(word) for word in tokens]\n",
    "\n",
    "    # Return the list of words separated by commas\n",
    "    return ','.join(tokens)\n",
    "\n",
    "# Apply the preprocess_text function to the \"review_text\" column\n",
    "df_cleaned[\"cleaned_text\"] = df_cleaned[\"review_text\"].apply(preprocess_text)\n",
    "\n",
    "# Drop rows with NaN values in the \"cleaned_text\" column\n",
    "df_cleaned = df_cleaned.dropna(subset=[\"cleaned_text\"])\n",
    "\n",
    "# Check for foreign characters using a regular expression\n",
    "df_cleaned = df_cleaned[df_cleaned[\"cleaned_text\"].str.match(r'^[a-zA-Z\\s,]+$')]\n",
    "\n",
    "# Reset index after removing rows\n",
    "df_cleaned.reset_index(drop=True, inplace=True)\n"
   ]
  },
  {
   "cell_type": "code",
   "execution_count": 27,
   "id": "0f18d92e",
   "metadata": {},
   "outputs": [
    {
     "data": {
      "text/plain": [
       "0    quit,cruel,princ,enjoy,loti,love,back,world,lo...\n",
       "1    hmm,didnt,obsess,one,like,origin,trilogywhil,e...\n",
       "2    oak,disappoint,suren,love,much,cant,pretend,do...\n",
       "3                everi,singl,mention,oak,hoov,jumpscar\n",
       "4                                                 star\n",
       "Name: cleaned_text, dtype: object"
      ]
     },
     "execution_count": 27,
     "metadata": {},
     "output_type": "execute_result"
    }
   ],
   "source": [
    "df_cleaned[\"cleaned_text\"].head()"
   ]
  },
  {
   "cell_type": "code",
   "execution_count": 28,
   "id": "17b06fac",
   "metadata": {},
   "outputs": [
    {
     "data": {
      "text/html": [
       "<div>\n",
       "<style scoped>\n",
       "    .dataframe tbody tr th:only-of-type {\n",
       "        vertical-align: middle;\n",
       "    }\n",
       "\n",
       "    .dataframe tbody tr th {\n",
       "        vertical-align: top;\n",
       "    }\n",
       "\n",
       "    .dataframe thead th {\n",
       "        text-align: right;\n",
       "    }\n",
       "</style>\n",
       "<table border=\"1\" class=\"dataframe\">\n",
       "  <thead>\n",
       "    <tr style=\"text-align: right;\">\n",
       "      <th></th>\n",
       "      <th>title</th>\n",
       "      <th>reviewer_name</th>\n",
       "      <th>num_reviews</th>\n",
       "      <th>num_followers</th>\n",
       "      <th>star_rating</th>\n",
       "      <th>review_text</th>\n",
       "      <th>num_likes</th>\n",
       "      <th>num_comments</th>\n",
       "      <th>sentiment</th>\n",
       "      <th>cleaned_text</th>\n",
       "    </tr>\n",
       "  </thead>\n",
       "  <tbody>\n",
       "    <tr>\n",
       "      <th>0</th>\n",
       "      <td>The Stolen Heir</td>\n",
       "      <td>Emily May</td>\n",
       "      <td>2,031</td>\n",
       "      <td>310k</td>\n",
       "      <td>4.0</td>\n",
       "      <td>Not quite The Cruel Prince but I enjoyed this ...</td>\n",
       "      <td>1,206</td>\n",
       "      <td>3.0</td>\n",
       "      <td>1</td>\n",
       "      <td>quit,cruel,princ,enjoy,loti,love,back,world,lo...</td>\n",
       "    </tr>\n",
       "    <tr>\n",
       "      <th>1</th>\n",
       "      <td>The Stolen Heir</td>\n",
       "      <td>jessica</td>\n",
       "      <td>2,563</td>\n",
       "      <td>42.2k</td>\n",
       "      <td>4.0</td>\n",
       "      <td>hmm. i didnt obsess over this one like i did w...</td>\n",
       "      <td>654</td>\n",
       "      <td>0.0</td>\n",
       "      <td>1</td>\n",
       "      <td>hmm,didnt,obsess,one,like,origin,trilogywhil,e...</td>\n",
       "    </tr>\n",
       "    <tr>\n",
       "      <th>2</th>\n",
       "      <td>The Stolen Heir</td>\n",
       "      <td>katia</td>\n",
       "      <td>306</td>\n",
       "      <td>526</td>\n",
       "      <td>3.0</td>\n",
       "      <td>3.5 ★oak was a disappointment, but suren!! i l...</td>\n",
       "      <td>1,233</td>\n",
       "      <td>0.0</td>\n",
       "      <td>1</td>\n",
       "      <td>oak,disappoint,suren,love,much,cant,pretend,do...</td>\n",
       "    </tr>\n",
       "    <tr>\n",
       "      <th>3</th>\n",
       "      <td>The Stolen Heir</td>\n",
       "      <td>madeline</td>\n",
       "      <td>111</td>\n",
       "      <td>18</td>\n",
       "      <td>3.0</td>\n",
       "      <td>Every single mention of Oak’s hooves was a jum...</td>\n",
       "      <td>1,707</td>\n",
       "      <td>4.0</td>\n",
       "      <td>1</td>\n",
       "      <td>everi,singl,mention,oak,hoov,jumpscar</td>\n",
       "    </tr>\n",
       "    <tr>\n",
       "      <th>4</th>\n",
       "      <td>The Stolen Heir</td>\n",
       "      <td>Haley pham</td>\n",
       "      <td>81</td>\n",
       "      <td>143k</td>\n",
       "      <td>4.0</td>\n",
       "      <td>4.5 stars ⭐️🧚🏻🥹</td>\n",
       "      <td>1,432</td>\n",
       "      <td>0.0</td>\n",
       "      <td>1</td>\n",
       "      <td>star</td>\n",
       "    </tr>\n",
       "  </tbody>\n",
       "</table>\n",
       "</div>"
      ],
      "text/plain": [
       "             title reviewer_name num_reviews num_followers  star_rating  \\\n",
       "0  The Stolen Heir     Emily May       2,031          310k          4.0   \n",
       "1  The Stolen Heir       jessica       2,563         42.2k          4.0   \n",
       "2  The Stolen Heir         katia         306           526          3.0   \n",
       "3  The Stolen Heir     madeline          111            18          3.0   \n",
       "4  The Stolen Heir    Haley pham          81          143k          4.0   \n",
       "\n",
       "                                         review_text num_likes  num_comments  \\\n",
       "0  Not quite The Cruel Prince but I enjoyed this ...     1,206           3.0   \n",
       "1  hmm. i didnt obsess over this one like i did w...       654           0.0   \n",
       "2  3.5 ★oak was a disappointment, but suren!! i l...     1,233           0.0   \n",
       "3  Every single mention of Oak’s hooves was a jum...     1,707           4.0   \n",
       "4                                    4.5 stars ⭐️🧚🏻🥹     1,432           0.0   \n",
       "\n",
       "   sentiment                                       cleaned_text  \n",
       "0          1  quit,cruel,princ,enjoy,loti,love,back,world,lo...  \n",
       "1          1  hmm,didnt,obsess,one,like,origin,trilogywhil,e...  \n",
       "2          1  oak,disappoint,suren,love,much,cant,pretend,do...  \n",
       "3          1              everi,singl,mention,oak,hoov,jumpscar  \n",
       "4          1                                               star  "
      ]
     },
     "execution_count": 28,
     "metadata": {},
     "output_type": "execute_result"
    }
   ],
   "source": [
    "df_cleaned.head()"
   ]
  },
  {
   "cell_type": "code",
   "execution_count": 29,
   "id": "772ad43e",
   "metadata": {},
   "outputs": [],
   "source": [
    "from sklearn.linear_model import LogisticRegression\n",
    "from sklearn.metrics import accuracy_score, classification_report\n",
    "from sklearn.model_selection import train_test_split"
   ]
  },
  {
   "cell_type": "code",
   "execution_count": 30,
   "id": "89b6e7f4",
   "metadata": {},
   "outputs": [],
   "source": [
    "# Import necessary libraries\n",
    "import pandas as pd\n",
    "from sklearn.model_selection import train_test_split\n",
    "from gensim.models import Word2Vec\n",
    "from sklearn.linear_model import LogisticRegression\n",
    "from sklearn.metrics import accuracy_score, classification_report\n",
    "import numpy as np\n",
    "from sklearn.preprocessing import StandardScaler\n",
    "\n",
    "# Assuming you have a DataFrame df_cleaned with columns 'cleaned_text' and 'sentiment'\n",
    "# Replace 'your_dataset.csv' with the actual file or provide your own dataset\n",
    "# df_cleaned = pd.read_csv('your_dataset.csv')\n",
    "\n",
    "# Split the dataset into training and testing sets\n",
    "train_data, test_data, train_labels, test_labels = train_test_split(df_cleaned['cleaned_text'], df_cleaned['sentiment'], test_size=0.2, random_state=42)\n",
    "\n",
    "# Tokenize the text data\n",
    "tokenized_train_data = [text.split(',') for text in train_data]\n",
    "tokenized_test_data = [text.split(',') for text in test_data]\n",
    "\n",
    "# Train Word2Vec model\n",
    "word2vec_model = Word2Vec(sentences=tokenized_train_data, vector_size=300, window=5, min_count=1, workers=4, sg=0)\n",
    "\n",
    "# Create average word vectors for each document\n",
    "def average_word_vectors(words, model, num_features):\n",
    "    feature_vector = np.zeros((num_features,), dtype=\"float64\")\n",
    "    nwords = 0.\n",
    "\n",
    "    for word in words:\n",
    "        if word in model.wv.index_to_key:\n",
    "            nwords = nwords + 1.\n",
    "            feature_vector = np.add(feature_vector, model.wv[word])\n",
    "\n",
    "    if nwords:\n",
    "        feature_vector = np.divide(feature_vector, nwords)\n",
    "\n",
    "    return feature_vector\n",
    "\n",
    "# Create document vectors for the training set\n",
    "X_train = np.vstack([average_word_vectors(words, word2vec_model, 300) for words in tokenized_train_data])\n",
    "\n",
    "# Create document vectors for the test set\n",
    "X_test = np.vstack([average_word_vectors(words, word2vec_model, 300) for words in tokenized_test_data])\n",
    "\n",
    "# Scale the data\n",
    "scaler = StandardScaler()\n",
    "X_train_scaled = scaler.fit_transform(X_train)\n",
    "X_test_scaled = scaler.transform(X_test)\n"
   ]
  },
  {
   "cell_type": "code",
   "execution_count": 22,
   "id": "3def6534",
   "metadata": {},
   "outputs": [
    {
     "name": "stdout",
     "output_type": "stream",
     "text": [
      "Accuracy: 0.58\n",
      "Classification Report:\n",
      "               precision    recall  f1-score   support\n",
      "\n",
      "          -1       0.61      0.30      0.40       259\n",
      "           0       0.56      0.67      0.61       658\n",
      "           1       0.60      0.61      0.61       526\n",
      "\n",
      "    accuracy                           0.58      1443\n",
      "   macro avg       0.59      0.53      0.54      1443\n",
      "weighted avg       0.59      0.58      0.57      1443\n",
      "\n"
     ]
    }
   ],
   "source": [
    "# Create and train the logistic regression model with increased max_iter\n",
    "model = LogisticRegression(max_iter=1000)\n",
    "model.fit(X_train_scaled, train_labels)\n",
    "\n",
    "# Make predictions on the test set\n",
    "predictions = model.predict(X_test_scaled)\n",
    "\n",
    "# Evaluate the model\n",
    "accuracy = accuracy_score(test_labels, predictions)\n",
    "print(f\"Accuracy: {accuracy:.2f}\")\n",
    "\n",
    "# Display classification report\n",
    "print(\"Classification Report:\\n\", classification_report(test_labels, predictions))"
   ]
  },
  {
   "cell_type": "code",
   "execution_count": 31,
   "id": "62513989",
   "metadata": {},
   "outputs": [
    {
     "name": "stdout",
     "output_type": "stream",
     "text": [
      "Accuracy: 0.56\n",
      "Classification Report:\n",
      "               precision    recall  f1-score   support\n",
      "\n",
      "           0       0.54      0.31      0.39       259\n",
      "           1       0.56      0.63      0.59       658\n",
      "           2       0.57      0.60      0.58       526\n",
      "\n",
      "    accuracy                           0.56      1443\n",
      "   macro avg       0.55      0.51      0.52      1443\n",
      "weighted avg       0.56      0.56      0.55      1443\n",
      "\n"
     ]
    }
   ],
   "source": [
    "import xgboost as xgb\n",
    "from sklearn.metrics import accuracy_score, classification_report\n",
    "\n",
    "# Train XGBoost model\n",
    "xgb_model = xgb.XGBClassifier()\n",
    "xgb_model.fit(X_train_scaled, train_labels)\n",
    "\n",
    "# Make predictions on the test set\n",
    "predictions = xgb_model.predict(X_test_scaled)\n",
    "\n",
    "# Evaluate the model\n",
    "accuracy = accuracy_score(test_labels, predictions)\n",
    "print(f\"Accuracy: {accuracy:.2f}\")\n",
    "\n",
    "# Display classification report\n",
    "print(\"Classification Report:\\n\", classification_report(test_labels, predictions))\n"
   ]
  },
  {
   "cell_type": "code",
   "execution_count": 34,
   "id": "7f65e574",
   "metadata": {},
   "outputs": [
    {
     "name": "stdout",
     "output_type": "stream",
     "text": [
      "Accuracy: 0.58\n",
      "Classification Report:\n",
      "               precision    recall  f1-score   support\n",
      "\n",
      "           0       0.60      0.31      0.41       259\n",
      "           1       0.56      0.66      0.60       658\n",
      "           2       0.60      0.61      0.60       526\n",
      "\n",
      "    accuracy                           0.58      1443\n",
      "   macro avg       0.58      0.53      0.54      1443\n",
      "weighted avg       0.58      0.58      0.57      1443\n",
      "\n"
     ]
    },
    {
     "name": "stderr",
     "output_type": "stream",
     "text": [
      "/Users/blankajarmoszko/opt/anaconda3/lib/python3.9/site-packages/sklearn/linear_model/_logistic.py:763: ConvergenceWarning: lbfgs failed to converge (status=1):\n",
      "STOP: TOTAL NO. of ITERATIONS REACHED LIMIT.\n",
      "\n",
      "Increase the number of iterations (max_iter) or scale the data as shown in:\n",
      "    https://scikit-learn.org/stable/modules/preprocessing.html\n",
      "Please also refer to the documentation for alternative solver options:\n",
      "    https://scikit-learn.org/stable/modules/linear_model.html#logistic-regression\n",
      "  n_iter_i = _check_optimize_result(\n"
     ]
    }
   ],
   "source": [
    "from sklearn.linear_model import LogisticRegression\n",
    "from sklearn.metrics import accuracy_score, classification_report\n",
    "from sklearn.model_selection import train_test_split\n",
    "import numpy as np\n",
    "from sklearn.preprocessing import StandardScaler\n",
    "\n",
    "# Assuming you have a DataFrame df_cleaned with columns 'cleaned_text' and 'sentiment'\n",
    "# Replace 'your_dataset.csv' with the actual file or provide your own dataset\n",
    "# df_cleaned = pd.read_csv('your_dataset.csv')\n",
    "\n",
    "# Split the dataset into training and testing sets\n",
    "train_data, test_data, train_labels, test_labels = train_test_split(df_cleaned['cleaned_text'], df_cleaned['sentiment'], test_size=0.2, random_state=42)\n",
    "\n",
    "# Tokenize the text data\n",
    "tokenized_train_data = [text.split(',') for text in train_data]\n",
    "tokenized_test_data = [text.split(',') for text in test_data]\n",
    "\n",
    "# Assuming you have already trained Word2Vec and created document vectors X_train and X_test\n",
    "# ... (as per your previous code)\n",
    "\n",
    "# Scale the data\n",
    "scaler = StandardScaler()\n",
    "X_train_scaled = scaler.fit_transform(X_train)\n",
    "X_test_scaled = scaler.transform(X_test)\n",
    "\n",
    "logistic_model = LogisticRegression(max_iter=1000)\n",
    "logistic_model.fit(X_train_scaled, train_labels)\n",
    "\n",
    "# Make predictions on the test set\n",
    "predictions = logistic_model.predict(X_test_scaled)\n",
    "\n",
    "# Evaluate the model\n",
    "accuracy = accuracy_score(test_labels, predictions)\n",
    "print(f\"Accuracy: {accuracy:.2f}\")\n",
    "\n",
    "# Display classification report\n",
    "print(\"Classification Report:\\n\", classification_report(test_labels, predictions))\n"
   ]
  },
  {
   "cell_type": "code",
   "execution_count": null,
   "id": "9ec4bcfe",
   "metadata": {},
   "outputs": [],
   "source": []
  }
 ],
 "metadata": {
  "kernelspec": {
   "display_name": "Python 3 (ipykernel)",
   "language": "python",
   "name": "python3"
  },
  "language_info": {
   "codemirror_mode": {
    "name": "ipython",
    "version": 3
   },
   "file_extension": ".py",
   "mimetype": "text/x-python",
   "name": "python",
   "nbconvert_exporter": "python",
   "pygments_lexer": "ipython3",
   "version": "3.9.7"
  }
 },
 "nbformat": 4,
 "nbformat_minor": 5
}
