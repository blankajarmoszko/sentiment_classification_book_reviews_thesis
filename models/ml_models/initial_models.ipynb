{
 "cells": [
  {
   "cell_type": "code",
   "execution_count": 67,
   "id": "5aa05f1c",
   "metadata": {
    "ExecuteTime": {
     "end_time": "2024-04-04T19:44:13.281088Z",
     "start_time": "2024-04-04T19:44:13.267170Z"
    }
   },
   "outputs": [],
   "source": [
    "\n",
    "import re\n",
    "\n",
    "from sklearn.model_selection import train_test_split\n",
    "\n",
    "from sklearn.linear_model import LogisticRegression\n",
    "# Import necessary libraries\n",
    "\n",
    "from sklearn.metrics import accuracy_score, classification_report\n",
    "\n",
    "from sklearn.preprocessing import StandardScaler\n",
    "import pandas as pd\n",
    "from sklearn.model_selection import train_test_split\n",
    "from sklearn.feature_extraction.text import TfidfVectorizer\n",
    "from sklearn.naive_bayes import MultinomialNB\n",
    "from sklearn.metrics import accuracy_score, classification_report\n",
    "\n",
    "import pandas as pd\n",
    "from sklearn.model_selection import train_test_split\n",
    "from sklearn.feature_extraction.text import CountVectorizer\n",
    "from sklearn.naive_bayes import MultinomialNB\n",
    "from sklearn.metrics import accuracy_score, classification_report\n",
    "\n",
    "import numpy as np"
   ]
  },
  {
   "cell_type": "code",
   "execution_count": 68,
   "id": "ef75b051f52a0fe",
   "metadata": {
    "collapsed": false,
    "ExecuteTime": {
     "end_time": "2024-04-04T19:44:13.826704Z",
     "start_time": "2024-04-04T19:44:13.821571Z"
    }
   },
   "outputs": [],
   "source": [
    "import keras\n",
    "#import matplotlib.pyplot as plt\n",
    "import numpy as np\n",
    "\n",
    "import tensorflow as tf\n",
    "tf.config.run_functions_eagerly(True)\n",
    "\n",
    "from keras.models import Sequential\n",
    "from keras.layers import Dense, InputLayer, Dropout, Conv2D, MaxPooling2D, Flatten, Embedding, LSTM, GRU, RNN\n",
    "from keras.utils import to_categorical, set_random_seed, pad_sequences\n",
    "from keras.callbacks import EarlyStopping\n",
    "\n",
    "from sklearn.metrics import accuracy_score, confusion_matrix\n",
    "from sklearn.model_selection import train_test_split"
   ]
  },
  {
   "cell_type": "code",
   "execution_count": 69,
   "id": "ec069be2",
   "metadata": {
    "ExecuteTime": {
     "end_time": "2024-04-04T19:44:15.281152Z",
     "start_time": "2024-04-04T19:44:14.326328Z"
    }
   },
   "outputs": [],
   "source": [
    "import pandas as pd\n",
    "import os\n",
    "import matplotlib.pyplot as plt\n",
    "\n",
    "# Get the current working directory\n",
    "current_dir = os.getcwd()\n",
    "\n",
    "\n",
    "# Read the data file into a Pandas DataFrame\n",
    "df = pd.read_csv('/Users/blankajarmoszko/PycharmProjects/thesis/data/df_cleaned.csv')"
   ]
  },
  {
   "cell_type": "code",
   "execution_count": 70,
   "id": "7645b39e",
   "metadata": {
    "scrolled": true,
    "ExecuteTime": {
     "end_time": "2024-04-04T19:44:15.854897Z",
     "start_time": "2024-04-04T19:44:15.842075Z"
    }
   },
   "outputs": [
    {
     "data": {
      "text/plain": "             title reviewer_name num_reviews num_followers  star_rating  \\\n0  The Stolen Heir     Emily May       2,031          310k          4.0   \n1  The Stolen Heir       jessica       2,563         42.2k          4.0   \n2  The Stolen Heir         katia         306           526          3.0   \n3  The Stolen Heir     madeline          111            18          3.0   \n4  The Stolen Heir    Haley pham          81          143k          4.0   \n\n                                         review_text num_likes  num_comments  \\\n0  Not quite The Cruel Prince but I enjoyed this ...     1,206           3.0   \n1  hmm. i didnt obsess over this one like i did w...       654           0.0   \n2  3.5 ★oak was a disappointment, but suren!! i l...     1,233           0.0   \n3  Every single mention of Oak’s hooves was a jum...     1,707           4.0   \n4  4.5 stars  star  fairy_light_skin_tone  face_h...     1,432           0.0   \n\n   sentiment                                       cleaned_text  \n0          1  quit,cruel,princ,enjoy,loti,love,back,world,lo...  \n1          1  hmm,didnt,obsess,one,like,origin,trilogywhil,e...  \n2          0  oak,disappoint,suren,love,much,cant,pretend,do...  \n3          0              everi,singl,mention,oak,hoov,jumpscar  \n4          1  star,star,fairy_light_skin_ton,face_holding_ba...  ",
      "text/html": "<div>\n<style scoped>\n    .dataframe tbody tr th:only-of-type {\n        vertical-align: middle;\n    }\n\n    .dataframe tbody tr th {\n        vertical-align: top;\n    }\n\n    .dataframe thead th {\n        text-align: right;\n    }\n</style>\n<table border=\"1\" class=\"dataframe\">\n  <thead>\n    <tr style=\"text-align: right;\">\n      <th></th>\n      <th>title</th>\n      <th>reviewer_name</th>\n      <th>num_reviews</th>\n      <th>num_followers</th>\n      <th>star_rating</th>\n      <th>review_text</th>\n      <th>num_likes</th>\n      <th>num_comments</th>\n      <th>sentiment</th>\n      <th>cleaned_text</th>\n    </tr>\n  </thead>\n  <tbody>\n    <tr>\n      <th>0</th>\n      <td>The Stolen Heir</td>\n      <td>Emily May</td>\n      <td>2,031</td>\n      <td>310k</td>\n      <td>4.0</td>\n      <td>Not quite The Cruel Prince but I enjoyed this ...</td>\n      <td>1,206</td>\n      <td>3.0</td>\n      <td>1</td>\n      <td>quit,cruel,princ,enjoy,loti,love,back,world,lo...</td>\n    </tr>\n    <tr>\n      <th>1</th>\n      <td>The Stolen Heir</td>\n      <td>jessica</td>\n      <td>2,563</td>\n      <td>42.2k</td>\n      <td>4.0</td>\n      <td>hmm. i didnt obsess over this one like i did w...</td>\n      <td>654</td>\n      <td>0.0</td>\n      <td>1</td>\n      <td>hmm,didnt,obsess,one,like,origin,trilogywhil,e...</td>\n    </tr>\n    <tr>\n      <th>2</th>\n      <td>The Stolen Heir</td>\n      <td>katia</td>\n      <td>306</td>\n      <td>526</td>\n      <td>3.0</td>\n      <td>3.5 ★oak was a disappointment, but suren!! i l...</td>\n      <td>1,233</td>\n      <td>0.0</td>\n      <td>0</td>\n      <td>oak,disappoint,suren,love,much,cant,pretend,do...</td>\n    </tr>\n    <tr>\n      <th>3</th>\n      <td>The Stolen Heir</td>\n      <td>madeline</td>\n      <td>111</td>\n      <td>18</td>\n      <td>3.0</td>\n      <td>Every single mention of Oak’s hooves was a jum...</td>\n      <td>1,707</td>\n      <td>4.0</td>\n      <td>0</td>\n      <td>everi,singl,mention,oak,hoov,jumpscar</td>\n    </tr>\n    <tr>\n      <th>4</th>\n      <td>The Stolen Heir</td>\n      <td>Haley pham</td>\n      <td>81</td>\n      <td>143k</td>\n      <td>4.0</td>\n      <td>4.5 stars  star  fairy_light_skin_tone  face_h...</td>\n      <td>1,432</td>\n      <td>0.0</td>\n      <td>1</td>\n      <td>star,star,fairy_light_skin_ton,face_holding_ba...</td>\n    </tr>\n  </tbody>\n</table>\n</div>"
     },
     "execution_count": 70,
     "metadata": {},
     "output_type": "execute_result"
    }
   ],
   "source": [
    "df.head()"
   ]
  },
  {
   "cell_type": "code",
   "execution_count": 71,
   "id": "82e706d5",
   "metadata": {
    "ExecuteTime": {
     "end_time": "2024-04-04T19:44:17.105050Z",
     "start_time": "2024-04-04T19:44:17.042661Z"
    }
   },
   "outputs": [
    {
     "name": "stdout",
     "output_type": "stream",
     "text": [
      "Number of rows per star rating:\n",
      "sentiment\n",
      "2    17996\n",
      "1    14874\n",
      "0    13876\n",
      "Name: count, dtype: int64\n"
     ]
    },
    {
     "name": "stderr",
     "output_type": "stream",
     "text": [
      "/var/folders/66/n0_9mny57ys5rqmlmylz_2880000gn/T/ipykernel_7415/3462290488.py:16: FutureWarning: pandas.value_counts is deprecated and will be removed in a future version. Use pd.Series(obj).value_counts() instead.\n",
      "  pd.value_counts(df['sentiment']).plot.bar(title=\"Sentiment distribution in df\")\n"
     ]
    },
    {
     "data": {
      "text/plain": "<Figure size 640x480 with 1 Axes>",
      "image/png": "[encoded data removed]"
     },
     "metadata": {},
     "output_type": "display_data"
    }
   ],
   "source": [
    "# Function to map stars to sentiment\n",
    "def map_sentiment(stars_received):\n",
    "    if stars_received <= 3:\n",
    "        return 0\n",
    "    elif stars_received <= 4:\n",
    "        return 1\n",
    "    else:\n",
    "        return 2\n",
    "# Mapping stars to sentiment into three categories\n",
    "df['sentiment'] = [ map_sentiment(x) for x in df['star_rating']]\n",
    "print(\"Number of rows per star rating:\")\n",
    "print(df['sentiment'].value_counts())\n",
    "\n",
    "# Plotting the sentiment distribution\n",
    "plt.figure()\n",
    "pd.value_counts(df['sentiment']).plot.bar(title=\"Sentiment distribution in df\")\n",
    "plt.xlabel(\"Sentiment\")\n",
    "plt.ylabel(\"No. of rows in df\")\n",
    "plt.show()"
   ]
  },
  {
   "cell_type": "code",
   "execution_count": 72,
   "id": "f123973c",
   "metadata": {
    "ExecuteTime": {
     "end_time": "2024-04-04T19:44:17.369654Z",
     "start_time": "2024-04-04T19:44:17.364458Z"
    }
   },
   "outputs": [
    {
     "data": {
      "text/plain": "             title reviewer_name num_reviews num_followers  star_rating  \\\n0  The Stolen Heir     Emily May       2,031          310k          4.0   \n1  The Stolen Heir       jessica       2,563         42.2k          4.0   \n2  The Stolen Heir         katia         306           526          3.0   \n3  The Stolen Heir     madeline          111            18          3.0   \n4  The Stolen Heir    Haley pham          81          143k          4.0   \n\n                                         review_text num_likes  num_comments  \\\n0  Not quite The Cruel Prince but I enjoyed this ...     1,206           3.0   \n1  hmm. i didnt obsess over this one like i did w...       654           0.0   \n2  3.5 ★oak was a disappointment, but suren!! i l...     1,233           0.0   \n3  Every single mention of Oak’s hooves was a jum...     1,707           4.0   \n4  4.5 stars  star  fairy_light_skin_tone  face_h...     1,432           0.0   \n\n   sentiment                                       cleaned_text  \n0          1  quit,cruel,princ,enjoy,loti,love,back,world,lo...  \n1          1  hmm,didnt,obsess,one,like,origin,trilogywhil,e...  \n2          0  oak,disappoint,suren,love,much,cant,pretend,do...  \n3          0              everi,singl,mention,oak,hoov,jumpscar  \n4          1  star,star,fairy_light_skin_ton,face_holding_ba...  ",
      "text/html": "<div>\n<style scoped>\n    .dataframe tbody tr th:only-of-type {\n        vertical-align: middle;\n    }\n\n    .dataframe tbody tr th {\n        vertical-align: top;\n    }\n\n    .dataframe thead th {\n        text-align: right;\n    }\n</style>\n<table border=\"1\" class=\"dataframe\">\n  <thead>\n    <tr style=\"text-align: right;\">\n      <th></th>\n      <th>title</th>\n      <th>reviewer_name</th>\n      <th>num_reviews</th>\n      <th>num_followers</th>\n      <th>star_rating</th>\n      <th>review_text</th>\n      <th>num_likes</th>\n      <th>num_comments</th>\n      <th>sentiment</th>\n      <th>cleaned_text</th>\n    </tr>\n  </thead>\n  <tbody>\n    <tr>\n      <th>0</th>\n      <td>The Stolen Heir</td>\n      <td>Emily May</td>\n      <td>2,031</td>\n      <td>310k</td>\n      <td>4.0</td>\n      <td>Not quite The Cruel Prince but I enjoyed this ...</td>\n      <td>1,206</td>\n      <td>3.0</td>\n      <td>1</td>\n      <td>quit,cruel,princ,enjoy,loti,love,back,world,lo...</td>\n    </tr>\n    <tr>\n      <th>1</th>\n      <td>The Stolen Heir</td>\n      <td>jessica</td>\n      <td>2,563</td>\n      <td>42.2k</td>\n      <td>4.0</td>\n      <td>hmm. i didnt obsess over this one like i did w...</td>\n      <td>654</td>\n      <td>0.0</td>\n      <td>1</td>\n      <td>hmm,didnt,obsess,one,like,origin,trilogywhil,e...</td>\n    </tr>\n    <tr>\n      <th>2</th>\n      <td>The Stolen Heir</td>\n      <td>katia</td>\n      <td>306</td>\n      <td>526</td>\n      <td>3.0</td>\n      <td>3.5 ★oak was a disappointment, but suren!! i l...</td>\n      <td>1,233</td>\n      <td>0.0</td>\n      <td>0</td>\n      <td>oak,disappoint,suren,love,much,cant,pretend,do...</td>\n    </tr>\n    <tr>\n      <th>3</th>\n      <td>The Stolen Heir</td>\n      <td>madeline</td>\n      <td>111</td>\n      <td>18</td>\n      <td>3.0</td>\n      <td>Every single mention of Oak’s hooves was a jum...</td>\n      <td>1,707</td>\n      <td>4.0</td>\n      <td>0</td>\n      <td>everi,singl,mention,oak,hoov,jumpscar</td>\n    </tr>\n    <tr>\n      <th>4</th>\n      <td>The Stolen Heir</td>\n      <td>Haley pham</td>\n      <td>81</td>\n      <td>143k</td>\n      <td>4.0</td>\n      <td>4.5 stars  star  fairy_light_skin_tone  face_h...</td>\n      <td>1,432</td>\n      <td>0.0</td>\n      <td>1</td>\n      <td>star,star,fairy_light_skin_ton,face_holding_ba...</td>\n    </tr>\n  </tbody>\n</table>\n</div>"
     },
     "execution_count": 72,
     "metadata": {},
     "output_type": "execute_result"
    }
   ],
   "source": [
    "df.head()"
   ]
  },
  {
   "cell_type": "code",
   "execution_count": 73,
   "id": "d95efa53",
   "metadata": {
    "ExecuteTime": {
     "end_time": "2024-04-04T19:44:18.336685Z",
     "start_time": "2024-04-04T19:44:18.328443Z"
    }
   },
   "outputs": [],
   "source": [
    "# Drop rows with NaN values in the 'cleaned_text' column\n",
    "df = df.dropna(subset=['cleaned_text'])\n",
    "\n",
    "# Reset index after removing rows\n",
    "df.reset_index(drop=True, inplace=True)"
   ]
  },
  {
   "cell_type": "code",
   "execution_count": 74,
   "id": "0b77344b",
   "metadata": {
    "ExecuteTime": {
     "end_time": "2024-04-04T19:44:18.738629Z",
     "start_time": "2024-04-04T19:44:18.721713Z"
    }
   },
   "outputs": [],
   "source": [
    "# def convert_to_list(text):\n",
    "#     return text.split(',')\n",
    "# df[\"cleaned_text\"] = df[\"cleaned_text\"].apply(convert_to_list)"
   ]
  },
  {
   "cell_type": "code",
   "execution_count": 75,
   "id": "ab730d9a",
   "metadata": {
    "ExecuteTime": {
     "end_time": "2024-04-04T19:44:19.781942Z",
     "start_time": "2024-04-04T19:44:19.769315Z"
    }
   },
   "outputs": [
    {
     "data": {
      "text/plain": "             title reviewer_name num_reviews num_followers  star_rating  \\\n0  The Stolen Heir     Emily May       2,031          310k          4.0   \n1  The Stolen Heir       jessica       2,563         42.2k          4.0   \n2  The Stolen Heir         katia         306           526          3.0   \n3  The Stolen Heir     madeline          111            18          3.0   \n4  The Stolen Heir    Haley pham          81          143k          4.0   \n\n                                         review_text num_likes  num_comments  \\\n0  Not quite The Cruel Prince but I enjoyed this ...     1,206           3.0   \n1  hmm. i didnt obsess over this one like i did w...       654           0.0   \n2  3.5 ★oak was a disappointment, but suren!! i l...     1,233           0.0   \n3  Every single mention of Oak’s hooves was a jum...     1,707           4.0   \n4  4.5 stars  star  fairy_light_skin_tone  face_h...     1,432           0.0   \n\n   sentiment                                       cleaned_text  \n0          1  quit,cruel,princ,enjoy,loti,love,back,world,lo...  \n1          1  hmm,didnt,obsess,one,like,origin,trilogywhil,e...  \n2          0  oak,disappoint,suren,love,much,cant,pretend,do...  \n3          0              everi,singl,mention,oak,hoov,jumpscar  \n4          1  star,star,fairy_light_skin_ton,face_holding_ba...  ",
      "text/html": "<div>\n<style scoped>\n    .dataframe tbody tr th:only-of-type {\n        vertical-align: middle;\n    }\n\n    .dataframe tbody tr th {\n        vertical-align: top;\n    }\n\n    .dataframe thead th {\n        text-align: right;\n    }\n</style>\n<table border=\"1\" class=\"dataframe\">\n  <thead>\n    <tr style=\"text-align: right;\">\n      <th></th>\n      <th>title</th>\n      <th>reviewer_name</th>\n      <th>num_reviews</th>\n      <th>num_followers</th>\n      <th>star_rating</th>\n      <th>review_text</th>\n      <th>num_likes</th>\n      <th>num_comments</th>\n      <th>sentiment</th>\n      <th>cleaned_text</th>\n    </tr>\n  </thead>\n  <tbody>\n    <tr>\n      <th>0</th>\n      <td>The Stolen Heir</td>\n      <td>Emily May</td>\n      <td>2,031</td>\n      <td>310k</td>\n      <td>4.0</td>\n      <td>Not quite The Cruel Prince but I enjoyed this ...</td>\n      <td>1,206</td>\n      <td>3.0</td>\n      <td>1</td>\n      <td>quit,cruel,princ,enjoy,loti,love,back,world,lo...</td>\n    </tr>\n    <tr>\n      <th>1</th>\n      <td>The Stolen Heir</td>\n      <td>jessica</td>\n      <td>2,563</td>\n      <td>42.2k</td>\n      <td>4.0</td>\n      <td>hmm. i didnt obsess over this one like i did w...</td>\n      <td>654</td>\n      <td>0.0</td>\n      <td>1</td>\n      <td>hmm,didnt,obsess,one,like,origin,trilogywhil,e...</td>\n    </tr>\n    <tr>\n      <th>2</th>\n      <td>The Stolen Heir</td>\n      <td>katia</td>\n      <td>306</td>\n      <td>526</td>\n      <td>3.0</td>\n      <td>3.5 ★oak was a disappointment, but suren!! i l...</td>\n      <td>1,233</td>\n      <td>0.0</td>\n      <td>0</td>\n      <td>oak,disappoint,suren,love,much,cant,pretend,do...</td>\n    </tr>\n    <tr>\n      <th>3</th>\n      <td>The Stolen Heir</td>\n      <td>madeline</td>\n      <td>111</td>\n      <td>18</td>\n      <td>3.0</td>\n      <td>Every single mention of Oak’s hooves was a jum...</td>\n      <td>1,707</td>\n      <td>4.0</td>\n      <td>0</td>\n      <td>everi,singl,mention,oak,hoov,jumpscar</td>\n    </tr>\n    <tr>\n      <th>4</th>\n      <td>The Stolen Heir</td>\n      <td>Haley pham</td>\n      <td>81</td>\n      <td>143k</td>\n      <td>4.0</td>\n      <td>4.5 stars  star  fairy_light_skin_tone  face_h...</td>\n      <td>1,432</td>\n      <td>0.0</td>\n      <td>1</td>\n      <td>star,star,fairy_light_skin_ton,face_holding_ba...</td>\n    </tr>\n  </tbody>\n</table>\n</div>"
     },
     "execution_count": 75,
     "metadata": {},
     "output_type": "execute_result"
    }
   ],
   "source": [
    "df.head()"
   ]
  },
  {
   "cell_type": "code",
   "execution_count": 76,
   "id": "705de8d6",
   "metadata": {
    "ExecuteTime": {
     "end_time": "2024-04-04T19:44:20.029637Z",
     "start_time": "2024-04-04T19:44:20.026089Z"
    }
   },
   "outputs": [],
   "source": [
    "# Split the dataset into training and testing sets\n",
    "train_data, test_data, train_labels, test_labels = train_test_split(df['cleaned_text'], df['sentiment'], test_size=0.2, random_state=42)\n"
   ]
  },
  {
   "cell_type": "code",
   "execution_count": 77,
   "outputs": [
    {
     "data": {
      "text/plain": "             title reviewer_name num_reviews num_followers  star_rating  \\\n0  The Stolen Heir     Emily May       2,031          310k          4.0   \n1  The Stolen Heir       jessica       2,563         42.2k          4.0   \n2  The Stolen Heir         katia         306           526          3.0   \n3  The Stolen Heir     madeline          111            18          3.0   \n4  The Stolen Heir    Haley pham          81          143k          4.0   \n\n                                         review_text num_likes  num_comments  \\\n0  Not quite The Cruel Prince but I enjoyed this ...     1,206           3.0   \n1  hmm. i didnt obsess over this one like i did w...       654           0.0   \n2  3.5 ★oak was a disappointment, but suren!! i l...     1,233           0.0   \n3  Every single mention of Oak’s hooves was a jum...     1,707           4.0   \n4  4.5 stars  star  fairy_light_skin_tone  face_h...     1,432           0.0   \n\n   sentiment                                       cleaned_text  \n0          1  quit,cruel,princ,enjoy,loti,love,back,world,lo...  \n1          1  hmm,didnt,obsess,one,like,origin,trilogywhil,e...  \n2          0  oak,disappoint,suren,love,much,cant,pretend,do...  \n3          0              everi,singl,mention,oak,hoov,jumpscar  \n4          1  star,star,fairy_light_skin_ton,face_holding_ba...  ",
      "text/html": "<div>\n<style scoped>\n    .dataframe tbody tr th:only-of-type {\n        vertical-align: middle;\n    }\n\n    .dataframe tbody tr th {\n        vertical-align: top;\n    }\n\n    .dataframe thead th {\n        text-align: right;\n    }\n</style>\n<table border=\"1\" class=\"dataframe\">\n  <thead>\n    <tr style=\"text-align: right;\">\n      <th></th>\n      <th>title</th>\n      <th>reviewer_name</th>\n      <th>num_reviews</th>\n      <th>num_followers</th>\n      <th>star_rating</th>\n      <th>review_text</th>\n      <th>num_likes</th>\n      <th>num_comments</th>\n      <th>sentiment</th>\n      <th>cleaned_text</th>\n    </tr>\n  </thead>\n  <tbody>\n    <tr>\n      <th>0</th>\n      <td>The Stolen Heir</td>\n      <td>Emily May</td>\n      <td>2,031</td>\n      <td>310k</td>\n      <td>4.0</td>\n      <td>Not quite The Cruel Prince but I enjoyed this ...</td>\n      <td>1,206</td>\n      <td>3.0</td>\n      <td>1</td>\n      <td>quit,cruel,princ,enjoy,loti,love,back,world,lo...</td>\n    </tr>\n    <tr>\n      <th>1</th>\n      <td>The Stolen Heir</td>\n      <td>jessica</td>\n      <td>2,563</td>\n      <td>42.2k</td>\n      <td>4.0</td>\n      <td>hmm. i didnt obsess over this one like i did w...</td>\n      <td>654</td>\n      <td>0.0</td>\n      <td>1</td>\n      <td>hmm,didnt,obsess,one,like,origin,trilogywhil,e...</td>\n    </tr>\n    <tr>\n      <th>2</th>\n      <td>The Stolen Heir</td>\n      <td>katia</td>\n      <td>306</td>\n      <td>526</td>\n      <td>3.0</td>\n      <td>3.5 ★oak was a disappointment, but suren!! i l...</td>\n      <td>1,233</td>\n      <td>0.0</td>\n      <td>0</td>\n      <td>oak,disappoint,suren,love,much,cant,pretend,do...</td>\n    </tr>\n    <tr>\n      <th>3</th>\n      <td>The Stolen Heir</td>\n      <td>madeline</td>\n      <td>111</td>\n      <td>18</td>\n      <td>3.0</td>\n      <td>Every single mention of Oak’s hooves was a jum...</td>\n      <td>1,707</td>\n      <td>4.0</td>\n      <td>0</td>\n      <td>everi,singl,mention,oak,hoov,jumpscar</td>\n    </tr>\n    <tr>\n      <th>4</th>\n      <td>The Stolen Heir</td>\n      <td>Haley pham</td>\n      <td>81</td>\n      <td>143k</td>\n      <td>4.0</td>\n      <td>4.5 stars  star  fairy_light_skin_tone  face_h...</td>\n      <td>1,432</td>\n      <td>0.0</td>\n      <td>1</td>\n      <td>star,star,fairy_light_skin_ton,face_holding_ba...</td>\n    </tr>\n  </tbody>\n</table>\n</div>"
     },
     "execution_count": 77,
     "metadata": {},
     "output_type": "execute_result"
    }
   ],
   "source": [
    "df.head()"
   ],
   "metadata": {
    "collapsed": false,
    "ExecuteTime": {
     "end_time": "2024-04-04T19:44:21.713577Z",
     "start_time": "2024-04-04T19:44:21.695755Z"
    }
   },
   "id": "cd6a37b288335836"
  },
  {
   "cell_type": "code",
   "execution_count": 78,
   "id": "2144f26d",
   "metadata": {
    "ExecuteTime": {
     "end_time": "2024-04-04T19:44:24.366127Z",
     "start_time": "2024-04-04T19:44:21.949534Z"
    }
   },
   "outputs": [],
   "source": [
    "# bag of words\n",
    "\n",
    "# Vectorize the text using Bag-of-Words\n",
    "vectorizer_bow = CountVectorizer()\n",
    "X_train_vectorized_bow = vectorizer_bow.fit_transform(train_data)\n",
    "X_test_vectorized_bow = vectorizer_bow.transform(test_data)\n"
   ]
  },
  {
   "cell_type": "code",
   "execution_count": 79,
   "outputs": [
    {
     "data": {
      "text/plain": "str"
     },
     "execution_count": 79,
     "metadata": {},
     "output_type": "execute_result"
    }
   ],
   "source": [
    "type(train_data[0][0])"
   ],
   "metadata": {
    "collapsed": false,
    "ExecuteTime": {
     "end_time": "2024-04-04T19:44:24.369021Z",
     "start_time": "2024-04-04T19:44:24.364176Z"
    }
   },
   "id": "4c4ba7022124c569"
  },
  {
   "cell_type": "code",
   "execution_count": 80,
   "id": "853a413b",
   "metadata": {
    "ExecuteTime": {
     "end_time": "2024-04-04T19:44:26.744511Z",
     "start_time": "2024-04-04T19:44:24.440613Z"
    }
   },
   "outputs": [],
   "source": [
    "# Vectorize the text using TF-IDF\n",
    "vectorizer = TfidfVectorizer()\n",
    "X_train_tfidf = vectorizer.fit_transform(train_data)\n",
    "X_test_tfidf = vectorizer.transform(test_data)"
   ]
  },
  {
   "cell_type": "markdown",
   "id": "cf3f0f62",
   "metadata": {},
   "source": [
    "## Naive Bayes "
   ]
  },
  {
   "cell_type": "markdown",
   "id": "7c35f410",
   "metadata": {},
   "source": [
    "### Naive Bayes w/ BoW"
   ]
  },
  {
   "cell_type": "code",
   "execution_count": null,
   "id": "e651b431",
   "metadata": {},
   "outputs": [],
   "source": [
    "# Train a Naive Bayes classifier\n",
    "naive_bayes_model_bow = MultinomialNB()\n",
    "naive_bayes_model_bow.fit(X_train_vectorized_bow, train_labels)\n",
    "\n",
    "# Make predictions on the test set\n",
    "predictions_bow = naive_bayes_model_bow.predict(X_test_vectorized_bow)\n",
    "\n",
    "# Evaluate the model\n",
    "accuracy = accuracy_score(test_labels, predictions_bow)\n",
    "print(f\"Accuracy: {accuracy}\")\n",
    "print(classification_report(test_labels, predictions_bow))\n"
   ]
  },
  {
   "cell_type": "markdown",
   "id": "0f4dd492",
   "metadata": {},
   "source": [
    "### Naive Bayes with tfidf"
   ]
  },
  {
   "cell_type": "code",
   "execution_count": null,
   "id": "f2d26a11",
   "metadata": {},
   "outputs": [],
   "source": [
    "\n",
    "# Train a Naive Bayes classifier\n",
    "naive_bayes_model_tf = MultinomialNB()\n",
    "naive_bayes_model_tf.fit(X_train_tfidf, train_labels)\n",
    "\n",
    "# Make predictions on the test set\n",
    "predictions = naive_bayes_model_tf.predict(X_test_tfidf)\n",
    "\n",
    "# Evaluate the model\n",
    "accuracy = accuracy_score(test_labels, predictions)\n",
    "print(f\"Accuracy: {accuracy}\")\n",
    "print(classification_report(test_labels, predictions))"
   ]
  },
  {
   "cell_type": "markdown",
   "source": [
    "## SVM w/ tfidf"
   ],
   "metadata": {
    "collapsed": false
   },
   "id": "78751df791c4c530"
  },
  {
   "cell_type": "code",
   "execution_count": null,
   "outputs": [],
   "source": [
    "# Classifier - Algorithm - SVM\n",
    "from sklearn import model_selection, naive_bayes, svm\n",
    "# fit the training dataset on the classifier\n",
    "SVM = svm.SVC(C=1.0, kernel='linear', degree=3, gamma='auto')\n",
    "SVM.fit(X_train_tfidf,train_labels)\n",
    "# predict the labels on validation dataset\n",
    "predictions_SVM = SVM.predict(X_test_tfidf)\n",
    "# Use accuracy_score function to get the accuracy\n",
    "print(\"SVM Accuracy Score -> \",accuracy_score(predictions_SVM, test_labels)*100)"
   ],
   "metadata": {
    "collapsed": false
   },
   "id": "f0fdd69d32b03d66"
  },
  {
   "cell_type": "code",
   "execution_count": null,
   "outputs": [],
   "source": [
    "from sklearn.metrics import confusion_matrix\n",
    "import seaborn as sns\n",
    "import matplotlib.pyplot as plt\n",
    "\n",
    "# Obtain the confusion matrix\n",
    "cm = confusion_matrix(test_labels, predictions_SVM)\n",
    "\n",
    "# Plot the confusion matrix as a heatmap\n",
    "plt.figure(figsize=(8, 6))\n",
    "sns.heatmap(cm, annot=True, fmt=\"d\", cmap=\"Blues\", xticklabels=['Negative', 'Positive'], yticklabels=['Negative', 'Positive'])\n",
    "plt.xlabel(\"Predicted\")\n",
    "plt.ylabel(\"True\")\n",
    "plt.title(\"Confusion Matrix - SVM Classifier\")\n",
    "plt.show()\n"
   ],
   "metadata": {
    "collapsed": false
   },
   "id": "7f70e30108e79074"
  },
  {
   "cell_type": "markdown",
   "source": [],
   "metadata": {
    "collapsed": false
   },
   "id": "9a06196a861d282a"
  },
  {
   "cell_type": "code",
   "execution_count": null,
   "outputs": [],
   "source": [
    "train_predictions_SVM = SVM.predict(X_train_tfidf)\n",
    "print(\"TRAIN SVM Accuracy Score -> \",accuracy_score(train_predictions_SVM, train_labels)*100)"
   ],
   "metadata": {
    "collapsed": false
   },
   "id": "671c38c0bc2d6a9"
  },
  {
   "cell_type": "markdown",
   "source": [
    "### SVM with random search hyperparam tunning"
   ],
   "metadata": {
    "collapsed": false
   },
   "id": "2c5fd43eed7d53be"
  },
  {
   "cell_type": "code",
   "execution_count": null,
   "outputs": [],
   "source": [
    "from sklearn.model_selection import RandomizedSearchCV\n",
    "from scipy.stats import uniform\n",
    "\n",
    "# Define the parameter distributions\n",
    "param_distributions = {\n",
    "    'C': uniform(loc=0.1, scale=100),  # Regularization parameter\n",
    "    'kernel': ['linear', 'poly', 'rbf', 'sigmoid'],  # Kernel type\n",
    "    'degree': [2, 3, 4],  # Degree of the polynomial kernel (if polynomial)\n",
    "    'gamma': ['scale', 'auto']  # Kernel coefficient (for 'rbf', 'poly', and 'sigmoid')\n",
    "}\n",
    "\n",
    "# Create the SVM classifier\n",
    "svm_classifier = svm.SVC()\n",
    "\n",
    "# Perform randomized search with cross-validation\n",
    "random_search = RandomizedSearchCV(svm_classifier, param_distributions, n_iter=20, cv=5, scoring='accuracy', random_state=42)\n",
    "random_search.fit(X_train_tfidf, train_labels)\n",
    "\n",
    "# Get the best parameters\n",
    "best_params = random_search.best_params_\n",
    "print(\"Best Parameters:\", best_params)\n",
    "\n",
    "# Make predictions using the best model\n",
    "best_model = random_search.best_estimator_\n",
    "predictions = best_model.predict(X_test_tfidf)\n",
    "\n",
    "# Calculate accuracy\n",
    "accuracy = accuracy_score(test_labels, predictions)\n",
    "print(\"Accuracy Score:\", accuracy)\n"
   ],
   "metadata": {
    "collapsed": false,
    "is_executing": true
   },
   "id": "63f8b44bd0fa6492"
  },
  {
   "cell_type": "markdown",
   "id": "5f812581",
   "metadata": {},
   "source": [
    "## Logistic Regression"
   ]
  },
  {
   "cell_type": "markdown",
   "id": "d0eda50c",
   "metadata": {},
   "source": [
    "### Logistic Regression w/ BoW"
   ]
  },
  {
   "cell_type": "code",
   "execution_count": null,
   "id": "f8d335bd",
   "metadata": {},
   "outputs": [],
   "source": [
    "# Train a Logistic Regression classifier\n",
    "logistic_regression_model = LogisticRegression()\n",
    "logistic_regression_model.fit(X_train_vectorized_bow, train_labels)\n",
    "\n",
    "# Make predictions on the test set\n",
    "predictions = logistic_regression_model.predict(X_test_vectorized_bow)\n",
    "\n",
    "# Evaluate the model\n",
    "accuracy = accuracy_score(test_labels, predictions)\n",
    "print(f\"Accuracy: {accuracy}\")\n",
    "print(classification_report(test_labels, predictions))"
   ]
  },
  {
   "cell_type": "markdown",
   "id": "a52630ed",
   "metadata": {},
   "source": [
    "### Logistic Regression w/ tfidf"
   ]
  },
  {
   "cell_type": "code",
   "execution_count": null,
   "id": "3a650a07",
   "metadata": {},
   "outputs": [],
   "source": [
    "# Train a Logistic Regression classifier\n",
    "logistic_regression_model = LogisticRegression()\n",
    "logistic_regression_model.fit(X_train_tfidf, train_labels)\n",
    "\n",
    "# Make predictions on the test set\n",
    "predictions = logistic_regression_model.predict(X_test_tfidf)\n",
    "\n",
    "# Evaluate the model\n",
    "accuracy = accuracy_score(test_labels, predictions)\n",
    "print(f\"Accuracy: {accuracy}\")\n",
    "print(classification_report(test_labels, predictions))"
   ]
  },
  {
   "cell_type": "markdown",
   "source": [
    "### Tunning Logistic Regression with TFIDF "
   ],
   "metadata": {
    "collapsed": false
   },
   "id": "142a86761c78dcdb"
  },
  {
   "cell_type": "code",
   "execution_count": null,
   "outputs": [],
   "source": [
    "from sklearn.linear_model import LogisticRegression\n",
    "from sklearn.model_selection import GridSearchCV\n",
    "from sklearn.metrics import accuracy_score, classification_report\n",
    "\n",
    "# Define the Logistic Regression model\n",
    "logistic_regression_model = LogisticRegression()\n",
    "\n",
    "# Define hyperparameters to tune\n",
    "param_grid = {\n",
    "    'C': [0.001, 0.01, 0.1, 1, 10, 100],  # Regularization parameter\n",
    "    'penalty': ['l1', 'l2'],  # Penalty norm\n",
    "    'solver': ['liblinear', 'saga']  # Optimization algorithm\n",
    "}\n",
    "\n",
    "# Perform Grid Search cross-validation\n",
    "grid_search = GridSearchCV(estimator=logistic_regression_model, param_grid=param_grid, cv=5, n_jobs=-1)\n",
    "grid_search.fit(X_train_tfidf, train_labels)\n",
    "\n",
    "# Get the best parameters\n",
    "best_params = grid_search.best_params_\n",
    "print(\"Best Parameters:\", best_params)\n",
    "\n",
    "# Make predictions on the test set using the best model\n",
    "best_model = grid_search.best_estimator_\n",
    "predictions = best_model.predict(X_test_tfidf)\n",
    "\n",
    "# Evaluate the best model\n",
    "accuracy = accuracy_score(test_labels, predictions)\n",
    "print(f\"Accuracy: {accuracy}\")\n",
    "print(classification_report(test_labels, predictions))\n",
    "\n"
   ],
   "metadata": {
    "collapsed": false
   },
   "id": "ec05c6eef679eaeb"
  },
  {
   "cell_type": "code",
   "execution_count": null,
   "outputs": [],
   "source": [
    "# Make predictions on the train and test set using the best model\n",
    "train_predictions = best_model.predict(X_train_tfidf)\n",
    "test_predictions = best_model.predict(X_test_tfidf)\n",
    "\n",
    "# Calculate train and test accuracy\n",
    "train_accuracy = accuracy_score(train_labels, train_predictions)\n",
    "test_accuracy = accuracy_score(test_labels, test_predictions)\n",
    "\n",
    "# Print train and test accuracy for the best model\n",
    "print(f\"Train Accuracy: {train_accuracy}\")\n",
    "print(f\"Test Accuracy: {test_accuracy}\")"
   ],
   "metadata": {
    "collapsed": false
   },
   "id": "80307655076657db"
  },
  {
   "cell_type": "code",
   "execution_count": null,
   "outputs": [],
   "source": [
    "from sklearn.metrics import confusion_matrix\n",
    "\n",
    "# Get the best model\n",
    "best_model = grid_search.best_estimator_\n",
    "\n",
    "# Make predictions on the test set using the best model\n",
    "test_predictions = best_model.predict(X_test_tfidf)\n",
    "\n",
    "# Calculate confusion matrix\n",
    "conf_matrix = confusion_matrix(test_labels, test_predictions)\n",
    "\n",
    "# Print confusion matrix\n",
    "print(\"Confusion Matrix:\")\n",
    "print(conf_matrix)\n"
   ],
   "metadata": {
    "collapsed": false
   },
   "id": "c78e2afff87a28f8"
  },
  {
   "cell_type": "code",
   "execution_count": null,
   "outputs": [],
   "source": [
    "import pandas as pd\n",
    "\n",
    "# Initialize an empty list to store misclassified instances\n",
    "misclassified_instances = []\n",
    "\n",
    "# Iterate over test instances\n",
    "for text, actual_label, predicted_label in zip(test_data, test_labels, test_predictions):\n",
    "    if actual_label != predicted_label:\n",
    "        # Append misclassified instance to the list\n",
    "        misclassified_instances.append({'Text': text, 'Actual Label': actual_label, 'Predicted Label': predicted_label})\n",
    "\n",
    "# Create a DataFrame from the list of misclassified instances\n",
    "misclassified_df = pd.DataFrame(misclassified_instances)\n",
    "\n",
    "# Print misclassified instances\n",
    "print(\"Misclassified Instances:\")\n",
    "misclassified_df.head()\n",
    "\n"
   ],
   "metadata": {
    "collapsed": false
   },
   "id": "eff4962b252a80fa"
  },
  {
   "cell_type": "code",
   "execution_count": null,
   "outputs": [],
   "source": [
    "import seaborn as sns\n",
    "import matplotlib.pyplot as plt\n",
    "\n",
    "# Plot the distribution of actual labels\n",
    "plt.figure(figsize=(10, 5))\n",
    "sns.countplot(x='Actual Label', data=misclassified_df, palette='coolwarm', order=misclassified_df['Actual Label'].value_counts().index)\n",
    "plt.title('Distribution of Actual Labels')\n",
    "plt.xlabel('Actual Label')\n",
    "plt.ylabel('Count')\n",
    "plt.xticks(rotation=45)\n",
    "plt.show()\n",
    "\n",
    "# Plot the distribution of predicted labels\n",
    "plt.figure(figsize=(10, 5))\n",
    "sns.countplot(x='Predicted Label', data=misclassified_df, palette='coolwarm', order=misclassified_df['Predicted Label'].value_counts().index)\n",
    "plt.title('Distribution of Predicted Labels')\n",
    "plt.xlabel('Predicted Label')\n",
    "plt.ylabel('Count')\n",
    "plt.xticks(rotation=45)\n",
    "plt.show()\n"
   ],
   "metadata": {
    "collapsed": false
   },
   "id": "ecee09069c8b5248"
  },
  {
   "cell_type": "code",
   "execution_count": null,
   "outputs": [],
   "source": [
    "import pandas as pd\n",
    "\n",
    "# Assuming df contains the \"cleaned_text\" and \"review_text\" columns\n",
    "# Assuming misclassified_df contains the \"Text\" column\n",
    "\n",
    "# Rename the \"Text\" column in misclassified_df to match the column name in df\n",
    "misclassified_df.rename(columns={'Text': 'cleaned_text'}, inplace=True)\n",
    "\n",
    "# Perform a merge based on the \"cleaned_text\" column\n",
    "merged_df = pd.merge(misclassified_df, df[['cleaned_text', 'review_text']], on='cleaned_text', how='left')\n",
    "\n",
    "# Print the merged DataFrame\n",
    "print(\"Merged DataFrame:\")\n",
    "merged_df.head()"
   ],
   "metadata": {
    "collapsed": false
   },
   "id": "e5301f069a26031f"
  },
  {
   "cell_type": "code",
   "execution_count": null,
   "outputs": [],
   "source": [
    "merged_df.review_text[0]"
   ],
   "metadata": {
    "collapsed": false
   },
   "id": "61552be3a99ec1f4"
  },
  {
   "cell_type": "markdown",
   "id": "4485fd92",
   "metadata": {
    "ExecuteTime": {
     "end_time": "2024-04-04T16:45:10.413079Z",
     "start_time": "2024-04-04T16:45:10.390723Z"
    }
   },
   "source": [
    "### Logistic Regression with TFIDF and bigrams"
   ]
  },
  {
   "cell_type": "code",
   "execution_count": null,
   "id": "cdaa8ce7",
   "metadata": {},
   "outputs": [],
   "source": [
    "import nltk\n",
    "from nltk import word_tokenize, ngrams"
   ]
  },
  {
   "cell_type": "code",
   "execution_count": null,
   "id": "8bde2f9f",
   "metadata": {},
   "outputs": [],
   "source": [
    "# Generate bigrams\n",
    "df['bigrams'] = df['cleaned_text'].apply(lambda x: list(ngrams(x, 2)))\n",
    "\n",
    "# Convert bigrams back to text\n",
    "df['bigrams_text'] = df['bigrams'].apply(lambda x: ' '.join([' '.join(gram) for gram in x]))\n",
    "\n",
    "# Use only bigrams for TF-IDF vectorization\n",
    "df['combined_text'] = df['bigrams_text']\n",
    "\n",
    "# Split the dataset\n",
    "X_train, X_test, y_train, y_test = train_test_split(df['combined_text'], df['sentiment'], test_size=0.2, random_state=42)\n"
   ]
  },
  {
   "cell_type": "code",
   "execution_count": null,
   "id": "2a6d92a4",
   "metadata": {},
   "outputs": [],
   "source": [
    "# TF-IDF vectorization\n",
    "tfidf_vectorizer = TfidfVectorizer()\n",
    "X_train_tfidf = tfidf_vectorizer.fit_transform(X_train)\n",
    "X_test_tfidf = tfidf_vectorizer.transform(X_test)\n",
    "\n",
    "# Train a model (e.g., logistic regression)\n",
    "model = LogisticRegression()\n",
    "model.fit(X_train_tfidf, y_train)\n",
    "\n",
    "# Make predictions on the train set\n",
    "train_predictions = model.predict(X_train_tfidf)\n",
    "\n",
    "# Evaluate the model on the train set\n",
    "train_accuracy = accuracy_score(y_train, train_predictions)\n",
    "print(\"Train Set:\")\n",
    "print(f\"Train Accuracy: {train_accuracy}\")\n",
    "print(classification_report(y_train, train_predictions))\n",
    "\n",
    "# Make predictions on the test set\n",
    "test_predictions = model.predict(X_test_tfidf)\n",
    "\n",
    "# Evaluate the model on the test set\n",
    "test_accuracy = accuracy_score(y_test, test_predictions)\n",
    "print(\"\\nTest Set:\")\n",
    "print(f\"Test Accuracy: {test_accuracy}\")\n",
    "print(classification_report(y_test, test_predictions))"
   ]
  },
  {
   "cell_type": "markdown",
   "id": "fc8f8d2d",
   "metadata": {},
   "source": [
    "### Logistic Regression with TFIDF and uni-bigrams"
   ]
  },
  {
   "cell_type": "code",
   "execution_count": null,
   "id": "34ccd1b7",
   "metadata": {},
   "outputs": [],
   "source": [
    "\n",
    "# Generate uni-bigrams\n",
    "df['uni_bigrams'] = df['cleaned_text'].apply(lambda x: list(ngrams(x, 2)))\n",
    "\n",
    "# Convert uni-bigrams back to text\n",
    "df['uni_bigrams_text'] = df['uni_bigrams'].apply(lambda x: ' '.join([' '.join(gram) for gram in x]))\n",
    "\n",
    "# Combine unigrams and uni-bigrams for TF-IDF vectorization\n",
    "df['combined_text'] = df['cleaned_text'].apply(lambda x: ' '.join(x)) + ' ' + df['uni_bigrams_text']\n",
    "\n",
    "# Split the dataset\n",
    "X_train, X_test, y_train, y_test = train_test_split(df['combined_text'], df['sentiment'], test_size=0.2, random_state=42)\n"
   ]
  },
  {
   "cell_type": "code",
   "execution_count": 81,
   "id": "cb6c75da",
   "metadata": {
    "ExecuteTime": {
     "end_time": "2024-04-04T19:44:34.938781Z",
     "start_time": "2024-04-04T19:44:34.785500Z"
    }
   },
   "outputs": [],
   "source": [
    "# logistic regression cv\n",
    "# max iter = 2000\n",
    "# semi supervised learning\n",
    "# TF-IDF vectorization\n",
    "tfidf_vectorizer = TfidfVectorizer()\n",
    "X_train_tfidf = tfidf_vectorizer.fit_transform(X_train)\n",
    "X_test_tfidf = tfidf_vectorizer.transform(X_test)\n",
    "\n",
    "# Train a model (e.g., logistic regression)\n",
    "model = LogisticRegression()\n",
    "model.fit(X_train_tfidf, y_train)\n",
    "\n",
    "# Make predictions on the test set\n",
    "predictions = model.predict(X_test_tfidf)\n",
    "\n",
    "# Evaluate the model\n",
    "accuracy = accuracy_score(y_test, predictions)\n",
    "print(f\"Accuracy: {accuracy}\")\n",
    "print(classification_report(y_test, predictions))"
   ]
  },
  {
   "cell_type": "code",
   "execution_count": 82,
   "id": "de0a94a0",
   "metadata": {
    "ExecuteTime": {
     "end_time": "2024-04-04T19:44:41.412985Z",
     "start_time": "2024-04-04T19:44:35.686528Z"
    }
   },
   "outputs": [],
   "source": [
    "# Get feature names (unigrams and uni-bigrams)\n",
    "feature_names = tfidf_vectorizer.get_feature_names()\n",
    "\n",
    "# Get coefficients assigned to each feature\n",
    "coefficients = model.coef_[0]\n",
    "\n",
    "# Combine feature names and coefficients into a dictionary\n",
    "feature_importance_dict = dict(zip(feature_names, coefficients))\n",
    "\n",
    "# Sort the dictionary by absolute coefficient values to see the most important features\n",
    "sorted_feature_importance = sorted(feature_importance_dict.items(), key=lambda x: abs(x[1]), reverse=True)\n",
    "\n",
    "# Print or visualize the top features\n",
    "top_features = sorted_feature_importance[:20]  # Adjust the number of features to display\n",
    "for feature, importance in top_features:\n",
    "    print(f\"{feature}: {importance}\")"
   ]
  },
  {
   "cell_type": "markdown",
   "id": "4206ebe4",
   "metadata": {
    "ExecuteTime": {
     "end_time": "2024-04-04T19:45:11.004560Z",
     "start_time": "2024-04-04T19:45:10.975250Z"
    }
   },
   "source": [
    "### TFIDF WITH TRIGRAMS"
   ]
  },
  {
   "cell_type": "code",
   "execution_count": 86,
   "id": "9d9597fd",
   "metadata": {
    "ExecuteTime": {
     "end_time": "2024-04-04T19:45:16.602899Z",
     "start_time": "2024-04-04T19:45:14.355750Z"
    }
   },
   "outputs": [
    {
     "ename": "ValueError",
     "evalue": "empty vocabulary; perhaps the documents only contain stop words",
     "output_type": "error",
     "traceback": [
      "\u001B[0;31m---------------------------------------------------------------------------\u001B[0m",
      "\u001B[0;31mValueError\u001B[0m                                Traceback (most recent call last)",
      "Cell \u001B[0;32mIn[86], line 3\u001B[0m\n\u001B[1;32m      1\u001B[0m \u001B[38;5;66;03m# TF-IDF vectorization\u001B[39;00m\n\u001B[1;32m      2\u001B[0m tfidf_vectorizer \u001B[38;5;241m=\u001B[39m TfidfVectorizer()\n\u001B[0;32m----> 3\u001B[0m X_train_tfidf \u001B[38;5;241m=\u001B[39m \u001B[43mtfidf_vectorizer\u001B[49m\u001B[38;5;241;43m.\u001B[39;49m\u001B[43mfit_transform\u001B[49m\u001B[43m(\u001B[49m\u001B[43mX_train\u001B[49m\u001B[43m)\u001B[49m\n\u001B[1;32m      4\u001B[0m X_test_tfidf \u001B[38;5;241m=\u001B[39m tfidf_vectorizer\u001B[38;5;241m.\u001B[39mtransform(X_test)\n\u001B[1;32m      6\u001B[0m \u001B[38;5;66;03m# Train a model (e.g., logistic regression)\u001B[39;00m\n",
      "File \u001B[0;32m~/PycharmProjects/thesis/venv/lib/python3.10/site-packages/sklearn/feature_extraction/text.py:2138\u001B[0m, in \u001B[0;36mTfidfVectorizer.fit_transform\u001B[0;34m(self, raw_documents, y)\u001B[0m\n\u001B[1;32m   2131\u001B[0m \u001B[38;5;28mself\u001B[39m\u001B[38;5;241m.\u001B[39m_check_params()\n\u001B[1;32m   2132\u001B[0m \u001B[38;5;28mself\u001B[39m\u001B[38;5;241m.\u001B[39m_tfidf \u001B[38;5;241m=\u001B[39m TfidfTransformer(\n\u001B[1;32m   2133\u001B[0m     norm\u001B[38;5;241m=\u001B[39m\u001B[38;5;28mself\u001B[39m\u001B[38;5;241m.\u001B[39mnorm,\n\u001B[1;32m   2134\u001B[0m     use_idf\u001B[38;5;241m=\u001B[39m\u001B[38;5;28mself\u001B[39m\u001B[38;5;241m.\u001B[39muse_idf,\n\u001B[1;32m   2135\u001B[0m     smooth_idf\u001B[38;5;241m=\u001B[39m\u001B[38;5;28mself\u001B[39m\u001B[38;5;241m.\u001B[39msmooth_idf,\n\u001B[1;32m   2136\u001B[0m     sublinear_tf\u001B[38;5;241m=\u001B[39m\u001B[38;5;28mself\u001B[39m\u001B[38;5;241m.\u001B[39msublinear_tf,\n\u001B[1;32m   2137\u001B[0m )\n\u001B[0;32m-> 2138\u001B[0m X \u001B[38;5;241m=\u001B[39m \u001B[38;5;28;43msuper\u001B[39;49m\u001B[43m(\u001B[49m\u001B[43m)\u001B[49m\u001B[38;5;241;43m.\u001B[39;49m\u001B[43mfit_transform\u001B[49m\u001B[43m(\u001B[49m\u001B[43mraw_documents\u001B[49m\u001B[43m)\u001B[49m\n\u001B[1;32m   2139\u001B[0m \u001B[38;5;28mself\u001B[39m\u001B[38;5;241m.\u001B[39m_tfidf\u001B[38;5;241m.\u001B[39mfit(X)\n\u001B[1;32m   2140\u001B[0m \u001B[38;5;66;03m# X is already a transformed view of raw_documents so\u001B[39;00m\n\u001B[1;32m   2141\u001B[0m \u001B[38;5;66;03m# we set copy to False\u001B[39;00m\n",
      "File \u001B[0;32m~/PycharmProjects/thesis/venv/lib/python3.10/site-packages/sklearn/base.py:1474\u001B[0m, in \u001B[0;36m_fit_context.<locals>.decorator.<locals>.wrapper\u001B[0;34m(estimator, *args, **kwargs)\u001B[0m\n\u001B[1;32m   1467\u001B[0m     estimator\u001B[38;5;241m.\u001B[39m_validate_params()\n\u001B[1;32m   1469\u001B[0m \u001B[38;5;28;01mwith\u001B[39;00m config_context(\n\u001B[1;32m   1470\u001B[0m     skip_parameter_validation\u001B[38;5;241m=\u001B[39m(\n\u001B[1;32m   1471\u001B[0m         prefer_skip_nested_validation \u001B[38;5;129;01mor\u001B[39;00m global_skip_validation\n\u001B[1;32m   1472\u001B[0m     )\n\u001B[1;32m   1473\u001B[0m ):\n\u001B[0;32m-> 1474\u001B[0m     \u001B[38;5;28;01mreturn\u001B[39;00m \u001B[43mfit_method\u001B[49m\u001B[43m(\u001B[49m\u001B[43mestimator\u001B[49m\u001B[43m,\u001B[49m\u001B[43m \u001B[49m\u001B[38;5;241;43m*\u001B[39;49m\u001B[43margs\u001B[49m\u001B[43m,\u001B[49m\u001B[43m \u001B[49m\u001B[38;5;241;43m*\u001B[39;49m\u001B[38;5;241;43m*\u001B[39;49m\u001B[43mkwargs\u001B[49m\u001B[43m)\u001B[49m\n",
      "File \u001B[0;32m~/PycharmProjects/thesis/venv/lib/python3.10/site-packages/sklearn/feature_extraction/text.py:1389\u001B[0m, in \u001B[0;36mCountVectorizer.fit_transform\u001B[0;34m(self, raw_documents, y)\u001B[0m\n\u001B[1;32m   1381\u001B[0m             warnings\u001B[38;5;241m.\u001B[39mwarn(\n\u001B[1;32m   1382\u001B[0m                 \u001B[38;5;124m\"\u001B[39m\u001B[38;5;124mUpper case characters found in\u001B[39m\u001B[38;5;124m\"\u001B[39m\n\u001B[1;32m   1383\u001B[0m                 \u001B[38;5;124m\"\u001B[39m\u001B[38;5;124m vocabulary while \u001B[39m\u001B[38;5;124m'\u001B[39m\u001B[38;5;124mlowercase\u001B[39m\u001B[38;5;124m'\u001B[39m\u001B[38;5;124m\"\u001B[39m\n\u001B[1;32m   1384\u001B[0m                 \u001B[38;5;124m\"\u001B[39m\u001B[38;5;124m is True. These entries will not\u001B[39m\u001B[38;5;124m\"\u001B[39m\n\u001B[1;32m   1385\u001B[0m                 \u001B[38;5;124m\"\u001B[39m\u001B[38;5;124m be matched with any documents\u001B[39m\u001B[38;5;124m\"\u001B[39m\n\u001B[1;32m   1386\u001B[0m             )\n\u001B[1;32m   1387\u001B[0m             \u001B[38;5;28;01mbreak\u001B[39;00m\n\u001B[0;32m-> 1389\u001B[0m vocabulary, X \u001B[38;5;241m=\u001B[39m \u001B[38;5;28;43mself\u001B[39;49m\u001B[38;5;241;43m.\u001B[39;49m\u001B[43m_count_vocab\u001B[49m\u001B[43m(\u001B[49m\u001B[43mraw_documents\u001B[49m\u001B[43m,\u001B[49m\u001B[43m \u001B[49m\u001B[38;5;28;43mself\u001B[39;49m\u001B[38;5;241;43m.\u001B[39;49m\u001B[43mfixed_vocabulary_\u001B[49m\u001B[43m)\u001B[49m\n\u001B[1;32m   1391\u001B[0m \u001B[38;5;28;01mif\u001B[39;00m \u001B[38;5;28mself\u001B[39m\u001B[38;5;241m.\u001B[39mbinary:\n\u001B[1;32m   1392\u001B[0m     X\u001B[38;5;241m.\u001B[39mdata\u001B[38;5;241m.\u001B[39mfill(\u001B[38;5;241m1\u001B[39m)\n",
      "File \u001B[0;32m~/PycharmProjects/thesis/venv/lib/python3.10/site-packages/sklearn/feature_extraction/text.py:1295\u001B[0m, in \u001B[0;36mCountVectorizer._count_vocab\u001B[0;34m(self, raw_documents, fixed_vocab)\u001B[0m\n\u001B[1;32m   1293\u001B[0m     vocabulary \u001B[38;5;241m=\u001B[39m \u001B[38;5;28mdict\u001B[39m(vocabulary)\n\u001B[1;32m   1294\u001B[0m     \u001B[38;5;28;01mif\u001B[39;00m \u001B[38;5;129;01mnot\u001B[39;00m vocabulary:\n\u001B[0;32m-> 1295\u001B[0m         \u001B[38;5;28;01mraise\u001B[39;00m \u001B[38;5;167;01mValueError\u001B[39;00m(\n\u001B[1;32m   1296\u001B[0m             \u001B[38;5;124m\"\u001B[39m\u001B[38;5;124mempty vocabulary; perhaps the documents only contain stop words\u001B[39m\u001B[38;5;124m\"\u001B[39m\n\u001B[1;32m   1297\u001B[0m         )\n\u001B[1;32m   1299\u001B[0m \u001B[38;5;28;01mif\u001B[39;00m indptr[\u001B[38;5;241m-\u001B[39m\u001B[38;5;241m1\u001B[39m] \u001B[38;5;241m>\u001B[39m np\u001B[38;5;241m.\u001B[39miinfo(np\u001B[38;5;241m.\u001B[39mint32)\u001B[38;5;241m.\u001B[39mmax:  \u001B[38;5;66;03m# = 2**31 - 1\u001B[39;00m\n\u001B[1;32m   1300\u001B[0m     \u001B[38;5;28;01mif\u001B[39;00m _IS_32BIT:\n",
      "\u001B[0;31mValueError\u001B[0m: empty vocabulary; perhaps the documents only contain stop words"
     ]
    }
   ],
   "source": [
    "from sklearn.feature_extraction.text import CountVectorizer, TfidfVectorizer\n",
    "import pandas as pd\n",
    "\n",
    "# Assuming 'cleaned_text' is a column containing tokenized lists of strings\n",
    "\n",
    "# Convert trigrams back to text\n",
    "df['trigrams'] = df['cleaned_text'].apply(lambda x: list(ngrams(x, 3)))\n",
    "df['trigrams_text'] = df['trigrams'].apply(lambda x: ' '.join([' '.join(gram) for gram in x]))\n",
    "\n",
    "# Getting trigrams with CountVectorizer\n",
    "count_vectorizer = CountVectorizer(ngram_range=(3, 3))\n",
    "X1 = count_vectorizer.fit_transform(df['trigrams_text'])\n",
    "features_count = count_vectorizer.get_feature_names()\n",
    "\n",
    "print(\"\\n\\nCount Vectorizer Features : \\n\", features_count)\n",
    "print(\"\\n\\nX1 : \\n\", X1.toarray())\n",
    "\n",
    "# Applying TFIDF\n",
    "tfidf_vectorizer = TfidfVectorizer(ngram_range=(3, 3))\n",
    "X2 = tfidf_vectorizer.fit_transform(df['trigrams_text'])\n",
    "features_tfidf = tfidf_vectorizer.get_feature_names()\n",
    "scores = X2.toarray()\n",
    "\n",
    "print(\"\\n\\nTFIDF Vectorizer Features : \\n\", features_tfidf)\n",
    "print(\"\\n\\nScores : \\n\", scores)\n",
    "\n",
    "# Getting top ranking features\n",
    "sums = X2.sum(axis=0)\n",
    "data1 = []\n",
    "for col, term in enumerate(features_tfidf):\n",
    "    data1.append((term, sums[0, col]))\n",
    "ranking = pd.DataFrame(data1, columns=['term', 'rank'])\n",
    "words = ranking.sort_values('rank', ascending=False)\n",
    "print(\"\\n\\nTop Ranking Words : \\n\", words.head(7))\n"
   ]
  },
  {
   "cell_type": "markdown",
   "id": "2fc189d9",
   "metadata": {},
   "source": [
    "### Word2Vec with logistic regression"
   ]
  },
  {
   "cell_type": "code",
   "execution_count": 87,
   "id": "5ac28b96",
   "metadata": {
    "ExecuteTime": {
     "end_time": "2024-04-04T19:45:41.423174Z",
     "start_time": "2024-04-04T19:45:34.904603Z"
    }
   },
   "outputs": [],
   "source": [
    "# Split the dataset into training and testing sets\n",
    "#train_data, test_data, train_labels, test_labels = train_test_split(df['cleaned_text'], df['sentiment'], test_size=0.2, random_state=42)\n",
    "\n",
    "# Train Word2Vec model\n",
    "word2vec_model = Word2Vec(sentences=train_data, vector_size=300, window=5, min_count=1, workers=4, sg=0)\n",
    "\n",
    "# Create average word vectors for each document\n",
    "def average_word_vectors(words, model, num_features):\n",
    "    feature_vector = np.zeros((num_features,), dtype=\"float64\")\n",
    "    nwords = 0.\n",
    "\n",
    "    for word in words:\n",
    "        if word in model.wv.index_to_key:\n",
    "            nwords = nwords + 1.\n",
    "            feature_vector = np.add(feature_vector, model.wv[word])\n",
    "\n",
    "    if nwords:\n",
    "        feature_vector = np.divide(feature_vector, nwords)\n",
    "\n",
    "    return feature_vector\n",
    "\n",
    "# Create document vectors for the training set\n",
    "X_train = np.vstack([average_word_vectors(words, word2vec_model, 300) for words in train_data])\n",
    "\n",
    "# Create document vectors for the test set\n",
    "X_test = np.vstack([average_word_vectors(words, word2vec_model, 300) for words in test_data])\n",
    "\n",
    "# Scale the data\n",
    "scaler = StandardScaler()\n",
    "X_train_scaled = scaler.fit_transform(X_train)\n",
    "X_test_scaled = scaler.transform(X_test)\n",
    "\n",
    "# Train Logistic Regression classifier\n",
    "logistic_regression_model = LogisticRegression()\n",
    "logistic_regression_model.fit(X_train_scaled, train_labels)\n",
    "\n",
    "# Make predictions on the test set\n",
    "predictions = logistic_regression_model.predict(X_test_scaled)\n",
    "\n",
    "# Evaluate the model\n",
    "accuracy = accuracy_score(test_labels, predictions)\n",
    "print(f\"Accuracy: {accuracy}\")\n",
    "print(classification_report(test_labels, predictions))\n"
   ]
  },
  {
   "cell_type": "markdown",
   "id": "e996b185",
   "metadata": {
    "ExecuteTime": {
     "end_time": "2024-04-04T19:45:50.435642Z",
     "start_time": "2024-04-04T19:45:46.984847Z"
    }
   },
   "source": [
    "## Random Forest"
   ]
  },
  {
   "cell_type": "code",
   "execution_count": 90,
   "id": "9f8ed268",
   "metadata": {
    "ExecuteTime": {
     "end_time": "2024-04-04T19:46:01.642756Z",
     "start_time": "2024-04-04T19:45:53.645955Z"
    }
   },
   "outputs": [
    {
     "ename": "ValueError",
     "evalue": "empty vocabulary; perhaps the documents only contain stop words",
     "output_type": "error",
     "traceback": [
      "\u001B[0;31m---------------------------------------------------------------------------\u001B[0m",
      "\u001B[0;31mValueError\u001B[0m                                Traceback (most recent call last)",
      "Cell \u001B[0;32mIn[90], line 6\u001B[0m\n\u001B[1;32m      1\u001B[0m \u001B[38;5;66;03m# logistic regression cv\u001B[39;00m\n\u001B[1;32m      2\u001B[0m \u001B[38;5;66;03m# max iter = 2000\u001B[39;00m\n\u001B[1;32m      3\u001B[0m \u001B[38;5;66;03m# semi supervised learning\u001B[39;00m\n\u001B[1;32m      4\u001B[0m \u001B[38;5;66;03m# TF-IDF vectorization\u001B[39;00m\n\u001B[1;32m      5\u001B[0m tfidf_vectorizer \u001B[38;5;241m=\u001B[39m TfidfVectorizer()\n\u001B[0;32m----> 6\u001B[0m X_train_tfidf \u001B[38;5;241m=\u001B[39m \u001B[43mtfidf_vectorizer\u001B[49m\u001B[38;5;241;43m.\u001B[39;49m\u001B[43mfit_transform\u001B[49m\u001B[43m(\u001B[49m\u001B[43mX_train\u001B[49m\u001B[43m)\u001B[49m\n\u001B[1;32m      7\u001B[0m X_test_tfidf \u001B[38;5;241m=\u001B[39m tfidf_vectorizer\u001B[38;5;241m.\u001B[39mtransform(X_test)\n\u001B[1;32m      9\u001B[0m \u001B[38;5;66;03m# Train a model (e.g., logistic regression)\u001B[39;00m\n",
      "File \u001B[0;32m~/PycharmProjects/thesis/venv/lib/python3.10/site-packages/sklearn/feature_extraction/text.py:2138\u001B[0m, in \u001B[0;36mTfidfVectorizer.fit_transform\u001B[0;34m(self, raw_documents, y)\u001B[0m\n\u001B[1;32m   2131\u001B[0m \u001B[38;5;28mself\u001B[39m\u001B[38;5;241m.\u001B[39m_check_params()\n\u001B[1;32m   2132\u001B[0m \u001B[38;5;28mself\u001B[39m\u001B[38;5;241m.\u001B[39m_tfidf \u001B[38;5;241m=\u001B[39m TfidfTransformer(\n\u001B[1;32m   2133\u001B[0m     norm\u001B[38;5;241m=\u001B[39m\u001B[38;5;28mself\u001B[39m\u001B[38;5;241m.\u001B[39mnorm,\n\u001B[1;32m   2134\u001B[0m     use_idf\u001B[38;5;241m=\u001B[39m\u001B[38;5;28mself\u001B[39m\u001B[38;5;241m.\u001B[39muse_idf,\n\u001B[1;32m   2135\u001B[0m     smooth_idf\u001B[38;5;241m=\u001B[39m\u001B[38;5;28mself\u001B[39m\u001B[38;5;241m.\u001B[39msmooth_idf,\n\u001B[1;32m   2136\u001B[0m     sublinear_tf\u001B[38;5;241m=\u001B[39m\u001B[38;5;28mself\u001B[39m\u001B[38;5;241m.\u001B[39msublinear_tf,\n\u001B[1;32m   2137\u001B[0m )\n\u001B[0;32m-> 2138\u001B[0m X \u001B[38;5;241m=\u001B[39m \u001B[38;5;28;43msuper\u001B[39;49m\u001B[43m(\u001B[49m\u001B[43m)\u001B[49m\u001B[38;5;241;43m.\u001B[39;49m\u001B[43mfit_transform\u001B[49m\u001B[43m(\u001B[49m\u001B[43mraw_documents\u001B[49m\u001B[43m)\u001B[49m\n\u001B[1;32m   2139\u001B[0m \u001B[38;5;28mself\u001B[39m\u001B[38;5;241m.\u001B[39m_tfidf\u001B[38;5;241m.\u001B[39mfit(X)\n\u001B[1;32m   2140\u001B[0m \u001B[38;5;66;03m# X is already a transformed view of raw_documents so\u001B[39;00m\n\u001B[1;32m   2141\u001B[0m \u001B[38;5;66;03m# we set copy to False\u001B[39;00m\n",
      "File \u001B[0;32m~/PycharmProjects/thesis/venv/lib/python3.10/site-packages/sklearn/base.py:1474\u001B[0m, in \u001B[0;36m_fit_context.<locals>.decorator.<locals>.wrapper\u001B[0;34m(estimator, *args, **kwargs)\u001B[0m\n\u001B[1;32m   1467\u001B[0m     estimator\u001B[38;5;241m.\u001B[39m_validate_params()\n\u001B[1;32m   1469\u001B[0m \u001B[38;5;28;01mwith\u001B[39;00m config_context(\n\u001B[1;32m   1470\u001B[0m     skip_parameter_validation\u001B[38;5;241m=\u001B[39m(\n\u001B[1;32m   1471\u001B[0m         prefer_skip_nested_validation \u001B[38;5;129;01mor\u001B[39;00m global_skip_validation\n\u001B[1;32m   1472\u001B[0m     )\n\u001B[1;32m   1473\u001B[0m ):\n\u001B[0;32m-> 1474\u001B[0m     \u001B[38;5;28;01mreturn\u001B[39;00m \u001B[43mfit_method\u001B[49m\u001B[43m(\u001B[49m\u001B[43mestimator\u001B[49m\u001B[43m,\u001B[49m\u001B[43m \u001B[49m\u001B[38;5;241;43m*\u001B[39;49m\u001B[43margs\u001B[49m\u001B[43m,\u001B[49m\u001B[43m \u001B[49m\u001B[38;5;241;43m*\u001B[39;49m\u001B[38;5;241;43m*\u001B[39;49m\u001B[43mkwargs\u001B[49m\u001B[43m)\u001B[49m\n",
      "File \u001B[0;32m~/PycharmProjects/thesis/venv/lib/python3.10/site-packages/sklearn/feature_extraction/text.py:1389\u001B[0m, in \u001B[0;36mCountVectorizer.fit_transform\u001B[0;34m(self, raw_documents, y)\u001B[0m\n\u001B[1;32m   1381\u001B[0m             warnings\u001B[38;5;241m.\u001B[39mwarn(\n\u001B[1;32m   1382\u001B[0m                 \u001B[38;5;124m\"\u001B[39m\u001B[38;5;124mUpper case characters found in\u001B[39m\u001B[38;5;124m\"\u001B[39m\n\u001B[1;32m   1383\u001B[0m                 \u001B[38;5;124m\"\u001B[39m\u001B[38;5;124m vocabulary while \u001B[39m\u001B[38;5;124m'\u001B[39m\u001B[38;5;124mlowercase\u001B[39m\u001B[38;5;124m'\u001B[39m\u001B[38;5;124m\"\u001B[39m\n\u001B[1;32m   1384\u001B[0m                 \u001B[38;5;124m\"\u001B[39m\u001B[38;5;124m is True. These entries will not\u001B[39m\u001B[38;5;124m\"\u001B[39m\n\u001B[1;32m   1385\u001B[0m                 \u001B[38;5;124m\"\u001B[39m\u001B[38;5;124m be matched with any documents\u001B[39m\u001B[38;5;124m\"\u001B[39m\n\u001B[1;32m   1386\u001B[0m             )\n\u001B[1;32m   1387\u001B[0m             \u001B[38;5;28;01mbreak\u001B[39;00m\n\u001B[0;32m-> 1389\u001B[0m vocabulary, X \u001B[38;5;241m=\u001B[39m \u001B[38;5;28;43mself\u001B[39;49m\u001B[38;5;241;43m.\u001B[39;49m\u001B[43m_count_vocab\u001B[49m\u001B[43m(\u001B[49m\u001B[43mraw_documents\u001B[49m\u001B[43m,\u001B[49m\u001B[43m \u001B[49m\u001B[38;5;28;43mself\u001B[39;49m\u001B[38;5;241;43m.\u001B[39;49m\u001B[43mfixed_vocabulary_\u001B[49m\u001B[43m)\u001B[49m\n\u001B[1;32m   1391\u001B[0m \u001B[38;5;28;01mif\u001B[39;00m \u001B[38;5;28mself\u001B[39m\u001B[38;5;241m.\u001B[39mbinary:\n\u001B[1;32m   1392\u001B[0m     X\u001B[38;5;241m.\u001B[39mdata\u001B[38;5;241m.\u001B[39mfill(\u001B[38;5;241m1\u001B[39m)\n",
      "File \u001B[0;32m~/PycharmProjects/thesis/venv/lib/python3.10/site-packages/sklearn/feature_extraction/text.py:1295\u001B[0m, in \u001B[0;36mCountVectorizer._count_vocab\u001B[0;34m(self, raw_documents, fixed_vocab)\u001B[0m\n\u001B[1;32m   1293\u001B[0m     vocabulary \u001B[38;5;241m=\u001B[39m \u001B[38;5;28mdict\u001B[39m(vocabulary)\n\u001B[1;32m   1294\u001B[0m     \u001B[38;5;28;01mif\u001B[39;00m \u001B[38;5;129;01mnot\u001B[39;00m vocabulary:\n\u001B[0;32m-> 1295\u001B[0m         \u001B[38;5;28;01mraise\u001B[39;00m \u001B[38;5;167;01mValueError\u001B[39;00m(\n\u001B[1;32m   1296\u001B[0m             \u001B[38;5;124m\"\u001B[39m\u001B[38;5;124mempty vocabulary; perhaps the documents only contain stop words\u001B[39m\u001B[38;5;124m\"\u001B[39m\n\u001B[1;32m   1297\u001B[0m         )\n\u001B[1;32m   1299\u001B[0m \u001B[38;5;28;01mif\u001B[39;00m indptr[\u001B[38;5;241m-\u001B[39m\u001B[38;5;241m1\u001B[39m] \u001B[38;5;241m>\u001B[39m np\u001B[38;5;241m.\u001B[39miinfo(np\u001B[38;5;241m.\u001B[39mint32)\u001B[38;5;241m.\u001B[39mmax:  \u001B[38;5;66;03m# = 2**31 - 1\u001B[39;00m\n\u001B[1;32m   1300\u001B[0m     \u001B[38;5;28;01mif\u001B[39;00m _IS_32BIT:\n",
      "\u001B[0;31mValueError\u001B[0m: empty vocabulary; perhaps the documents only contain stop words"
     ]
    }
   ],
   "source": [
    "from sklearn.ensemble import RandomForestClassifier"
   ]
  },
  {
   "cell_type": "markdown",
   "id": "590f86f5",
   "metadata": {},
   "source": [
    "### Random Forrest with bofw"
   ]
  },
  {
   "cell_type": "code",
   "execution_count": null,
   "id": "e0e42834",
   "metadata": {},
   "outputs": [],
   "source": [
    "# Build the Random Forest model\n",
    "random_forest_model = RandomForestClassifier(n_estimators=100, random_state=42)\n",
    "\n",
    "# Train the model\n",
    "random_forest_model.fit(X_train_vectorized_bow, train_labels)\n",
    "\n",
    "# Make predictions on the test set\n",
    "predictions = random_forest_model.predict(X_test_vectorized_bow)\n",
    "\n",
    "# Evaluate the model\n",
    "accuracy = accuracy_score(test_labels, predictions)\n",
    "print(f\"Accuracy: {accuracy:.2f}\")\n",
    "\n",
    "# Print classification report\n",
    "print(\"Classification Report:\")\n",
    "print(classification_report(test_labels, predictions))"
   ]
  },
  {
   "cell_type": "markdown",
   "id": "1f4069e7",
   "metadata": {},
   "source": [
    "### Random Forrest witb tfidf"
   ]
  },
  {
   "cell_type": "code",
   "execution_count": null,
   "id": "13fed21b",
   "metadata": {},
   "outputs": [],
   "source": [
    "# Build the Random Forest model\n",
    "random_forest_model = RandomForestClassifier(n_estimators=100, random_state=42)\n",
    "\n",
    "# Train the model\n",
    "random_forest_model.fit(X_train_tfidf, train_labels)\n",
    "\n",
    "# Make predictions on the test set\n",
    "predictions = random_forest_model.predict(X_test_tfidf)\n",
    "\n",
    "# Evaluate the model\n",
    "accuracy = accuracy_score(test_labels, predictions)\n",
    "print(f\"Accuracy: {accuracy:.2f}\")\n",
    "\n",
    "# Print classification report\n",
    "print(\"Classification Report:\")\n",
    "print(classification_report(test_labels, predictions))"
   ]
  },
  {
   "cell_type": "code",
   "execution_count": null,
   "id": "2776fda1",
   "metadata": {},
   "outputs": [],
   "source": []
  },
  {
   "cell_type": "code",
   "execution_count": null,
   "id": "de377c6b",
   "metadata": {},
   "outputs": [],
   "source": []
  }
 ],
 "metadata": {
  "kernelspec": {
   "display_name": "Python 3 (ipykernel)",
   "language": "python",
   "name": "python3"
  },
  "language_info": {
   "codemirror_mode": {
    "name": "ipython",
    "version": 3
   },
   "file_extension": ".py",
   "mimetype": "text/x-python",
   "name": "python",
   "nbconvert_exporter": "python",
   "pygments_lexer": "ipython3",
   "version": "3.10.2"
  }
 },
 "nbformat": 4,
 "nbformat_minor": 5
}
