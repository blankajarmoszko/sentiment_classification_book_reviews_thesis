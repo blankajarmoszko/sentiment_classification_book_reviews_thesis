{
 "cells": [
  {
   "cell_type": "code",
   "execution_count": 2,
   "id": "ef75b051f52a0fe",
   "metadata": {
    "collapsed": false,
    "ExecuteTime": {
     "end_time": "2024-04-04T02:32:32.743352Z",
     "start_time": "2024-04-04T02:32:32.718520Z"
    }
   },
   "outputs": [],
   "source": [
    "import keras\n",
    "#import matplotlib.pyplot as plt\n",
    "import numpy as np\n",
    "\n",
    "import tensorflow as tf\n",
    "tf.config.run_functions_eagerly(True)\n",
    "\n",
    "from keras.models import Sequential\n",
    "from keras.layers import Dense, InputLayer, Dropout, Conv2D, MaxPooling2D, Flatten, Embedding, LSTM, GRU, RNN\n",
    "from keras.utils import to_categorical, set_random_seed, pad_sequences\n",
    "from keras.callbacks import EarlyStopping\n",
    "\n",
    "from sklearn.metrics import accuracy_score, confusion_matrix\n",
    "from sklearn.model_selection import train_test_split"
   ]
  },
  {
   "cell_type": "code",
   "execution_count": 16,
   "id": "ec069be2",
   "metadata": {
    "ExecuteTime": {
     "end_time": "2024-04-04T02:35:40.386795Z",
     "start_time": "2024-04-04T02:35:39.345310Z"
    }
   },
   "outputs": [],
   "source": [
    "# Read the data file into a Pandas DataFrame\n",
    "import pandas as pd\n",
    "df = pd.read_csv('/Users/blankajarmoszko/PycharmProjects/thesis/data/df_cleaned.csv')"
   ]
  },
  {
   "cell_type": "code",
   "execution_count": 17,
   "id": "7645b39e",
   "metadata": {
    "scrolled": true,
    "ExecuteTime": {
     "end_time": "2024-04-04T02:35:40.390720Z",
     "start_time": "2024-04-04T02:35:40.387001Z"
    }
   },
   "outputs": [
    {
     "data": {
      "text/plain": "             title reviewer_name num_reviews num_followers  star_rating  \\\n0  The Stolen Heir     Emily May       2,031          310k          4.0   \n1  The Stolen Heir       jessica       2,563         42.2k          4.0   \n2  The Stolen Heir         katia         306           526          3.0   \n3  The Stolen Heir     madeline          111            18          3.0   \n4  The Stolen Heir    Haley pham          81          143k          4.0   \n\n                                         review_text num_likes  num_comments  \\\n0  Not quite The Cruel Prince but I enjoyed this ...     1,206           3.0   \n1  hmm. i didnt obsess over this one like i did w...       654           0.0   \n2  3.5 ★oak was a disappointment, but suren!! i l...     1,233           0.0   \n3  Every single mention of Oak’s hooves was a jum...     1,707           4.0   \n4  4.5 stars  star  fairy_light_skin_tone  face_h...     1,432           0.0   \n\n   sentiment                                       cleaned_text  \n0          1  quit,cruel,princ,enjoy,loti,love,back,world,lo...  \n1          1  hmm,didnt,obsess,one,like,origin,trilogywhil,e...  \n2          0  oak,disappoint,suren,love,much,cant,pretend,do...  \n3          0              everi,singl,mention,oak,hoov,jumpscar  \n4          1  star,star,fairy_light_skin_ton,face_holding_ba...  ",
      "text/html": "<div>\n<style scoped>\n    .dataframe tbody tr th:only-of-type {\n        vertical-align: middle;\n    }\n\n    .dataframe tbody tr th {\n        vertical-align: top;\n    }\n\n    .dataframe thead th {\n        text-align: right;\n    }\n</style>\n<table border=\"1\" class=\"dataframe\">\n  <thead>\n    <tr style=\"text-align: right;\">\n      <th></th>\n      <th>title</th>\n      <th>reviewer_name</th>\n      <th>num_reviews</th>\n      <th>num_followers</th>\n      <th>star_rating</th>\n      <th>review_text</th>\n      <th>num_likes</th>\n      <th>num_comments</th>\n      <th>sentiment</th>\n      <th>cleaned_text</th>\n    </tr>\n  </thead>\n  <tbody>\n    <tr>\n      <th>0</th>\n      <td>The Stolen Heir</td>\n      <td>Emily May</td>\n      <td>2,031</td>\n      <td>310k</td>\n      <td>4.0</td>\n      <td>Not quite The Cruel Prince but I enjoyed this ...</td>\n      <td>1,206</td>\n      <td>3.0</td>\n      <td>1</td>\n      <td>quit,cruel,princ,enjoy,loti,love,back,world,lo...</td>\n    </tr>\n    <tr>\n      <th>1</th>\n      <td>The Stolen Heir</td>\n      <td>jessica</td>\n      <td>2,563</td>\n      <td>42.2k</td>\n      <td>4.0</td>\n      <td>hmm. i didnt obsess over this one like i did w...</td>\n      <td>654</td>\n      <td>0.0</td>\n      <td>1</td>\n      <td>hmm,didnt,obsess,one,like,origin,trilogywhil,e...</td>\n    </tr>\n    <tr>\n      <th>2</th>\n      <td>The Stolen Heir</td>\n      <td>katia</td>\n      <td>306</td>\n      <td>526</td>\n      <td>3.0</td>\n      <td>3.5 ★oak was a disappointment, but suren!! i l...</td>\n      <td>1,233</td>\n      <td>0.0</td>\n      <td>0</td>\n      <td>oak,disappoint,suren,love,much,cant,pretend,do...</td>\n    </tr>\n    <tr>\n      <th>3</th>\n      <td>The Stolen Heir</td>\n      <td>madeline</td>\n      <td>111</td>\n      <td>18</td>\n      <td>3.0</td>\n      <td>Every single mention of Oak’s hooves was a jum...</td>\n      <td>1,707</td>\n      <td>4.0</td>\n      <td>0</td>\n      <td>everi,singl,mention,oak,hoov,jumpscar</td>\n    </tr>\n    <tr>\n      <th>4</th>\n      <td>The Stolen Heir</td>\n      <td>Haley pham</td>\n      <td>81</td>\n      <td>143k</td>\n      <td>4.0</td>\n      <td>4.5 stars  star  fairy_light_skin_tone  face_h...</td>\n      <td>1,432</td>\n      <td>0.0</td>\n      <td>1</td>\n      <td>star,star,fairy_light_skin_ton,face_holding_ba...</td>\n    </tr>\n  </tbody>\n</table>\n</div>"
     },
     "execution_count": 17,
     "metadata": {},
     "output_type": "execute_result"
    }
   ],
   "source": [
    "df.head()"
   ]
  },
  {
   "cell_type": "code",
   "execution_count": 18,
   "id": "f123973c",
   "metadata": {
    "ExecuteTime": {
     "end_time": "2024-04-04T02:35:40.681341Z",
     "start_time": "2024-04-04T02:35:40.673144Z"
    }
   },
   "outputs": [
    {
     "data": {
      "text/plain": "             title reviewer_name num_reviews num_followers  star_rating  \\\n0  The Stolen Heir     Emily May       2,031          310k          4.0   \n1  The Stolen Heir       jessica       2,563         42.2k          4.0   \n2  The Stolen Heir         katia         306           526          3.0   \n3  The Stolen Heir     madeline          111            18          3.0   \n4  The Stolen Heir    Haley pham          81          143k          4.0   \n\n                                         review_text num_likes  num_comments  \\\n0  Not quite The Cruel Prince but I enjoyed this ...     1,206           3.0   \n1  hmm. i didnt obsess over this one like i did w...       654           0.0   \n2  3.5 ★oak was a disappointment, but suren!! i l...     1,233           0.0   \n3  Every single mention of Oak’s hooves was a jum...     1,707           4.0   \n4  4.5 stars  star  fairy_light_skin_tone  face_h...     1,432           0.0   \n\n   sentiment                                       cleaned_text  \n0          1  quit,cruel,princ,enjoy,loti,love,back,world,lo...  \n1          1  hmm,didnt,obsess,one,like,origin,trilogywhil,e...  \n2          0  oak,disappoint,suren,love,much,cant,pretend,do...  \n3          0              everi,singl,mention,oak,hoov,jumpscar  \n4          1  star,star,fairy_light_skin_ton,face_holding_ba...  ",
      "text/html": "<div>\n<style scoped>\n    .dataframe tbody tr th:only-of-type {\n        vertical-align: middle;\n    }\n\n    .dataframe tbody tr th {\n        vertical-align: top;\n    }\n\n    .dataframe thead th {\n        text-align: right;\n    }\n</style>\n<table border=\"1\" class=\"dataframe\">\n  <thead>\n    <tr style=\"text-align: right;\">\n      <th></th>\n      <th>title</th>\n      <th>reviewer_name</th>\n      <th>num_reviews</th>\n      <th>num_followers</th>\n      <th>star_rating</th>\n      <th>review_text</th>\n      <th>num_likes</th>\n      <th>num_comments</th>\n      <th>sentiment</th>\n      <th>cleaned_text</th>\n    </tr>\n  </thead>\n  <tbody>\n    <tr>\n      <th>0</th>\n      <td>The Stolen Heir</td>\n      <td>Emily May</td>\n      <td>2,031</td>\n      <td>310k</td>\n      <td>4.0</td>\n      <td>Not quite The Cruel Prince but I enjoyed this ...</td>\n      <td>1,206</td>\n      <td>3.0</td>\n      <td>1</td>\n      <td>quit,cruel,princ,enjoy,loti,love,back,world,lo...</td>\n    </tr>\n    <tr>\n      <th>1</th>\n      <td>The Stolen Heir</td>\n      <td>jessica</td>\n      <td>2,563</td>\n      <td>42.2k</td>\n      <td>4.0</td>\n      <td>hmm. i didnt obsess over this one like i did w...</td>\n      <td>654</td>\n      <td>0.0</td>\n      <td>1</td>\n      <td>hmm,didnt,obsess,one,like,origin,trilogywhil,e...</td>\n    </tr>\n    <tr>\n      <th>2</th>\n      <td>The Stolen Heir</td>\n      <td>katia</td>\n      <td>306</td>\n      <td>526</td>\n      <td>3.0</td>\n      <td>3.5 ★oak was a disappointment, but suren!! i l...</td>\n      <td>1,233</td>\n      <td>0.0</td>\n      <td>0</td>\n      <td>oak,disappoint,suren,love,much,cant,pretend,do...</td>\n    </tr>\n    <tr>\n      <th>3</th>\n      <td>The Stolen Heir</td>\n      <td>madeline</td>\n      <td>111</td>\n      <td>18</td>\n      <td>3.0</td>\n      <td>Every single mention of Oak’s hooves was a jum...</td>\n      <td>1,707</td>\n      <td>4.0</td>\n      <td>0</td>\n      <td>everi,singl,mention,oak,hoov,jumpscar</td>\n    </tr>\n    <tr>\n      <th>4</th>\n      <td>The Stolen Heir</td>\n      <td>Haley pham</td>\n      <td>81</td>\n      <td>143k</td>\n      <td>4.0</td>\n      <td>4.5 stars  star  fairy_light_skin_tone  face_h...</td>\n      <td>1,432</td>\n      <td>0.0</td>\n      <td>1</td>\n      <td>star,star,fairy_light_skin_ton,face_holding_ba...</td>\n    </tr>\n  </tbody>\n</table>\n</div>"
     },
     "execution_count": 18,
     "metadata": {},
     "output_type": "execute_result"
    }
   ],
   "source": [
    "df.head()"
   ]
  },
  {
   "cell_type": "code",
   "execution_count": 19,
   "id": "d95efa53",
   "metadata": {
    "ExecuteTime": {
     "end_time": "2024-04-04T02:35:41.658684Z",
     "start_time": "2024-04-04T02:35:41.652603Z"
    }
   },
   "outputs": [],
   "source": [
    "# Drop rows with NaN values in the 'cleaned_text' column\n",
    "df = df.dropna(subset=['cleaned_text'])\n",
    "\n",
    "# Reset index after removing rows\n",
    "df.reset_index(drop=True, inplace=True)"
   ]
  },
  {
   "cell_type": "code",
   "execution_count": 9,
   "id": "0b77344b",
   "metadata": {
    "ExecuteTime": {
     "end_time": "2024-04-04T02:33:14.273020Z",
     "start_time": "2024-04-04T02:33:13.948609Z"
    }
   },
   "outputs": [],
   "source": [
    "def convert_to_list(text):\n",
    "    return text.split(',')\n",
    "df[\"cleaned_text\"] = df[\"cleaned_text\"].apply(convert_to_list)"
   ]
  },
  {
   "cell_type": "code",
   "execution_count": 20,
   "id": "ab730d9a",
   "metadata": {
    "ExecuteTime": {
     "end_time": "2024-04-04T02:35:43.588572Z",
     "start_time": "2024-04-04T02:35:43.581165Z"
    }
   },
   "outputs": [
    {
     "data": {
      "text/plain": "             title reviewer_name num_reviews num_followers  star_rating  \\\n0  The Stolen Heir     Emily May       2,031          310k          4.0   \n1  The Stolen Heir       jessica       2,563         42.2k          4.0   \n2  The Stolen Heir         katia         306           526          3.0   \n3  The Stolen Heir     madeline          111            18          3.0   \n4  The Stolen Heir    Haley pham          81          143k          4.0   \n\n                                         review_text num_likes  num_comments  \\\n0  Not quite The Cruel Prince but I enjoyed this ...     1,206           3.0   \n1  hmm. i didnt obsess over this one like i did w...       654           0.0   \n2  3.5 ★oak was a disappointment, but suren!! i l...     1,233           0.0   \n3  Every single mention of Oak’s hooves was a jum...     1,707           4.0   \n4  4.5 stars  star  fairy_light_skin_tone  face_h...     1,432           0.0   \n\n   sentiment                                       cleaned_text  \n0          1  quit,cruel,princ,enjoy,loti,love,back,world,lo...  \n1          1  hmm,didnt,obsess,one,like,origin,trilogywhil,e...  \n2          0  oak,disappoint,suren,love,much,cant,pretend,do...  \n3          0              everi,singl,mention,oak,hoov,jumpscar  \n4          1  star,star,fairy_light_skin_ton,face_holding_ba...  ",
      "text/html": "<div>\n<style scoped>\n    .dataframe tbody tr th:only-of-type {\n        vertical-align: middle;\n    }\n\n    .dataframe tbody tr th {\n        vertical-align: top;\n    }\n\n    .dataframe thead th {\n        text-align: right;\n    }\n</style>\n<table border=\"1\" class=\"dataframe\">\n  <thead>\n    <tr style=\"text-align: right;\">\n      <th></th>\n      <th>title</th>\n      <th>reviewer_name</th>\n      <th>num_reviews</th>\n      <th>num_followers</th>\n      <th>star_rating</th>\n      <th>review_text</th>\n      <th>num_likes</th>\n      <th>num_comments</th>\n      <th>sentiment</th>\n      <th>cleaned_text</th>\n    </tr>\n  </thead>\n  <tbody>\n    <tr>\n      <th>0</th>\n      <td>The Stolen Heir</td>\n      <td>Emily May</td>\n      <td>2,031</td>\n      <td>310k</td>\n      <td>4.0</td>\n      <td>Not quite The Cruel Prince but I enjoyed this ...</td>\n      <td>1,206</td>\n      <td>3.0</td>\n      <td>1</td>\n      <td>quit,cruel,princ,enjoy,loti,love,back,world,lo...</td>\n    </tr>\n    <tr>\n      <th>1</th>\n      <td>The Stolen Heir</td>\n      <td>jessica</td>\n      <td>2,563</td>\n      <td>42.2k</td>\n      <td>4.0</td>\n      <td>hmm. i didnt obsess over this one like i did w...</td>\n      <td>654</td>\n      <td>0.0</td>\n      <td>1</td>\n      <td>hmm,didnt,obsess,one,like,origin,trilogywhil,e...</td>\n    </tr>\n    <tr>\n      <th>2</th>\n      <td>The Stolen Heir</td>\n      <td>katia</td>\n      <td>306</td>\n      <td>526</td>\n      <td>3.0</td>\n      <td>3.5 ★oak was a disappointment, but suren!! i l...</td>\n      <td>1,233</td>\n      <td>0.0</td>\n      <td>0</td>\n      <td>oak,disappoint,suren,love,much,cant,pretend,do...</td>\n    </tr>\n    <tr>\n      <th>3</th>\n      <td>The Stolen Heir</td>\n      <td>madeline</td>\n      <td>111</td>\n      <td>18</td>\n      <td>3.0</td>\n      <td>Every single mention of Oak’s hooves was a jum...</td>\n      <td>1,707</td>\n      <td>4.0</td>\n      <td>0</td>\n      <td>everi,singl,mention,oak,hoov,jumpscar</td>\n    </tr>\n    <tr>\n      <th>4</th>\n      <td>The Stolen Heir</td>\n      <td>Haley pham</td>\n      <td>81</td>\n      <td>143k</td>\n      <td>4.0</td>\n      <td>4.5 stars  star  fairy_light_skin_tone  face_h...</td>\n      <td>1,432</td>\n      <td>0.0</td>\n      <td>1</td>\n      <td>star,star,fairy_light_skin_ton,face_holding_ba...</td>\n    </tr>\n  </tbody>\n</table>\n</div>"
     },
     "execution_count": 20,
     "metadata": {},
     "output_type": "execute_result"
    }
   ],
   "source": [
    "df.head()"
   ]
  },
  {
   "cell_type": "markdown",
   "id": "8ba55a79",
   "metadata": {
    "ExecuteTime": {
     "end_time": "2024-03-06T23:31:05.342505Z",
     "start_time": "2024-03-06T23:31:05.330831Z"
    }
   },
   "source": [
    "## RNN"
   ]
  },
  {
   "cell_type": "code",
   "execution_count": 21,
   "id": "a317d434",
   "metadata": {
    "ExecuteTime": {
     "end_time": "2024-04-04T02:35:46.475563Z",
     "start_time": "2024-04-04T02:35:46.466771Z"
    }
   },
   "outputs": [],
   "source": [
    "import keras\n",
    "import matplotlib.pyplot as plt\n",
    "import numpy as np\n",
    "\n",
    "import tensorflow as tf\n",
    "tf.config.run_functions_eagerly(True)\n",
    "from tensorflow.keras.preprocessing.text import Tokenizer\n",
    "\n",
    "from keras.models import Sequential\n",
    "from keras.layers import Dense, InputLayer, Dropout, Conv2D, MaxPooling2D, Flatten, Embedding, LSTM, GRU, RNN\n",
    "from keras.utils import to_categorical, set_random_seed, pad_sequences\n",
    "from keras.callbacks import EarlyStopping\n",
    "from keras.optimizers.legacy import Adam\n",
    "\n",
    "from sklearn.metrics import accuracy_score, confusion_matrix"
   ]
  },
  {
   "cell_type": "markdown",
   "source": [
    "## Data Processing"
   ],
   "metadata": {
    "collapsed": false
   },
   "id": "a7afa41f863afb51"
  },
  {
   "cell_type": "code",
   "execution_count": 22,
   "id": "c43d6e0d17a995ae",
   "metadata": {
    "collapsed": false,
    "ExecuteTime": {
     "end_time": "2024-04-04T02:35:48.668988Z",
     "start_time": "2024-04-04T02:35:48.654910Z"
    }
   },
   "outputs": [
    {
     "name": "stdout",
     "output_type": "stream",
     "text": [
      "The maximum length of lists in the column is: 0\n",
      "The minimum length of lists in the column is: 0\n"
     ]
    }
   ],
   "source": [
    "# Get the minimum and the maximum length of reviews\n",
    "max_length = df['cleaned_text'].apply(lambda x: len(x) if isinstance(x, list) else 0).max()\n",
    "print(f\"The maximum length of lists in the column is: {max_length}\")\n",
    "min_length = df['cleaned_text'].apply(lambda x: len(x) if isinstance(x, list) else 0).min()\n",
    "print(f\"The minimum length of lists in the column is: {min_length}\")"
   ]
  },
  {
   "cell_type": "code",
   "execution_count": 23,
   "outputs": [
    {
     "name": "stdout",
     "output_type": "stream",
     "text": [
      "Shape of X_train_tfidf: (37268, 1000)\n",
      "Shape of X_test_tfidf: (9317, 1000)\n"
     ]
    }
   ],
   "source": [
    "from sklearn.feature_extraction.text import TfidfVectorizer\n",
    "from sklearn.model_selection import train_test_split\n",
    "from tensorflow.keras.preprocessing.text import Tokenizer\n",
    "import pandas as pd\n",
    "\n",
    "# Sample DataFrame df with 'cleaned_text' column\n",
    "# df = pd.DataFrame({'cleaned_text': cleaned_text_list, 'label': label_list})\n",
    "\n",
    "# Set the maximum number of words to keep\n",
    "max_words = 1000\n",
    "\n",
    "# Create a Tokenizer instance with specified parameters\n",
    "tokenizer = Tokenizer(num_words=max_words, oov_token=\"<OOV>\")\n",
    "\n",
    "# Fit the tokenizer on the text data\n",
    "tokenizer.fit_on_texts(df['cleaned_text'])\n",
    "\n",
    "# Convert text to sequences of integers\n",
    "sequences = tokenizer.texts_to_sequences(df['cleaned_text'])\n",
    "\n",
    "# Get the word index mapping\n",
    "word_index = tokenizer.word_index\n",
    "\n",
    "# Split the dataset into training and testing sets\n",
    "X_train, X_test, y_train, y_test = train_test_split(df['cleaned_text'], df['sentiment'], test_size=0.2, random_state=42)\n",
    "\n",
    "# Initialize the TF-IDF vectorizer\n",
    "tfidf_vectorizer = TfidfVectorizer(max_features=max_words)\n",
    "\n",
    "# Fit and transform the training data to TF-IDF vectors\n",
    "X_train_tfidf = tfidf_vectorizer.fit_transform(X_train).toarray()\n",
    "\n",
    "# Transform the testing data to TF-IDF vectors\n",
    "X_test_tfidf = tfidf_vectorizer.transform(X_test).toarray()\n",
    "\n",
    "# Print the shapes of the TF-IDF vectors\n",
    "print(\"Shape of X_train_tfidf:\", X_train_tfidf.shape)\n",
    "print(\"Shape of X_test_tfidf:\", X_test_tfidf.shape)\n"
   ],
   "metadata": {
    "collapsed": false,
    "ExecuteTime": {
     "end_time": "2024-04-04T02:35:57.211164Z",
     "start_time": "2024-04-04T02:35:50.859674Z"
    }
   },
   "id": "942e84453a6a0def"
  },
  {
   "cell_type": "code",
   "execution_count": 24,
   "outputs": [
    {
     "data": {
      "text/plain": "             title reviewer_name num_reviews num_followers  star_rating  \\\n0  The Stolen Heir     Emily May       2,031          310k          4.0   \n1  The Stolen Heir       jessica       2,563         42.2k          4.0   \n2  The Stolen Heir         katia         306           526          3.0   \n3  The Stolen Heir     madeline          111            18          3.0   \n4  The Stolen Heir    Haley pham          81          143k          4.0   \n\n                                         review_text num_likes  num_comments  \\\n0  Not quite The Cruel Prince but I enjoyed this ...     1,206           3.0   \n1  hmm. i didnt obsess over this one like i did w...       654           0.0   \n2  3.5 ★oak was a disappointment, but suren!! i l...     1,233           0.0   \n3  Every single mention of Oak’s hooves was a jum...     1,707           4.0   \n4  4.5 stars  star  fairy_light_skin_tone  face_h...     1,432           0.0   \n\n   sentiment                                       cleaned_text  \\\n0          1  [quit, cruel, princ, enjoy, loti, love, back, ...   \n1          1  [hmm, didnt, obsess, one, like, origin, trilog...   \n2          0  [oak, disappoint, suren, love, much, cant, pre...   \n3          0       [everi, singl, mention, oak, hoov, jumpscar]   \n4          1  [star, star, fairy_light_skin_ton, face_holdin...   \n\n                                           sequences  \n0  [163, 1, 1, 49, 1, 6, 69, 36, 6, 33, 43, 1, 1,...  \n1  [1, 39, 771, 5, 4, 393, 1, 49, 8, 33, 97, 62, ...  \n2  [1, 358, 1, 6, 11, 91, 1, 28, 4, 427, 1, 1, 93...  \n3                            [71, 423, 250, 1, 1, 1]  \n4                                     [46, 46, 1, 1]  ",
      "text/html": "<div>\n<style scoped>\n    .dataframe tbody tr th:only-of-type {\n        vertical-align: middle;\n    }\n\n    .dataframe tbody tr th {\n        vertical-align: top;\n    }\n\n    .dataframe thead th {\n        text-align: right;\n    }\n</style>\n<table border=\"1\" class=\"dataframe\">\n  <thead>\n    <tr style=\"text-align: right;\">\n      <th></th>\n      <th>title</th>\n      <th>reviewer_name</th>\n      <th>num_reviews</th>\n      <th>num_followers</th>\n      <th>star_rating</th>\n      <th>review_text</th>\n      <th>num_likes</th>\n      <th>num_comments</th>\n      <th>sentiment</th>\n      <th>cleaned_text</th>\n      <th>sequences</th>\n    </tr>\n  </thead>\n  <tbody>\n    <tr>\n      <th>0</th>\n      <td>The Stolen Heir</td>\n      <td>Emily May</td>\n      <td>2,031</td>\n      <td>310k</td>\n      <td>4.0</td>\n      <td>Not quite The Cruel Prince but I enjoyed this ...</td>\n      <td>1,206</td>\n      <td>3.0</td>\n      <td>1</td>\n      <td>[quit, cruel, princ, enjoy, loti, love, back, ...</td>\n      <td>[163, 1, 1, 49, 1, 6, 69, 36, 6, 33, 43, 1, 1,...</td>\n    </tr>\n    <tr>\n      <th>1</th>\n      <td>The Stolen Heir</td>\n      <td>jessica</td>\n      <td>2,563</td>\n      <td>42.2k</td>\n      <td>4.0</td>\n      <td>hmm. i didnt obsess over this one like i did w...</td>\n      <td>654</td>\n      <td>0.0</td>\n      <td>1</td>\n      <td>[hmm, didnt, obsess, one, like, origin, trilog...</td>\n      <td>[1, 39, 771, 5, 4, 393, 1, 49, 8, 33, 97, 62, ...</td>\n    </tr>\n    <tr>\n      <th>2</th>\n      <td>The Stolen Heir</td>\n      <td>katia</td>\n      <td>306</td>\n      <td>526</td>\n      <td>3.0</td>\n      <td>3.5 ★oak was a disappointment, but suren!! i l...</td>\n      <td>1,233</td>\n      <td>0.0</td>\n      <td>0</td>\n      <td>[oak, disappoint, suren, love, much, cant, pre...</td>\n      <td>[1, 358, 1, 6, 11, 91, 1, 28, 4, 427, 1, 1, 93...</td>\n    </tr>\n    <tr>\n      <th>3</th>\n      <td>The Stolen Heir</td>\n      <td>madeline</td>\n      <td>111</td>\n      <td>18</td>\n      <td>3.0</td>\n      <td>Every single mention of Oak’s hooves was a jum...</td>\n      <td>1,707</td>\n      <td>4.0</td>\n      <td>0</td>\n      <td>[everi, singl, mention, oak, hoov, jumpscar]</td>\n      <td>[71, 423, 250, 1, 1, 1]</td>\n    </tr>\n    <tr>\n      <th>4</th>\n      <td>The Stolen Heir</td>\n      <td>Haley pham</td>\n      <td>81</td>\n      <td>143k</td>\n      <td>4.0</td>\n      <td>4.5 stars  star  fairy_light_skin_tone  face_h...</td>\n      <td>1,432</td>\n      <td>0.0</td>\n      <td>1</td>\n      <td>[star, star, fairy_light_skin_ton, face_holdin...</td>\n      <td>[46, 46, 1, 1]</td>\n    </tr>\n  </tbody>\n</table>\n</div>"
     },
     "execution_count": 24,
     "metadata": {},
     "output_type": "execute_result"
    }
   ],
   "source": [
    "df.head()"
   ],
   "metadata": {
    "collapsed": false,
    "ExecuteTime": {
     "end_time": "2024-03-14T00:43:20.235714Z",
     "start_time": "2024-03-14T00:43:20.230553Z"
    }
   },
   "id": "cf68cfbf9c9e19c8"
  },
  {
   "cell_type": "code",
   "execution_count": 25,
   "id": "e9cbbcaf47f9095b",
   "metadata": {
    "collapsed": false,
    "ExecuteTime": {
     "end_time": "2024-04-04T02:37:11.805955Z",
     "start_time": "2024-04-04T02:37:11.762500Z"
    }
   },
   "outputs": [
    {
     "ename": "AttributeError",
     "evalue": "'numpy.ndarray' object has no attribute 'values'",
     "output_type": "error",
     "traceback": [
      "\u001B[0;31m---------------------------------------------------------------------------\u001B[0m",
      "\u001B[0;31mAttributeError\u001B[0m                            Traceback (most recent call last)",
      "Cell \u001B[0;32mIn[25], line 3\u001B[0m\n\u001B[1;32m      1\u001B[0m \u001B[38;5;66;03m# # Split the dataset into training and testing sets\u001B[39;00m\n\u001B[1;32m      2\u001B[0m \u001B[38;5;66;03m# x_train_pd, x_test_pd, y_train_pd, y_test_pd = train_test_split(df['sequences'], df['sentiment'], test_size=0.2, random_state=42)\u001B[39;00m\n\u001B[0;32m----> 3\u001B[0m x_train \u001B[38;5;241m=\u001B[39m \u001B[43mX_train_tfidf\u001B[49m\u001B[38;5;241;43m.\u001B[39;49m\u001B[43mvalues\u001B[49m\n\u001B[1;32m      4\u001B[0m x_test \u001B[38;5;241m=\u001B[39m X_test_tfidf\u001B[38;5;241m.\u001B[39mvalues\n\u001B[1;32m      5\u001B[0m y_train \u001B[38;5;241m=\u001B[39m y_train\u001B[38;5;241m.\u001B[39mvalues\n",
      "\u001B[0;31mAttributeError\u001B[0m: 'numpy.ndarray' object has no attribute 'values'"
     ]
    }
   ],
   "source": [
    "# # Split the dataset into training and testing sets\n",
    "# x_train_pd, x_test_pd, y_train_pd, y_test_pd = train_test_split(df['sequences'], df['sentiment'], test_size=0.2, random_state=42)\n",
    "# x_train = X_train_tfidf.values\n",
    "# x_test = X_test_tfidf.values\n",
    "# y_train = y_train.values\n",
    "# y_test = y_test.values"
   ]
  },
  {
   "cell_type": "code",
   "execution_count": 26,
   "outputs": [
    {
     "name": "stdout",
     "output_type": "stream",
     "text": [
      "(37268, 100)\n"
     ]
    }
   ],
   "source": [
    "set_random_seed(0)\n",
    "max_words = 100\n",
    "y_train_cat = to_categorical(y_train)\n",
    "\n",
    "X_train = pad_sequences(X_train_tfidf, maxlen=max_words)\n",
    "X_test = pad_sequences(X_test_tfidf, maxlen=max_words)\n",
    "\n",
    "print(X_train.shape)"
   ],
   "metadata": {
    "collapsed": false,
    "ExecuteTime": {
     "end_time": "2024-04-04T02:38:01.688658Z",
     "start_time": "2024-04-04T02:38:01.483160Z"
    }
   },
   "id": "76b9d60296fcf9f6"
  },
  {
   "cell_type": "markdown",
   "source": [
    "### Simple Model"
   ],
   "metadata": {
    "collapsed": false
   },
   "id": "282d21fd18d90e47"
  },
  {
   "cell_type": "code",
   "execution_count": 27,
   "outputs": [
    {
     "name": "stderr",
     "output_type": "stream",
     "text": [
      "/Users/blankajarmoszko/PycharmProjects/thesis/venv/lib/python3.10/site-packages/keras/src/layers/core/input_layer.py:25: UserWarning: Argument `input_shape` is deprecated. Use `shape` instead.\n",
      "  warnings.warn(\n"
     ]
    },
    {
     "data": {
      "text/plain": "\u001B[1mModel: \"sequential\"\u001B[0m\n",
      "text/html": "<pre style=\"white-space:pre;overflow-x:auto;line-height:normal;font-family:Menlo,'DejaVu Sans Mono',consolas,'Courier New',monospace\"><span style=\"font-weight: bold\">Model: \"sequential\"</span>\n</pre>\n"
     },
     "metadata": {},
     "output_type": "display_data"
    },
    {
     "data": {
      "text/plain": "┏━━━━━━━━━━━━━━━━━━━━━━━━━━━━━━━━━┳━━━━━━━━━━━━━━━━━━━━━━━━┳━━━━━━━━━━━━━━━┓\n┃\u001B[1m \u001B[0m\u001B[1mLayer (type)                   \u001B[0m\u001B[1m \u001B[0m┃\u001B[1m \u001B[0m\u001B[1mOutput Shape          \u001B[0m\u001B[1m \u001B[0m┃\u001B[1m \u001B[0m\u001B[1m      Param #\u001B[0m\u001B[1m \u001B[0m┃\n┡━━━━━━━━━━━━━━━━━━━━━━━━━━━━━━━━━╇━━━━━━━━━━━━━━━━━━━━━━━━╇━━━━━━━━━━━━━━━┩\n│ embedding (\u001B[38;5;33mEmbedding\u001B[0m)           │ (\u001B[38;5;45mNone\u001B[0m, \u001B[38;5;34m100\u001B[0m, \u001B[38;5;34m50\u001B[0m)        │        \u001B[38;5;34m50,000\u001B[0m │\n├─────────────────────────────────┼────────────────────────┼───────────────┤\n│ dense (\u001B[38;5;33mDense\u001B[0m)                   │ (\u001B[38;5;45mNone\u001B[0m, \u001B[38;5;34m100\u001B[0m, \u001B[38;5;34m50\u001B[0m)        │         \u001B[38;5;34m2,550\u001B[0m │\n├─────────────────────────────────┼────────────────────────┼───────────────┤\n│ dense_1 (\u001B[38;5;33mDense\u001B[0m)                 │ (\u001B[38;5;45mNone\u001B[0m, \u001B[38;5;34m100\u001B[0m, \u001B[38;5;34m20\u001B[0m)        │         \u001B[38;5;34m1,020\u001B[0m │\n├─────────────────────────────────┼────────────────────────┼───────────────┤\n│ dense_2 (\u001B[38;5;33mDense\u001B[0m)                 │ (\u001B[38;5;45mNone\u001B[0m, \u001B[38;5;34m100\u001B[0m, \u001B[38;5;34m5\u001B[0m)         │           \u001B[38;5;34m105\u001B[0m │\n├─────────────────────────────────┼────────────────────────┼───────────────┤\n│ dropout (\u001B[38;5;33mDropout\u001B[0m)               │ (\u001B[38;5;45mNone\u001B[0m, \u001B[38;5;34m100\u001B[0m, \u001B[38;5;34m5\u001B[0m)         │             \u001B[38;5;34m0\u001B[0m │\n├─────────────────────────────────┼────────────────────────┼───────────────┤\n│ dense_3 (\u001B[38;5;33mDense\u001B[0m)                 │ (\u001B[38;5;45mNone\u001B[0m, \u001B[38;5;34m100\u001B[0m, \u001B[38;5;34m3\u001B[0m)         │            \u001B[38;5;34m18\u001B[0m │\n└─────────────────────────────────┴────────────────────────┴───────────────┘\n",
      "text/html": "<pre style=\"white-space:pre;overflow-x:auto;line-height:normal;font-family:Menlo,'DejaVu Sans Mono',consolas,'Courier New',monospace\">┏━━━━━━━━━━━━━━━━━━━━━━━━━━━━━━━━━┳━━━━━━━━━━━━━━━━━━━━━━━━┳━━━━━━━━━━━━━━━┓\n┃<span style=\"font-weight: bold\"> Layer (type)                    </span>┃<span style=\"font-weight: bold\"> Output Shape           </span>┃<span style=\"font-weight: bold\">       Param # </span>┃\n┡━━━━━━━━━━━━━━━━━━━━━━━━━━━━━━━━━╇━━━━━━━━━━━━━━━━━━━━━━━━╇━━━━━━━━━━━━━━━┩\n│ embedding (<span style=\"color: #0087ff; text-decoration-color: #0087ff\">Embedding</span>)           │ (<span style=\"color: #00d7ff; text-decoration-color: #00d7ff\">None</span>, <span style=\"color: #00af00; text-decoration-color: #00af00\">100</span>, <span style=\"color: #00af00; text-decoration-color: #00af00\">50</span>)        │        <span style=\"color: #00af00; text-decoration-color: #00af00\">50,000</span> │\n├─────────────────────────────────┼────────────────────────┼───────────────┤\n│ dense (<span style=\"color: #0087ff; text-decoration-color: #0087ff\">Dense</span>)                   │ (<span style=\"color: #00d7ff; text-decoration-color: #00d7ff\">None</span>, <span style=\"color: #00af00; text-decoration-color: #00af00\">100</span>, <span style=\"color: #00af00; text-decoration-color: #00af00\">50</span>)        │         <span style=\"color: #00af00; text-decoration-color: #00af00\">2,550</span> │\n├─────────────────────────────────┼────────────────────────┼───────────────┤\n│ dense_1 (<span style=\"color: #0087ff; text-decoration-color: #0087ff\">Dense</span>)                 │ (<span style=\"color: #00d7ff; text-decoration-color: #00d7ff\">None</span>, <span style=\"color: #00af00; text-decoration-color: #00af00\">100</span>, <span style=\"color: #00af00; text-decoration-color: #00af00\">20</span>)        │         <span style=\"color: #00af00; text-decoration-color: #00af00\">1,020</span> │\n├─────────────────────────────────┼────────────────────────┼───────────────┤\n│ dense_2 (<span style=\"color: #0087ff; text-decoration-color: #0087ff\">Dense</span>)                 │ (<span style=\"color: #00d7ff; text-decoration-color: #00d7ff\">None</span>, <span style=\"color: #00af00; text-decoration-color: #00af00\">100</span>, <span style=\"color: #00af00; text-decoration-color: #00af00\">5</span>)         │           <span style=\"color: #00af00; text-decoration-color: #00af00\">105</span> │\n├─────────────────────────────────┼────────────────────────┼───────────────┤\n│ dropout (<span style=\"color: #0087ff; text-decoration-color: #0087ff\">Dropout</span>)               │ (<span style=\"color: #00d7ff; text-decoration-color: #00d7ff\">None</span>, <span style=\"color: #00af00; text-decoration-color: #00af00\">100</span>, <span style=\"color: #00af00; text-decoration-color: #00af00\">5</span>)         │             <span style=\"color: #00af00; text-decoration-color: #00af00\">0</span> │\n├─────────────────────────────────┼────────────────────────┼───────────────┤\n│ dense_3 (<span style=\"color: #0087ff; text-decoration-color: #0087ff\">Dense</span>)                 │ (<span style=\"color: #00d7ff; text-decoration-color: #00d7ff\">None</span>, <span style=\"color: #00af00; text-decoration-color: #00af00\">100</span>, <span style=\"color: #00af00; text-decoration-color: #00af00\">3</span>)         │            <span style=\"color: #00af00; text-decoration-color: #00af00\">18</span> │\n└─────────────────────────────────┴────────────────────────┴───────────────┘\n</pre>\n"
     },
     "metadata": {},
     "output_type": "display_data"
    },
    {
     "data": {
      "text/plain": "\u001B[1m Total params: \u001B[0m\u001B[38;5;34m53,693\u001B[0m (209.74 KB)\n",
      "text/html": "<pre style=\"white-space:pre;overflow-x:auto;line-height:normal;font-family:Menlo,'DejaVu Sans Mono',consolas,'Courier New',monospace\"><span style=\"font-weight: bold\"> Total params: </span><span style=\"color: #00af00; text-decoration-color: #00af00\">53,693</span> (209.74 KB)\n</pre>\n"
     },
     "metadata": {},
     "output_type": "display_data"
    },
    {
     "data": {
      "text/plain": "\u001B[1m Trainable params: \u001B[0m\u001B[38;5;34m53,693\u001B[0m (209.74 KB)\n",
      "text/html": "<pre style=\"white-space:pre;overflow-x:auto;line-height:normal;font-family:Menlo,'DejaVu Sans Mono',consolas,'Courier New',monospace\"><span style=\"font-weight: bold\"> Trainable params: </span><span style=\"color: #00af00; text-decoration-color: #00af00\">53,693</span> (209.74 KB)\n</pre>\n"
     },
     "metadata": {},
     "output_type": "display_data"
    },
    {
     "data": {
      "text/plain": "\u001B[1m Non-trainable params: \u001B[0m\u001B[38;5;34m0\u001B[0m (0.00 B)\n",
      "text/html": "<pre style=\"white-space:pre;overflow-x:auto;line-height:normal;font-family:Menlo,'DejaVu Sans Mono',consolas,'Courier New',monospace\"><span style=\"font-weight: bold\"> Non-trainable params: </span><span style=\"color: #00af00; text-decoration-color: #00af00\">0</span> (0.00 B)\n</pre>\n"
     },
     "metadata": {},
     "output_type": "display_data"
    },
    {
     "name": "stdout",
     "output_type": "stream",
     "text": [
      "None\n"
     ]
    }
   ],
   "source": [
    "from tensorflow.keras.models import Sequential\n",
    "from tensorflow.keras.layers import InputLayer, Embedding, Dense, Dropout\n",
    "\n",
    "# Define the parameters\n",
    "vocabulary_size = 1000\n",
    "embedding_size = 50\n",
    "\n",
    "# Create the model\n",
    "model = Sequential()\n",
    "model.add(InputLayer(input_shape=(max_words,)))\n",
    "model.add(Embedding(vocabulary_size, embedding_size))\n",
    "model.add(Dense(50, activation='relu'))  # Replace LSTM with Dense\n",
    "model.add(Dense(20, activation='relu'))  # Replace LSTM with Dense\n",
    " # Replace LSTM with Dense\n",
    "model.add(Dense(5, activation='relu'))\n",
    "model.add(Dropout(0.2))\n",
    "model.add(Dense(3, activation='softmax'))\n",
    "\n",
    "# Print model summary\n",
    "print(model.summary())\n"
   ],
   "metadata": {
    "collapsed": false,
    "ExecuteTime": {
     "end_time": "2024-04-04T02:38:07.458489Z",
     "start_time": "2024-04-04T02:38:07.368454Z"
    }
   },
   "id": "c0ec51e8fae96ce"
  },
  {
   "cell_type": "code",
   "execution_count": 31,
   "outputs": [
    {
     "name": "stdout",
     "output_type": "stream",
     "text": [
      "Epoch 1/50\n"
     ]
    },
    {
     "name": "stderr",
     "output_type": "stream",
     "text": [
      "/Users/blankajarmoszko/PycharmProjects/thesis/venv/lib/python3.10/site-packages/tensorflow/python/data/ops/structured_function.py:258: UserWarning: Even though the `tf.config.experimental_run_functions_eagerly` option is set, this option does not apply to tf.data functions. To force eager execution of tf.data functions, please use `tf.data.experimental.enable_debug_mode()`.\n",
      "  warnings.warn(\n"
     ]
    },
    {
     "ename": "ValueError",
     "evalue": "Arguments `target` and `output` must have the same shape up until the last dimension: target.shape=(256, 1), output.shape=(256, 100, 3)",
     "output_type": "error",
     "traceback": [
      "\u001B[0;31m---------------------------------------------------------------------------\u001B[0m",
      "\u001B[0;31mValueError\u001B[0m                                Traceback (most recent call last)",
      "Cell \u001B[0;32mIn[31], line 8\u001B[0m\n\u001B[1;32m      5\u001B[0m early_stopping \u001B[38;5;241m=\u001B[39m EarlyStopping(patience\u001B[38;5;241m=\u001B[39m\u001B[38;5;241m5\u001B[39m, monitor\u001B[38;5;241m=\u001B[39m\u001B[38;5;124m'\u001B[39m\u001B[38;5;124mval_loss\u001B[39m\u001B[38;5;124m'\u001B[39m)\n\u001B[1;32m      7\u001B[0m \u001B[38;5;66;03m# Train the model\u001B[39;00m\n\u001B[0;32m----> 8\u001B[0m history \u001B[38;5;241m=\u001B[39m \u001B[43mmodel\u001B[49m\u001B[38;5;241;43m.\u001B[39;49m\u001B[43mfit\u001B[49m\u001B[43m(\u001B[49m\u001B[43mX_train\u001B[49m\u001B[43m,\u001B[49m\u001B[43m \u001B[49m\u001B[43my_train\u001B[49m\u001B[43m,\u001B[49m\u001B[43m \u001B[49m\u001B[43mvalidation_split\u001B[49m\u001B[38;5;241;43m=\u001B[39;49m\u001B[38;5;241;43m0.1\u001B[39;49m\u001B[43m,\u001B[49m\u001B[43m \u001B[49m\u001B[43mepochs\u001B[49m\u001B[38;5;241;43m=\u001B[39;49m\u001B[38;5;241;43m50\u001B[39;49m\u001B[43m,\u001B[49m\u001B[43m \u001B[49m\u001B[43mbatch_size\u001B[49m\u001B[38;5;241;43m=\u001B[39;49m\u001B[38;5;241;43m256\u001B[39;49m\u001B[43m,\u001B[49m\u001B[43m \u001B[49m\u001B[43mcallbacks\u001B[49m\u001B[38;5;241;43m=\u001B[39;49m\u001B[43m[\u001B[49m\u001B[43mearly_stopping\u001B[49m\u001B[43m]\u001B[49m\u001B[43m)\u001B[49m\n\u001B[1;32m     10\u001B[0m \u001B[38;5;66;03m# Evaluate the model\u001B[39;00m\n\u001B[1;32m     11\u001B[0m test_loss, test_accuracy \u001B[38;5;241m=\u001B[39m model\u001B[38;5;241m.\u001B[39mevaluate(X_test, y_test)\n",
      "File \u001B[0;32m~/PycharmProjects/thesis/venv/lib/python3.10/site-packages/keras/src/utils/traceback_utils.py:122\u001B[0m, in \u001B[0;36mfilter_traceback.<locals>.error_handler\u001B[0;34m(*args, **kwargs)\u001B[0m\n\u001B[1;32m    119\u001B[0m     filtered_tb \u001B[38;5;241m=\u001B[39m _process_traceback_frames(e\u001B[38;5;241m.\u001B[39m__traceback__)\n\u001B[1;32m    120\u001B[0m     \u001B[38;5;66;03m# To get the full stack trace, call:\u001B[39;00m\n\u001B[1;32m    121\u001B[0m     \u001B[38;5;66;03m# `keras.config.disable_traceback_filtering()`\u001B[39;00m\n\u001B[0;32m--> 122\u001B[0m     \u001B[38;5;28;01mraise\u001B[39;00m e\u001B[38;5;241m.\u001B[39mwith_traceback(filtered_tb) \u001B[38;5;28;01mfrom\u001B[39;00m \u001B[38;5;28;01mNone\u001B[39;00m\n\u001B[1;32m    123\u001B[0m \u001B[38;5;28;01mfinally\u001B[39;00m:\n\u001B[1;32m    124\u001B[0m     \u001B[38;5;28;01mdel\u001B[39;00m filtered_tb\n",
      "File \u001B[0;32m~/PycharmProjects/thesis/venv/lib/python3.10/site-packages/keras/src/backend/tensorflow/nn.py:623\u001B[0m, in \u001B[0;36msparse_categorical_crossentropy\u001B[0;34m(target, output, from_logits, axis)\u001B[0m\n\u001B[1;32m    621\u001B[0m \u001B[38;5;28;01mfor\u001B[39;00m e1, e2 \u001B[38;5;129;01min\u001B[39;00m \u001B[38;5;28mzip\u001B[39m(target\u001B[38;5;241m.\u001B[39mshape, output\u001B[38;5;241m.\u001B[39mshape[:\u001B[38;5;241m-\u001B[39m\u001B[38;5;241m1\u001B[39m]):\n\u001B[1;32m    622\u001B[0m     \u001B[38;5;28;01mif\u001B[39;00m e1 \u001B[38;5;129;01mis\u001B[39;00m \u001B[38;5;129;01mnot\u001B[39;00m \u001B[38;5;28;01mNone\u001B[39;00m \u001B[38;5;129;01mand\u001B[39;00m e2 \u001B[38;5;129;01mis\u001B[39;00m \u001B[38;5;129;01mnot\u001B[39;00m \u001B[38;5;28;01mNone\u001B[39;00m \u001B[38;5;129;01mand\u001B[39;00m e1 \u001B[38;5;241m!=\u001B[39m e2:\n\u001B[0;32m--> 623\u001B[0m         \u001B[38;5;28;01mraise\u001B[39;00m \u001B[38;5;167;01mValueError\u001B[39;00m(\n\u001B[1;32m    624\u001B[0m             \u001B[38;5;124m\"\u001B[39m\u001B[38;5;124mArguments `target` and `output` must have the same shape \u001B[39m\u001B[38;5;124m\"\u001B[39m\n\u001B[1;32m    625\u001B[0m             \u001B[38;5;124m\"\u001B[39m\u001B[38;5;124mup until the last dimension: \u001B[39m\u001B[38;5;124m\"\u001B[39m\n\u001B[1;32m    626\u001B[0m             \u001B[38;5;124mf\u001B[39m\u001B[38;5;124m\"\u001B[39m\u001B[38;5;124mtarget.shape=\u001B[39m\u001B[38;5;132;01m{\u001B[39;00mtarget\u001B[38;5;241m.\u001B[39mshape\u001B[38;5;132;01m}\u001B[39;00m\u001B[38;5;124m, output.shape=\u001B[39m\u001B[38;5;132;01m{\u001B[39;00moutput\u001B[38;5;241m.\u001B[39mshape\u001B[38;5;132;01m}\u001B[39;00m\u001B[38;5;124m\"\u001B[39m\n\u001B[1;32m    627\u001B[0m         )\n\u001B[1;32m    629\u001B[0m \u001B[38;5;28;01mif\u001B[39;00m \u001B[38;5;129;01mnot\u001B[39;00m from_logits:\n\u001B[1;32m    630\u001B[0m     output \u001B[38;5;241m=\u001B[39m tf\u001B[38;5;241m.\u001B[39mclip_by_value(output, epsilon(), \u001B[38;5;241m1\u001B[39m \u001B[38;5;241m-\u001B[39m epsilon())\n",
      "\u001B[0;31mValueError\u001B[0m: Arguments `target` and `output` must have the same shape up until the last dimension: target.shape=(256, 1), output.shape=(256, 100, 3)"
     ]
    }
   ],
   "source": [
    "from sklearn.metrics import classification_report\n",
    "model.compile(loss='sparse_categorical_crossentropy', optimizer='adam', metrics=['accuracy'])\n",
    "\n",
    "# Define early stopping\n",
    "early_stopping = EarlyStopping(patience=5, monitor='val_loss')\n",
    "\n",
    "# Train the model\n",
    "history = model.fit(X_train, y_train, validation_split=0.1, epochs=50, batch_size=256, callbacks=[early_stopping])\n",
    "\n",
    "# Evaluate the model\n",
    "test_loss, test_accuracy = model.evaluate(X_test, y_test)\n",
    "print(\"Test Loss:\", test_loss)\n",
    "print(\"Test Accuracy:\", test_accuracy)\n",
    "\n",
    "# Print classification report\n",
    "predictions = model.predict_classes(X_test)\n",
    "print(classification_report(y_test, predictions))"
   ],
   "metadata": {
    "collapsed": false,
    "ExecuteTime": {
     "end_time": "2024-04-04T02:42:25.756437Z",
     "start_time": "2024-04-04T02:42:25.612179Z"
    }
   },
   "id": "69a7aacaa7cd78c0"
  },
  {
   "cell_type": "code",
   "execution_count": 28,
   "outputs": [
    {
     "name": "stdout",
     "output_type": "stream",
     "text": [
      "Epoch 1/50\n"
     ]
    },
    {
     "name": "stderr",
     "output_type": "stream",
     "text": [
      "/Users/blankajarmoszko/PycharmProjects/thesis/venv/lib/python3.10/site-packages/tensorflow/python/data/ops/structured_function.py:258: UserWarning: Even though the `tf.config.experimental_run_functions_eagerly` option is set, this option does not apply to tf.data functions. To force eager execution of tf.data functions, please use `tf.data.experimental.enable_debug_mode()`.\n",
      "  warnings.warn(\n"
     ]
    },
    {
     "ename": "ValueError",
     "evalue": "Arguments `target` and `output` must have the same rank (ndim). Received: target.shape=(256, 3), output.shape=(256, 100, 3)",
     "output_type": "error",
     "traceback": [
      "\u001B[0;31m---------------------------------------------------------------------------\u001B[0m",
      "\u001B[0;31mValueError\u001B[0m                                Traceback (most recent call last)",
      "Cell \u001B[0;32mIn[28], line 11\u001B[0m\n\u001B[1;32m      7\u001B[0m num_epochs \u001B[38;5;241m=\u001B[39m \u001B[38;5;241m50\u001B[39m\n\u001B[1;32m      9\u001B[0m early \u001B[38;5;241m=\u001B[39m EarlyStopping(\u001B[38;5;124m'\u001B[39m\u001B[38;5;124mval_loss\u001B[39m\u001B[38;5;124m'\u001B[39m, patience \u001B[38;5;241m=\u001B[39m \u001B[38;5;241m15\u001B[39m)\n\u001B[0;32m---> 11\u001B[0m history \u001B[38;5;241m=\u001B[39m \u001B[43mmodel\u001B[49m\u001B[38;5;241;43m.\u001B[39;49m\u001B[43mfit\u001B[49m\u001B[43m(\u001B[49m\u001B[43mX_train\u001B[49m\u001B[43m,\u001B[49m\u001B[43m \u001B[49m\u001B[43my_train_cat\u001B[49m\u001B[43m,\u001B[49m\u001B[43m \u001B[49m\u001B[43mvalidation_split\u001B[49m\u001B[38;5;241;43m=\u001B[39;49m\u001B[38;5;241;43m0.1\u001B[39;49m\u001B[43m,\u001B[49m\u001B[43m \u001B[49m\u001B[43mbatch_size\u001B[49m\u001B[38;5;241;43m=\u001B[39;49m\u001B[43mbatch_size\u001B[49m\u001B[43m,\u001B[49m\u001B[43m \u001B[49m\u001B[43mepochs\u001B[49m\u001B[38;5;241;43m=\u001B[39;49m\u001B[43mnum_epochs\u001B[49m\u001B[43m,\u001B[49m\u001B[43m \u001B[49m\u001B[43mcallbacks\u001B[49m\u001B[38;5;241;43m=\u001B[39;49m\u001B[43mearly\u001B[49m\u001B[43m)\u001B[49m\n",
      "File \u001B[0;32m~/PycharmProjects/thesis/venv/lib/python3.10/site-packages/keras/src/utils/traceback_utils.py:122\u001B[0m, in \u001B[0;36mfilter_traceback.<locals>.error_handler\u001B[0;34m(*args, **kwargs)\u001B[0m\n\u001B[1;32m    119\u001B[0m     filtered_tb \u001B[38;5;241m=\u001B[39m _process_traceback_frames(e\u001B[38;5;241m.\u001B[39m__traceback__)\n\u001B[1;32m    120\u001B[0m     \u001B[38;5;66;03m# To get the full stack trace, call:\u001B[39;00m\n\u001B[1;32m    121\u001B[0m     \u001B[38;5;66;03m# `keras.config.disable_traceback_filtering()`\u001B[39;00m\n\u001B[0;32m--> 122\u001B[0m     \u001B[38;5;28;01mraise\u001B[39;00m e\u001B[38;5;241m.\u001B[39mwith_traceback(filtered_tb) \u001B[38;5;28;01mfrom\u001B[39;00m \u001B[38;5;28;01mNone\u001B[39;00m\n\u001B[1;32m    123\u001B[0m \u001B[38;5;28;01mfinally\u001B[39;00m:\n\u001B[1;32m    124\u001B[0m     \u001B[38;5;28;01mdel\u001B[39;00m filtered_tb\n",
      "File \u001B[0;32m~/PycharmProjects/thesis/venv/lib/python3.10/site-packages/keras/src/backend/tensorflow/nn.py:546\u001B[0m, in \u001B[0;36mcategorical_crossentropy\u001B[0;34m(target, output, from_logits, axis)\u001B[0m\n\u001B[1;32m    540\u001B[0m     \u001B[38;5;28;01mraise\u001B[39;00m \u001B[38;5;167;01mValueError\u001B[39;00m(\n\u001B[1;32m    541\u001B[0m         \u001B[38;5;124m\"\u001B[39m\u001B[38;5;124mArguments `target` and `output` must be at least rank 1. \u001B[39m\u001B[38;5;124m\"\u001B[39m\n\u001B[1;32m    542\u001B[0m         \u001B[38;5;124m\"\u001B[39m\u001B[38;5;124mReceived: \u001B[39m\u001B[38;5;124m\"\u001B[39m\n\u001B[1;32m    543\u001B[0m         \u001B[38;5;124mf\u001B[39m\u001B[38;5;124m\"\u001B[39m\u001B[38;5;124mtarget.shape=\u001B[39m\u001B[38;5;132;01m{\u001B[39;00mtarget\u001B[38;5;241m.\u001B[39mshape\u001B[38;5;132;01m}\u001B[39;00m\u001B[38;5;124m, output.shape=\u001B[39m\u001B[38;5;132;01m{\u001B[39;00moutput\u001B[38;5;241m.\u001B[39mshape\u001B[38;5;132;01m}\u001B[39;00m\u001B[38;5;124m\"\u001B[39m\n\u001B[1;32m    544\u001B[0m     )\n\u001B[1;32m    545\u001B[0m \u001B[38;5;28;01mif\u001B[39;00m \u001B[38;5;28mlen\u001B[39m(target\u001B[38;5;241m.\u001B[39mshape) \u001B[38;5;241m!=\u001B[39m \u001B[38;5;28mlen\u001B[39m(output\u001B[38;5;241m.\u001B[39mshape):\n\u001B[0;32m--> 546\u001B[0m     \u001B[38;5;28;01mraise\u001B[39;00m \u001B[38;5;167;01mValueError\u001B[39;00m(\n\u001B[1;32m    547\u001B[0m         \u001B[38;5;124m\"\u001B[39m\u001B[38;5;124mArguments `target` and `output` must have the same rank \u001B[39m\u001B[38;5;124m\"\u001B[39m\n\u001B[1;32m    548\u001B[0m         \u001B[38;5;124m\"\u001B[39m\u001B[38;5;124m(ndim). Received: \u001B[39m\u001B[38;5;124m\"\u001B[39m\n\u001B[1;32m    549\u001B[0m         \u001B[38;5;124mf\u001B[39m\u001B[38;5;124m\"\u001B[39m\u001B[38;5;124mtarget.shape=\u001B[39m\u001B[38;5;132;01m{\u001B[39;00mtarget\u001B[38;5;241m.\u001B[39mshape\u001B[38;5;132;01m}\u001B[39;00m\u001B[38;5;124m, output.shape=\u001B[39m\u001B[38;5;132;01m{\u001B[39;00moutput\u001B[38;5;241m.\u001B[39mshape\u001B[38;5;132;01m}\u001B[39;00m\u001B[38;5;124m\"\u001B[39m\n\u001B[1;32m    550\u001B[0m     )\n\u001B[1;32m    551\u001B[0m \u001B[38;5;28;01mfor\u001B[39;00m e1, e2 \u001B[38;5;129;01min\u001B[39;00m \u001B[38;5;28mzip\u001B[39m(target\u001B[38;5;241m.\u001B[39mshape, output\u001B[38;5;241m.\u001B[39mshape):\n\u001B[1;32m    552\u001B[0m     \u001B[38;5;28;01mif\u001B[39;00m e1 \u001B[38;5;129;01mis\u001B[39;00m \u001B[38;5;129;01mnot\u001B[39;00m \u001B[38;5;28;01mNone\u001B[39;00m \u001B[38;5;129;01mand\u001B[39;00m e2 \u001B[38;5;129;01mis\u001B[39;00m \u001B[38;5;129;01mnot\u001B[39;00m \u001B[38;5;28;01mNone\u001B[39;00m \u001B[38;5;129;01mand\u001B[39;00m e1 \u001B[38;5;241m!=\u001B[39m e2:\n",
      "\u001B[0;31mValueError\u001B[0m: Arguments `target` and `output` must have the same rank (ndim). Received: target.shape=(256, 3), output.shape=(256, 100, 3)"
     ]
    }
   ],
   "source": [
    "set_random_seed(0)\n",
    "model.compile(loss='categorical_crossentropy', \n",
    "             optimizer='adam', # rmsprop\n",
    "             metrics=['accuracy'])\n",
    "\n",
    "batch_size = 256\n",
    "num_epochs = 50\n",
    "\n",
    "early = EarlyStopping('val_loss', patience = 15)\n",
    "\n",
    "history = model.fit(X_train, y_train_cat, validation_split=0.1, batch_size=batch_size, epochs=num_epochs, callbacks=early)"
   ],
   "metadata": {
    "collapsed": false,
    "ExecuteTime": {
     "end_time": "2024-04-04T02:38:36.924539Z",
     "start_time": "2024-04-04T02:38:36.728056Z"
    }
   },
   "id": "5b4cf998c1b9a5e7"
  },
  {
   "cell_type": "code",
   "execution_count": 30,
   "outputs": [
    {
     "data": {
      "text/plain": "(37268, 3)"
     },
     "execution_count": 30,
     "metadata": {},
     "output_type": "execute_result"
    }
   ],
   "source": [
    "y_train_cat.shape"
   ],
   "metadata": {
    "collapsed": false,
    "ExecuteTime": {
     "end_time": "2024-04-04T02:40:16.617612Z",
     "start_time": "2024-04-04T02:40:16.599593Z"
    }
   },
   "id": "cab5eb92947e9510"
  },
  {
   "cell_type": "markdown",
   "source": [
    "### Model Tunning"
   ],
   "metadata": {
    "collapsed": false
   },
   "id": "1bf99e546ce270f9"
  },
  {
   "cell_type": "code",
   "execution_count": 32,
   "outputs": [],
   "source": [
    "def model_builder(hp):\n",
    "    model = Sequential()\n",
    "    \n",
    "    vocabulary_size = 1000\n",
    "    embedding_size = 50\n",
    "    max_words = 50  # Assuming you have a max_words variable\n",
    "\n",
    "    model.add(InputLayer(input_shape=(max_words,)))\n",
    "    model.add(Embedding(vocabulary_size, embedding_size))\n",
    "\n",
    "    hp_activation = hp.Choice('activation', values=['relu', 'tanh'])\n",
    "    hp_units_1 = hp.Int('units_1', min_value=10, max_value=100, step=10)\n",
    "    hp_units_2 = hp.Int('units_2', min_value=10, max_value=100, step=10)\n",
    "    hp_units_3 = hp.Int('units_3', min_value=10, max_value=100, step=10)\n",
    "    hp_units_4 = hp.Int('units_4', min_value=10, max_value=100, step=10)\n",
    "\n",
    "    model.add(LSTM(units=hp_units_1, activation=hp_activation, return_sequences=True))\n",
    "    # model.add(LSTM(units=hp_units_2, activation=hp_activation, return_sequences=True))\n",
    "    # model.add(LSTM(units=hp_units_3, activation=hp_activation, return_sequences=True))\n",
    "    model.add(LSTM(units=hp_units_4, activation=hp_activation))\n",
    "    \n",
    "    model.add(Dense(5, activation='relu'))\n",
    "    model.add(Dropout(0.2)) \n",
    "    model.add(Dense(3, activation='softmax'))\n",
    "    \n",
    "    hp_learning_rate = hp.Choice('learning_rate', values=[1e-2, 1e-3, 1e-4])\n",
    "\n",
    "    optimizer = Adam(learning_rate=hp_learning_rate)\n",
    "    model.compile(optimizer=optimizer,\n",
    "              loss='sparse_categorical_crossentropy',\n",
    "              metrics=['accuracy'])\n",
    "\n",
    "    return model"
   ],
   "metadata": {
    "collapsed": false,
    "ExecuteTime": {
     "start_time": "2024-03-14T00:44:33.722250Z"
    }
   },
   "id": "d5b6c359ae425d92"
  },
  {
   "cell_type": "markdown",
   "source": [],
   "metadata": {
    "collapsed": false
   },
   "id": "dd54a6549108c350"
  },
  {
   "cell_type": "code",
   "execution_count": 33,
   "outputs": [
    {
     "name": "stdout",
     "output_type": "stream",
     "text": [
      "Reloading Tuner from dir/x/tuner0.json\n"
     ]
    }
   ],
   "source": [
    "import keras_tuner as kt\n",
    "\n",
    "tuner = kt.Hyperband(model_builder,\n",
    "                     objective='val_accuracy',\n",
    "                     max_epochs=10,\n",
    "                     factor=3,\n",
    "                     directory='dir',\n",
    "                     project_name='x')"
   ],
   "metadata": {
    "collapsed": false,
    "ExecuteTime": {
     "start_time": "2024-03-14T00:44:36.534952Z"
    }
   },
   "id": "3b5a83b41d469633"
  },
  {
   "cell_type": "code",
   "execution_count": 35,
   "outputs": [
    {
     "name": "stdout",
     "output_type": "stream",
     "text": [
      "Trial 26 Complete [00h 05m 27s]\n",
      "val_accuracy: 0.38985779881477356\n",
      "\n",
      "Best val_accuracy So Far: 0.5681513547897339\n",
      "Total elapsed time: 01h 56m 34s\n"
     ]
    }
   ],
   "source": [
    "stop_early = EarlyStopping(monitor='val_loss', patience=3)\n",
    "tuner.search(X_train, y_train, epochs=50, validation_split=0.2, callbacks=[stop_early])"
   ],
   "metadata": {
    "collapsed": false
   },
   "id": "24696315de73c18d"
  },
  {
   "cell_type": "code",
   "execution_count": 46,
   "outputs": [
    {
     "data": {
      "text/plain": "{'activation': 'tanh',\n 'units_1': 20,\n 'units_2': 50,\n 'units_3': 80,\n 'units_4': 40,\n 'learning_rate': 0.001,\n 'tuner/epochs': 4,\n 'tuner/initial_epoch': 2,\n 'tuner/bracket': 2,\n 'tuner/round': 1,\n 'tuner/trial_id': '0002'}"
     },
     "execution_count": 46,
     "metadata": {},
     "output_type": "execute_result"
    }
   ],
   "source": [
    "best_hps = tuner.get_best_hyperparameters(num_trials=1)[0]\n",
    "best_hps.values"
   ],
   "metadata": {
    "collapsed": false,
    "ExecuteTime": {
     "end_time": "2024-03-14T03:13:22.178296Z",
     "start_time": "2024-03-14T03:13:22.162756Z"
    }
   },
   "id": "ca11925f31fdb141"
  },
  {
   "cell_type": "code",
   "execution_count": 38,
   "outputs": [
    {
     "name": "stdout",
     "output_type": "stream",
     "text": [
      "Epoch 1/50\n",
      "  2/932 [..............................] - ETA: 56s - loss: 1.0990 - accuracy: 0.2656 "
     ]
    },
    {
     "name": "stderr",
     "output_type": "stream",
     "text": [
      "/Users/blankajarmoszko/PycharmProjects/Selenium_trial/venv/lib/python3.10/site-packages/tensorflow/python/data/ops/structured_function.py:258: UserWarning: Even though the `tf.config.experimental_run_functions_eagerly` option is set, this option does not apply to tf.data functions. To force eager execution of tf.data functions, please use `tf.data.experimental.enable_debug_mode()`.\n",
      "  warnings.warn(\n"
     ]
    },
    {
     "name": "stdout",
     "output_type": "stream",
     "text": [
      "932/932 [==============================] - 64s 68ms/step - loss: 0.9943 - accuracy: 0.4722 - val_loss: 0.9275 - val_accuracy: 0.5376\n",
      "Epoch 2/50\n",
      "932/932 [==============================] - 65s 70ms/step - loss: 0.9274 - accuracy: 0.5242 - val_loss: 0.9064 - val_accuracy: 0.5468\n",
      "Epoch 3/50\n",
      "932/932 [==============================] - 65s 70ms/step - loss: 0.9065 - accuracy: 0.5542 - val_loss: 0.9077 - val_accuracy: 0.5460\n",
      "Epoch 4/50\n",
      "932/932 [==============================] - 66s 71ms/step - loss: 0.8881 - accuracy: 0.5640 - val_loss: 0.8993 - val_accuracy: 0.5569\n",
      "Epoch 5/50\n",
      "932/932 [==============================] - 66s 70ms/step - loss: 0.8727 - accuracy: 0.5708 - val_loss: 0.9017 - val_accuracy: 0.5553\n",
      "Epoch 6/50\n",
      "932/932 [==============================] - 67s 72ms/step - loss: 0.8637 - accuracy: 0.5797 - val_loss: 0.9032 - val_accuracy: 0.5555\n",
      "Epoch 7/50\n",
      "932/932 [==============================] - 66s 71ms/step - loss: 0.8538 - accuracy: 0.5833 - val_loss: 0.9105 - val_accuracy: 0.5566\n"
     ]
    }
   ],
   "source": [
    "# fit the model based on best params\n",
    "model = tuner.hypermodel.build(best_hps)\n",
    "history = model.fit(X_train, y_train, epochs=50, validation_split=0.2,\n",
    "                    callbacks=[stop_early])"
   ],
   "metadata": {
    "collapsed": false,
    "ExecuteTime": {
     "start_time": "2024-03-14T02:47:19.179427Z"
    }
   },
   "id": "80b0c0d687da6871"
  },
  {
   "cell_type": "code",
   "execution_count": 41,
   "outputs": [
    {
     "name": "stdout",
     "output_type": "stream",
     "text": [
      "  5/292 [..............................] - ETA: 7s"
     ]
    },
    {
     "name": "stderr",
     "output_type": "stream",
     "text": [
      "/Users/blankajarmoszko/PycharmProjects/Selenium_trial/venv/lib/python3.10/site-packages/tensorflow/python/data/ops/structured_function.py:258: UserWarning: Even though the `tf.config.experimental_run_functions_eagerly` option is set, this option does not apply to tf.data functions. To force eager execution of tf.data functions, please use `tf.data.experimental.enable_debug_mode()`.\n",
      "  warnings.warn(\n"
     ]
    },
    {
     "name": "stdout",
     "output_type": "stream",
     "text": [
      "292/292 [==============================] - 8s 26ms/step\n",
      "0.556509606096383\n",
      "[[1566  531  324]\n",
      " [ 799 1196  862]\n",
      " [ 402 1214 2423]]\n"
     ]
    }
   ],
   "source": [
    "y_pred = np.argmax(model.predict(X_test), axis=1)\n",
    "\n",
    "print(accuracy_score(y_pred, y_test))\n",
    "print(confusion_matrix(y_pred, y_test))\n",
    "\n",
    "y_train_pred = np.argmax(model.predict(X_train), axis=1)\n",
    "print(accuracy_score(y_train_pred, y_train))\n",
    "\n",
    "# Changing max_words for longer sequences and vocabulary size for more different words\n",
    "# That makes the network run for much much longer"
   ],
   "metadata": {
    "collapsed": false,
    "ExecuteTime": {
     "end_time": "2024-03-14T02:59:37.836530Z",
     "start_time": "2024-03-14T02:59:30.115229Z"
    }
   },
   "id": "b24e3c5c446c3dc4"
  },
  {
   "cell_type": "code",
   "execution_count": 43,
   "outputs": [
    {
     "name": "stdout",
     "output_type": "stream",
     "text": [
      "   5/1165 [..............................] - ETA: 30s"
     ]
    },
    {
     "name": "stderr",
     "output_type": "stream",
     "text": [
      "/Users/blankajarmoszko/PycharmProjects/Selenium_trial/venv/lib/python3.10/site-packages/tensorflow/python/data/ops/structured_function.py:258: UserWarning: Even though the `tf.config.experimental_run_functions_eagerly` option is set, this option does not apply to tf.data functions. To force eager execution of tf.data functions, please use `tf.data.experimental.enable_debug_mode()`.\n",
      "  warnings.warn(\n"
     ]
    },
    {
     "name": "stdout",
     "output_type": "stream",
     "text": [
      "1165/1165 [==============================] - 30s 26ms/step\n",
      "0.6033594504668884\n"
     ]
    }
   ],
   "source": [
    "y_train_pred = np.argmax(model.predict(X_train), axis=1)\n",
    "print(accuracy_score(y_train_pred, y_train))"
   ],
   "metadata": {
    "collapsed": false,
    "ExecuteTime": {
     "end_time": "2024-03-14T03:03:07.116273Z",
     "start_time": "2024-03-14T03:02:37.185389Z"
    }
   },
   "id": "b0ec200c66147f83"
  },
  {
   "cell_type": "code",
   "execution_count": 39,
   "outputs": [
    {
     "data": {
      "text/plain": "<Figure size 1000x600 with 1 Axes>",
      "image/png": "[encoded data removed]"
     },
     "metadata": {},
     "output_type": "display_data"
    }
   ],
   "source": [
    "# Plot the training and validation loss\n",
    "plt.figure(figsize=(10, 6))\n",
    "plt.plot(history.history['loss'], label='Training Loss')\n",
    "plt.plot(history.history['val_loss'], label='Validation Loss')\n",
    "plt.title('Training and Validation Loss')\n",
    "plt.xlabel('Epochs')\n",
    "plt.ylabel('Loss')\n",
    "plt.legend()\n",
    "plt.show()"
   ],
   "metadata": {
    "collapsed": false,
    "ExecuteTime": {
     "end_time": "2024-03-14T02:58:58.841302Z",
     "start_time": "2024-03-14T02:58:58.653569Z"
    }
   },
   "id": "ec26503f5bf3cfbe"
  },
  {
   "cell_type": "code",
   "execution_count": 40,
   "outputs": [
    {
     "name": "stdout",
     "output_type": "stream",
     "text": [
      "dict_keys(['loss', 'accuracy', 'val_loss', 'val_accuracy'])\n"
     ]
    },
    {
     "data": {
      "text/plain": "<Figure size 640x480 with 1 Axes>",
      "image/png": "[encoded data removed]"
     },
     "metadata": {},
     "output_type": "display_data"
    },
    {
     "data": {
      "text/plain": "<Figure size 640x480 with 1 Axes>",
      "image/png": "[encoded data removed]"
     },
     "metadata": {},
     "output_type": "display_data"
    }
   ],
   "source": [
    "\n",
    "print(history.history.keys())\n",
    "# summarize history for accuracy\n",
    "plt.plot(history.history['accuracy'])\n",
    "plt.plot(history.history['val_accuracy'])\n",
    "plt.title('model accuracy')\n",
    "plt.ylabel('accuracy')\n",
    "plt.xlabel('epoch')\n",
    "plt.legend(['train', 'test'], loc='upper left')\n",
    "plt.show()\n",
    "# summarize history for loss\n",
    "plt.plot(history.history['loss'])\n",
    "plt.plot(history.history['val_loss'])\n",
    "plt.title('model loss')\n",
    "plt.ylabel('loss')\n",
    "plt.xlabel('epoch')\n",
    "plt.legend(['train', 'test'], loc='upper left')\n",
    "plt.show()"
   ],
   "metadata": {
    "collapsed": false,
    "ExecuteTime": {
     "end_time": "2024-03-14T02:59:05.396831Z",
     "start_time": "2024-03-14T02:59:05.242597Z"
    }
   },
   "id": "eaae5d3a9fcba38f"
  },
  {
   "cell_type": "markdown",
   "source": [
    "## Second Tunning"
   ],
   "metadata": {
    "collapsed": false
   },
   "id": "d5fb5c40e286ad9d"
  },
  {
   "cell_type": "code",
   "execution_count": 51,
   "outputs": [],
   "source": [
    "def model_builder(hp):\n",
    "    model = Sequential()\n",
    "    \n",
    "    vocabulary_size = 1000\n",
    "    embedding_size = 50\n",
    "    max_words = 50  # Assuming you have a max_words variable\n",
    "\n",
    "    model.add(InputLayer(input_shape=(max_words,)))\n",
    "    model.add(Embedding(vocabulary_size, embedding_size))\n",
    "\n",
    "    hp_activation = hp.Choice('activation', values=['relu', 'tanh'])\n",
    "    hp_units_1 = hp.Int('units_1', min_value=10, max_value=100, step=10)\n",
    "    hp_units_2 = hp.Int('units_2', min_value=10, max_value=100, step=10)\n",
    "    #hp_units_3 = hp.Int('units_3', min_value=10, max_value=100, step=10)\n",
    "    hp_units_4 = hp.Int('units_4', min_value=10, max_value=100, step=10)\n",
    "\n",
    "    model.add(LSTM(units=hp_units_1, activation=hp_activation, return_sequences=True))\n",
    "    model.add(LSTM(units=hp_units_2, activation=hp_activation, return_sequences=True))\n",
    "    # model.add(LSTM(units=hp_units_3, activation=hp_activation, return_sequences=True))\n",
    "    model.add(LSTM(units=hp_units_4, activation=hp_activation))\n",
    "    \n",
    "    model.add(Dense(5, activation='relu'))\n",
    "    model.add(Dropout(0.2)) \n",
    "    model.add(Dense(3, activation='softmax'))\n",
    "    \n",
    "    hp_learning_rate = hp.Choice('learning_rate', values=[1e-2, 1e-3, 1e-4])\n",
    "\n",
    "    optimizer = Adam(learning_rate=hp_learning_rate)\n",
    "    model.compile(optimizer=optimizer,\n",
    "              loss='sparse_categorical_crossentropy',\n",
    "              metrics=['accuracy'])\n",
    "\n",
    "    return model"
   ],
   "metadata": {
    "collapsed": false,
    "ExecuteTime": {
     "end_time": "2024-03-14T03:16:20.814202Z",
     "start_time": "2024-03-14T03:16:20.809467Z"
    }
   },
   "id": "bff8e15b1e934b38"
  },
  {
   "cell_type": "code",
   "execution_count": 58,
   "outputs": [],
   "source": [
    "import keras_tuner as kt\n",
    "\n",
    "second_tuner = kt.Hyperband(model_builder,\n",
    "                     objective='val_accuracy',\n",
    "                     max_epochs=10,\n",
    "                     factor=3,\n",
    "                     directory='dir',\n",
    "                     project_name='x_2')"
   ],
   "metadata": {
    "collapsed": false,
    "ExecuteTime": {
     "end_time": "2024-03-14T03:18:10.480185Z",
     "start_time": "2024-03-14T03:18:10.399505Z"
    }
   },
   "id": "70bd848b96173da2"
  },
  {
   "cell_type": "code",
   "execution_count": 59,
   "outputs": [
    {
     "name": "stdout",
     "output_type": "stream",
     "text": [
      "Trial 30 Complete [00h 35m 43s]\n",
      "val_accuracy: 0.5367587804794312\n",
      "\n",
      "Best val_accuracy So Far: 0.5639925003051758\n",
      "Total elapsed time: 12h 50m 01s\n"
     ]
    }
   ],
   "source": [
    "stop_early = EarlyStopping(monitor='val_loss', patience=3)\n",
    "second_tuner.search(X_train, y_train, epochs=50, validation_split=0.2, callbacks=[stop_early])"
   ],
   "metadata": {
    "collapsed": false
   },
   "id": "6be4ba0eb5197a09"
  },
  {
   "cell_type": "code",
   "execution_count": 60,
   "outputs": [
    {
     "data": {
      "text/plain": "{'activation': 'tanh',\n 'units_1': 60,\n 'units_2': 100,\n 'units_4': 100,\n 'learning_rate': 0.001,\n 'tuner/epochs': 10,\n 'tuner/initial_epoch': 4,\n 'tuner/bracket': 2,\n 'tuner/round': 2,\n 'tuner/trial_id': '0013'}"
     },
     "execution_count": 60,
     "metadata": {},
     "output_type": "execute_result"
    }
   ],
   "source": [
    "best_hps_two = second_tuner.get_best_hyperparameters(num_trials=1)[0]\n",
    "best_hps_two.values"
   ],
   "metadata": {
    "collapsed": false,
    "ExecuteTime": {
     "end_time": "2024-03-14T16:08:39.269143Z",
     "start_time": "2024-03-14T16:08:39.250878Z"
    }
   },
   "id": "df5dfce35bd0e2b9"
  },
  {
   "cell_type": "code",
   "execution_count": 61,
   "outputs": [
    {
     "name": "stdout",
     "output_type": "stream",
     "text": [
      "Epoch 1/50\n",
      "  1/932 [..............................] - ETA: 2:37 - loss: 1.0986 - accuracy: 0.2188"
     ]
    },
    {
     "name": "stderr",
     "output_type": "stream",
     "text": [
      "/Users/blankajarmoszko/PycharmProjects/Selenium_trial/venv/lib/python3.10/site-packages/tensorflow/python/data/ops/structured_function.py:258: UserWarning: Even though the `tf.config.experimental_run_functions_eagerly` option is set, this option does not apply to tf.data functions. To force eager execution of tf.data functions, please use `tf.data.experimental.enable_debug_mode()`.\n",
      "  warnings.warn(\n"
     ]
    },
    {
     "name": "stdout",
     "output_type": "stream",
     "text": [
      "932/932 [==============================] - 138s 148ms/step - loss: 0.9855 - accuracy: 0.5031 - val_loss: 0.9264 - val_accuracy: 0.5397\n",
      "Epoch 2/50\n",
      "932/932 [==============================] - 138s 148ms/step - loss: 0.9214 - accuracy: 0.5439 - val_loss: 0.9160 - val_accuracy: 0.5471\n",
      "Epoch 3/50\n",
      "932/932 [==============================] - 136s 146ms/step - loss: 0.9023 - accuracy: 0.5554 - val_loss: 0.9080 - val_accuracy: 0.5476\n",
      "Epoch 4/50\n",
      "932/932 [==============================] - 138s 148ms/step - loss: 0.8834 - accuracy: 0.5682 - val_loss: 0.9085 - val_accuracy: 0.5534\n",
      "Epoch 5/50\n",
      "932/932 [==============================] - 132s 142ms/step - loss: 0.8707 - accuracy: 0.5717 - val_loss: 0.9015 - val_accuracy: 0.5559\n",
      "Epoch 6/50\n",
      "932/932 [==============================] - 131s 141ms/step - loss: 0.8623 - accuracy: 0.5778 - val_loss: 0.9059 - val_accuracy: 0.5559\n",
      "Epoch 7/50\n",
      "932/932 [==============================] - 131s 141ms/step - loss: 0.8477 - accuracy: 0.5864 - val_loss: 0.9186 - val_accuracy: 0.5503\n",
      "Epoch 8/50\n",
      "932/932 [==============================] - 130s 140ms/step - loss: 0.8345 - accuracy: 0.5917 - val_loss: 0.9351 - val_accuracy: 0.5596\n"
     ]
    }
   ],
   "source": [
    "#best_hps.values\n",
    "# fit the model based on best params\n",
    "model = second_tuner.hypermodel.build(best_hps_two)\n",
    "history_two = model.fit(X_train, y_train, epochs=50, validation_split=0.2,\n",
    "                    callbacks=[stop_early])"
   ],
   "metadata": {
    "collapsed": false,
    "ExecuteTime": {
     "end_time": "2024-03-14T16:28:36.300323Z",
     "start_time": "2024-03-14T16:10:41.298797Z"
    }
   },
   "id": "723d38c9618c16f"
  },
  {
   "cell_type": "code",
   "execution_count": 62,
   "outputs": [
    {
     "name": "stdout",
     "output_type": "stream",
     "text": [
      "  2/292 [..............................] - ETA: 15s"
     ]
    },
    {
     "name": "stderr",
     "output_type": "stream",
     "text": [
      "/Users/blankajarmoszko/PycharmProjects/Selenium_trial/venv/lib/python3.10/site-packages/tensorflow/python/data/ops/structured_function.py:258: UserWarning: Even though the `tf.config.experimental_run_functions_eagerly` option is set, this option does not apply to tf.data functions. To force eager execution of tf.data functions, please use `tf.data.experimental.enable_debug_mode()`.\n",
      "  warnings.warn(\n"
     ]
    },
    {
     "name": "stdout",
     "output_type": "stream",
     "text": [
      "292/292 [==============================] - 15s 53ms/step\n",
      "0.5609101642159493\n",
      "[[1735  666  461]\n",
      " [ 619 1034  691]\n",
      " [ 413 1241 2457]]\n",
      "   3/1165 [..............................] - ETA: 1:01"
     ]
    },
    {
     "name": "stderr",
     "output_type": "stream",
     "text": [
      "/Users/blankajarmoszko/PycharmProjects/Selenium_trial/venv/lib/python3.10/site-packages/tensorflow/python/data/ops/structured_function.py:258: UserWarning: Even though the `tf.config.experimental_run_functions_eagerly` option is set, this option does not apply to tf.data functions. To force eager execution of tf.data functions, please use `tf.data.experimental.enable_debug_mode()`.\n",
      "  warnings.warn(\n"
     ]
    },
    {
     "name": "stdout",
     "output_type": "stream",
     "text": [
      "1165/1165 [==============================] - 62s 53ms/step\n",
      "0.6170709455833423\n"
     ]
    }
   ],
   "source": [
    "y_pred = np.argmax(model.predict(X_test), axis=1)\n",
    "\n",
    "print(accuracy_score(y_pred, y_test))\n",
    "print(confusion_matrix(y_pred, y_test))\n",
    "\n",
    "y_train_pred = np.argmax(model.predict(X_train), axis=1)\n",
    "print(accuracy_score(y_train_pred, y_train))"
   ],
   "metadata": {
    "collapsed": false,
    "ExecuteTime": {
     "end_time": "2024-03-14T16:31:16.304066Z",
     "start_time": "2024-03-14T16:29:58.799004Z"
    }
   },
   "id": "7393d9530ef025f3"
  },
  {
   "cell_type": "code",
   "execution_count": 63,
   "outputs": [
    {
     "name": "stdout",
     "output_type": "stream",
     "text": [
      "dict_keys(['loss', 'accuracy', 'val_loss', 'val_accuracy'])\n"
     ]
    },
    {
     "data": {
      "text/plain": "<Figure size 640x480 with 1 Axes>",
      "image/png": "[encoded data removed]"
     },
     "metadata": {},
     "output_type": "display_data"
    },
    {
     "data": {
      "text/plain": "<Figure size 640x480 with 1 Axes>",
      "image/png": "[encoded data removed]"
     },
     "metadata": {},
     "output_type": "display_data"
    }
   ],
   "source": [
    "\n",
    "print(history.history.keys())\n",
    "# summarize history for accuracy\n",
    "plt.plot(history.history['accuracy'])\n",
    "plt.plot(history.history['val_accuracy'])\n",
    "plt.title('model accuracy')\n",
    "plt.ylabel('accuracy')\n",
    "plt.xlabel('epoch')\n",
    "plt.legend(['train', 'test'], loc='upper left')\n",
    "plt.show()\n",
    "# summarize history for loss\n",
    "plt.plot(history.history['loss'])\n",
    "plt.plot(history.history['val_loss'])\n",
    "plt.title('model loss')\n",
    "plt.ylabel('loss')\n",
    "plt.xlabel('epoch')\n",
    "plt.legend(['train', 'test'], loc='upper left')\n",
    "plt.show()"
   ],
   "metadata": {
    "collapsed": false,
    "ExecuteTime": {
     "end_time": "2024-03-14T16:31:33.200440Z",
     "start_time": "2024-03-14T16:31:32.996627Z"
    }
   },
   "id": "5395294df8b65755"
  },
  {
   "cell_type": "markdown",
   "source": [
    "# Dropout\n",
    "# BERT models\n",
    "# true classes?\n",
    "# use clustering for sentiment analysis, look at star distribution\n",
    "# two class classification\n",
    "# \n",
    "# https://medium.com/@chyun55555/unsupervised-sentiment-analyis-with-sentiwordnet-and-vader-in-python-a519660198be"
   ],
   "metadata": {
    "collapsed": false
   },
   "id": "a5d0c7914461a182"
  },
  {
   "cell_type": "code",
   "execution_count": null,
   "outputs": [],
   "source": [
    "# pre trained models for transfer learning"
   ],
   "metadata": {
    "collapsed": false
   },
   "id": "9ca85a8f4056f08a"
  }
 ],
 "metadata": {
  "kernelspec": {
   "display_name": "Python 3 (ipykernel)",
   "language": "python",
   "name": "python3"
  },
  "language_info": {
   "codemirror_mode": {
    "name": "ipython",
    "version": 3
   },
   "file_extension": ".py",
   "mimetype": "text/x-python",
   "name": "python",
   "nbconvert_exporter": "python",
   "pygments_lexer": "ipython3",
   "version": "3.10.2"
  }
 },
 "nbformat": 4,
 "nbformat_minor": 5
}
