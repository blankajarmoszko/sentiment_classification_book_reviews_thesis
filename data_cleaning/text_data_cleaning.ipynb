{
 "cells": [
  {
   "cell_type": "markdown",
   "source": [
    "# Cleaning Text Data"
   ],
   "metadata": {
    "collapsed": false
   },
   "id": "c431481f05a0a401"
  },
  {
   "cell_type": "markdown",
   "source": [
    "## Loab Data and Libraries"
   ],
   "metadata": {
    "collapsed": false
   },
   "id": "752cd61380676cf1"
  },
  {
   "cell_type": "code",
   "execution_count": 1,
   "id": "5aa05f1c",
   "metadata": {},
   "outputs": [],
   "source": [
    "import matplotlib.pyplot as plt \n",
    "import re\n",
    "from nltk.tokenize import word_tokenize\n",
    "from nltk.corpus import stopwords\n",
    "from nltk.stem import PorterStemmer\n",
    "import pandas as pd\n",
    "from sklearn.model_selection import train_test_split\n",
    "\n",
    "import re\n",
    "from nltk.tokenize import word_tokenize\n",
    "from nltk.corpus import stopwords\n",
    "from nltk.stem import PorterStemmer\n"
   ]
  },
  {
   "cell_type": "code",
   "execution_count": 2,
   "id": "ffe5a3fd",
   "metadata": {},
   "outputs": [],
   "source": [
    "df = pd.read_csv(\"review_data_new.csv\")\n",
    "df_cleaned = df.dropna(subset=[\"star_rating\",\"review_text\"])"
   ]
  },
  {
   "cell_type": "markdown",
   "source": [
    "## Map star rating to sentiment class"
   ],
   "metadata": {
    "collapsed": false
   },
   "id": "15357141fb227820"
  },
  {
   "cell_type": "code",
   "execution_count": 3,
   "id": "1c3f9f3c",
   "metadata": {},
   "outputs": [
    {
     "name": "stdout",
     "output_type": "stream",
     "text": [
      "Number of rows per star rating:\n",
      "2    17996\n",
      "1    14874\n",
      "0    13876\n",
      "Name: sentiment, dtype: int64\n"
     ]
    },
    {
     "name": "stderr",
     "output_type": "stream",
     "text": [
      "/var/folders/66/n0_9mny57ys5rqmlmylz_2880000gn/T/ipykernel_4731/960358392.py:10: SettingWithCopyWarning: \n",
      "A value is trying to be set on a copy of a slice from a DataFrame.\n",
      "Try using .loc[row_indexer,col_indexer] = value instead\n",
      "\n",
      "See the caveats in the documentation: https://pandas.pydata.org/pandas-docs/stable/user_guide/indexing.html#returning-a-view-versus-a-copy\n",
      "  df_cleaned['sentiment'] = [ map_sentiment(x) for x in df_cleaned['star_rating']]\n"
     ]
    },
    {
     "data": {
      "image/png": "[encoded data removed]",
      "text/plain": [
       "<Figure size 432x288 with 1 Axes>"
      ]
     },
     "metadata": {
      "needs_background": "light"
     },
     "output_type": "display_data"
    }
   ],
   "source": [
    "# Function to map stars to sentiment\n",
    "def map_sentiment(stars_received):\n",
    "    if stars_received <= 3:\n",
    "        return 0\n",
    "    elif stars_received <= 4:\n",
    "        return 1\n",
    "    else:\n",
    "        return 2\n",
    "# Mapping stars to sentiment into three categories\n",
    "df_cleaned['sentiment'] = [ map_sentiment(x) for x in df_cleaned['star_rating']]\n",
    "print(\"Number of rows per star rating:\")\n",
    "print(df_cleaned['sentiment'].value_counts())\n",
    "\n",
    "# Plotting the sentiment distribution\n",
    "plt.figure()\n",
    "pd.value_counts(df_cleaned['sentiment']).plot.bar(title=\"Sentiment distribution in df\")\n",
    "plt.xlabel(\"Sentiment\")\n",
    "plt.ylabel(\"No. of rows in df\")\n",
    "plt.show()"
   ]
  },
  {
   "cell_type": "code",
   "execution_count": 4,
   "id": "b69c2bc5",
   "metadata": {},
   "outputs": [
    {
     "data": {
      "text/plain": [
       "(50079, 8)"
      ]
     },
     "execution_count": 4,
     "metadata": {},
     "output_type": "execute_result"
    }
   ],
   "source": [
    "df.shape"
   ]
  },
  {
   "cell_type": "markdown",
   "source": [
    "## Emoji distribution and replacement"
   ],
   "metadata": {
    "collapsed": false
   },
   "id": "84d36a0468e2ad38"
  },
  {
   "cell_type": "code",
   "execution_count": 20,
   "id": "cea0f33f",
   "metadata": {},
   "outputs": [
    {
     "name": "stdout",
     "output_type": "stream",
     "text": [
      "       emoji  count\n",
      "0          ✨    889\n",
      "1         ⭐️    825\n",
      "2          😭    599\n",
      "3          ★    491\n",
      "4          ⭐    427\n",
      "...      ...    ...\n",
      "8026  𝙬𝙖𝙣𝙩𝙚𝙙      1\n",
      "8027       💤      1\n",
      "8028       ꜰ      1\n",
      "8029      💕💋      1\n",
      "8030     👍👏👎      1\n",
      "\n",
      "[8031 rows x 2 columns]\n"
     ]
    }
   ],
   "source": [
    "import pandas as pd\n",
    "import re\n",
    "\n",
    "# Assuming you have a DataFrame df with a column 'review_text'\n",
    "# Replace 'your_dataset.csv' with the actual file or provide your own dataset\n",
    "# df = pd.read_csv('your_dataset.csv')\n",
    "\n",
    "def count_emojis(text):\n",
    "    if isinstance(text, str):\n",
    "        emoji_pattern = re.compile(\"[\"\n",
    "                                   \"\\U0001F600-\\U0001F64F\"\n",
    "                                   \"\\U0001F300-\\U0001F5FF\"\n",
    "                                   \"\\U0001F680-\\U0001F6FF\"\n",
    "                                   \"\\U0001F700-\\U0001F77F\"\n",
    "                                   \"\\U0001F780-\\U0001F7FF\"\n",
    "                                   \"\\U0001F800-\\U0001F8FF\"\n",
    "                                   \"\\U0001F900-\\U0001F9FF\"\n",
    "                                   \"\\U0001FA00-\\U0001FA6F\"\n",
    "                                   \"\\U0001FA70-\\U0001FAFF\"\n",
    "                                   \"\\U00002702-\\U000027B0\"\n",
    "                                   \"\\U000024C2-\\U0001F251\" \n",
    "                                   \"]+\", flags=re.UNICODE)\n",
    "        emojis = re.findall(emoji_pattern, text)\n",
    "        return emojis\n",
    "    else:\n",
    "        return []\n",
    "\n",
    "# Apply the count_emojis function to the 'review_text' column\n",
    "df['emojis'] = df['review_text'].apply(count_emojis)\n",
    "\n",
    "# Flatten the list of emojis into a single list\n",
    "all_emojis = [emoji for emojis in df['emojis'] for emoji in emojis]\n",
    "\n",
    "# Create a DataFrame with counts of each emoji\n",
    "emoji_counts = pd.Series(all_emojis).value_counts().reset_index()\n",
    "emoji_counts.columns = ['emoji', 'count']\n",
    "\n",
    "# Display the DataFrame with counts of each emoji\n",
    "print(emoji_counts)\n"
   ]
  },
  {
   "cell_type": "code",
   "execution_count": 7,
   "id": "4edce519",
   "metadata": {},
   "outputs": [
    {
     "name": "stderr",
     "output_type": "stream",
     "text": [
      "/var/folders/66/n0_9mny57ys5rqmlmylz_2880000gn/T/ipykernel_4731/3233837449.py:16: SettingWithCopyWarning: \n",
      "A value is trying to be set on a copy of a slice from a DataFrame.\n",
      "Try using .loc[row_indexer,col_indexer] = value instead\n",
      "\n",
      "See the caveats in the documentation: https://pandas.pydata.org/pandas-docs/stable/user_guide/indexing.html#returning-a-view-versus-a-copy\n",
      "  df[column_name] = df[column_name].astype(str)\n",
      "/var/folders/66/n0_9mny57ys5rqmlmylz_2880000gn/T/ipykernel_4731/3233837449.py:19: SettingWithCopyWarning: \n",
      "A value is trying to be set on a copy of a slice from a DataFrame.\n",
      "Try using .loc[row_indexer,col_indexer] = value instead\n",
      "\n",
      "See the caveats in the documentation: https://pandas.pydata.org/pandas-docs/stable/user_guide/indexing.html#returning-a-view-versus-a-copy\n",
      "  df[column_name] = df[column_name].apply(convert_emoji_to_text)\n"
     ]
    }
   ],
   "source": [
    "import pandas as pd\n",
    "import emoji\n",
    "\n",
    "def convert_emoji_to_text(emoji_text):\n",
    "    # Check if the input is a string\n",
    "    if isinstance(emoji_text, str):\n",
    "        # Convert emojis to text and add space before and after each\n",
    "        text_with_spaces = emoji.demojize(emoji_text, delimiters=(' ', ' '))\n",
    "        return text_with_spaces\n",
    "    else:\n",
    "        # If it's not a string, return the original value\n",
    "        return emoji_text\n",
    "\n",
    "def replace_emojis_in_column(df, column_name):\n",
    "    # Convert the column to strings before applying the function\n",
    "    df[column_name] = df[column_name].astype(str)\n",
    "    \n",
    "    # Apply the convert_emoji_to_text function to the 'review_text' column\n",
    "    df[column_name] = df[column_name].apply(convert_emoji_to_text)\n",
    "    \n",
    "    return df\n",
    "\n",
    "# Replace emojis in the 'review_text' column with spaces before and after\n",
    "df_cleaned_1 = replace_emojis_in_column(df_cleaned, 'review_text')\n",
    "\n"
   ]
  },
  {
   "cell_type": "code",
   "execution_count": 9,
   "id": "ff44d3b2",
   "metadata": {},
   "outputs": [
    {
     "name": "stdout",
     "output_type": "stream",
     "text": [
      "Not quite The Cruel Prince but I enjoyed this a lot.I loved being back in this world. I loved the writing, the familial angst/trauma, the riddles and twists and turns (though I guessed some). I enjoyed Wren as a narrator, though not as much as Jude, but I doubt I will ever come to see Oak as sexy. He's stuck as a little boy in my mind. Also-- hairy feet and hooves? Not my jam  face_with_tears_of_joy Also, the ending was exciting. I await the sequel.\n"
     ]
    }
   ],
   "source": [
    "print(df_emoji.head(1)['review_text'].iloc[0])"
   ]
  },
  {
   "cell_type": "markdown",
   "source": [
    "## Process review text"
   ],
   "metadata": {
    "collapsed": false
   },
   "id": "6f4d4a5314faa878"
  },
  {
   "cell_type": "code",
   "execution_count": 146,
   "id": "d4dd6bc9",
   "metadata": {},
   "outputs": [
    {
     "name": "stdout",
     "output_type": "stream",
     "text": [
      "Original Text:\n",
      "Not quite The Cruel Prince but I enjoyed this a lot.I loved being back in this world. I loved the writing, the familiar angry/trauma, the riddle and twists and turns (though I guessed some). I enjoyed Aren as a narrator, though not as much as Rude, but I doubt I will ever come to see Oak as sex. He's stuck as a little boy in my mind. Also-- hairy feet and holmes? Not my jam  face_with_tears_of_joy Also, the ending was exciting. I await the sequel.\n",
      "\n",
      "Preprocessed Text:\n",
      "quit,cruel,princ,enjoy,loti,love,back,world,love,write,familiar,angrytrauma,riddl,twist,turn,though,guess,enjoy,narrat,though,much,rude,doubt,ever,come,see,oak,sex,he,stuck,littl,boy,mind,also,hairi,feet,holm,jam,face_with_tears_of_joy,also,end,excit,await,sequel\n"
     ]
    }
   ],
   "source": [
    "import re\n",
    "from nltk.tokenize import word_tokenize\n",
    "from nltk.corpus import stopwords\n",
    "from nltk.stem import PorterStemmer\n",
    "\n",
    "def preprocess_text(text):\n",
    "    # Convert text to lowercase\n",
    "    text = text.lower()\n",
    "\n",
    "    # Remove numbers\n",
    "    text = re.sub(r'\\d+', '', text)\n",
    "\n",
    "    # Remove punctuation\n",
    "    text = re.sub(r'[^\\w\\s]', '', text)\n",
    "\n",
    "    # Tokenize the text\n",
    "    tokens = word_tokenize(text)\n",
    "\n",
    "    # Remove stop words\n",
    "    stop_words = set(stopwords.words('english'))\n",
    "    tokens = [word for word in tokens if word not in stop_words]\n",
    "\n",
    "    # Stemming\n",
    "    stemmer = PorterStemmer()\n",
    "    tokens = [stemmer.stem(word) for word in tokens]\n",
    "\n",
    "    # Return the list of words separated by commas\n",
    "    return ','.join(tokens)\n",
    "\n",
    "# Isolate one observation (assuming the DataFrame is not empty)\n",
    "sample_observation = df_cleaned[\"review_text\"].iloc[0]\n",
    "\n",
    "# Apply the preprocess_text function to the isolated observation\n",
    "preprocessed_observation = preprocess_text(sample_observation)\n",
    "\n",
    "# Display the original and preprocessed text\n",
    "print(\"Original Text:\")\n",
    "print(sample_observation)\n",
    "print(\"\\nPreprocessed Text:\")\n",
    "print(preprocessed_observation)\n"
   ]
  },
  {
   "cell_type": "code",
   "execution_count": 8,
   "id": "8c714042",
   "metadata": {},
   "outputs": [
    {
     "name": "stderr",
     "output_type": "stream",
     "text": [
      "/var/folders/66/n0_9mny57ys5rqmlmylz_2880000gn/T/ipykernel_4731/2051983396.py:31: SettingWithCopyWarning: \n",
      "A value is trying to be set on a copy of a slice from a DataFrame.\n",
      "Try using .loc[row_indexer,col_indexer] = value instead\n",
      "\n",
      "See the caveats in the documentation: https://pandas.pydata.org/pandas-docs/stable/user_guide/indexing.html#returning-a-view-versus-a-copy\n",
      "  df_cleaned_1[\"cleaned_text\"] = df_cleaned_1[\"review_text\"].apply(preprocess_text)\n"
     ]
    }
   ],
   "source": [
    "import re\n",
    "from nltk.tokenize import word_tokenize\n",
    "from nltk.corpus import stopwords\n",
    "from nltk.stem import PorterStemmer\n",
    "\n",
    "def preprocess_text(text):\n",
    "    # Convert text to lowercase\n",
    "    text = text.lower()\n",
    "\n",
    "    # Remove numbers\n",
    "    text = re.sub(r'\\d+', '', text)\n",
    "\n",
    "    # Remove punctuation\n",
    "    text = re.sub(r'[^\\w\\s]', '', text)\n",
    "\n",
    "    # Tokenize the text\n",
    "    tokens = word_tokenize(text)\n",
    "\n",
    "    # Remove stop words\n",
    "    stop_words = set(stopwords.words('english'))\n",
    "    tokens = [word for word in tokens if word not in stop_words]\n",
    "\n",
    "    # Stemming\n",
    "    stemmer = PorterStemmer()\n",
    "    tokens = [stemmer.stem(word) for word in tokens]\n",
    "\n",
    "    # Return the list of words separated by commas\n",
    "    return ','.join(tokens)\n",
    "\n",
    "# Apply the preprocess_text function to the \"review_text\" column\n",
    "df_cleaned_1[\"cleaned_text\"] = df_cleaned_1[\"review_text\"].apply(preprocess_text)\n",
    "\n",
    "# Drop rows with NaN values in the \"cleaned_text\" column\n",
    "df_cleaned_1 = df_cleaned_1.dropna(subset=[\"cleaned_text\"])\n",
    "\n"
   ]
  },
  {
   "cell_type": "code",
   "execution_count": 9,
   "id": "0f18d92e",
   "metadata": {},
   "outputs": [
    {
     "data": {
      "text/html": [
       "<div>\n",
       "<style scoped>\n",
       "    .dataframe tbody tr th:only-of-type {\n",
       "        vertical-align: middle;\n",
       "    }\n",
       "\n",
       "    .dataframe tbody tr th {\n",
       "        vertical-align: top;\n",
       "    }\n",
       "\n",
       "    .dataframe thead th {\n",
       "        text-align: right;\n",
       "    }\n",
       "</style>\n",
       "<table border=\"1\" class=\"dataframe\">\n",
       "  <thead>\n",
       "    <tr style=\"text-align: right;\">\n",
       "      <th></th>\n",
       "      <th>title</th>\n",
       "      <th>reviewer_name</th>\n",
       "      <th>num_reviews</th>\n",
       "      <th>num_followers</th>\n",
       "      <th>star_rating</th>\n",
       "      <th>review_text</th>\n",
       "      <th>num_likes</th>\n",
       "      <th>num_comments</th>\n",
       "      <th>sentiment</th>\n",
       "      <th>cleaned_text</th>\n",
       "    </tr>\n",
       "  </thead>\n",
       "  <tbody>\n",
       "    <tr>\n",
       "      <th>0</th>\n",
       "      <td>The Stolen Heir</td>\n",
       "      <td>Emily May</td>\n",
       "      <td>2,031</td>\n",
       "      <td>310k</td>\n",
       "      <td>4.0</td>\n",
       "      <td>Not quite The Cruel Prince but I enjoyed this ...</td>\n",
       "      <td>1,206</td>\n",
       "      <td>3.0</td>\n",
       "      <td>1</td>\n",
       "      <td>quit,cruel,princ,enjoy,loti,love,back,world,lo...</td>\n",
       "    </tr>\n",
       "    <tr>\n",
       "      <th>1</th>\n",
       "      <td>The Stolen Heir</td>\n",
       "      <td>jessica</td>\n",
       "      <td>2,563</td>\n",
       "      <td>42.2k</td>\n",
       "      <td>4.0</td>\n",
       "      <td>hmm. i didnt obsess over this one like i did w...</td>\n",
       "      <td>654</td>\n",
       "      <td>0.0</td>\n",
       "      <td>1</td>\n",
       "      <td>hmm,didnt,obsess,one,like,origin,trilogywhil,e...</td>\n",
       "    </tr>\n",
       "    <tr>\n",
       "      <th>2</th>\n",
       "      <td>The Stolen Heir</td>\n",
       "      <td>katia</td>\n",
       "      <td>306</td>\n",
       "      <td>526</td>\n",
       "      <td>3.0</td>\n",
       "      <td>3.5 ★oak was a disappointment, but suren!! i l...</td>\n",
       "      <td>1,233</td>\n",
       "      <td>0.0</td>\n",
       "      <td>0</td>\n",
       "      <td>oak,disappoint,suren,love,much,cant,pretend,do...</td>\n",
       "    </tr>\n",
       "    <tr>\n",
       "      <th>6</th>\n",
       "      <td>The Stolen Heir</td>\n",
       "      <td>madeline</td>\n",
       "      <td>111</td>\n",
       "      <td>18</td>\n",
       "      <td>3.0</td>\n",
       "      <td>Every single mention of Oak’s hooves was a jum...</td>\n",
       "      <td>1,707</td>\n",
       "      <td>4.0</td>\n",
       "      <td>0</td>\n",
       "      <td>everi,singl,mention,oak,hoov,jumpscar</td>\n",
       "    </tr>\n",
       "    <tr>\n",
       "      <th>7</th>\n",
       "      <td>The Stolen Heir</td>\n",
       "      <td>Haley pham</td>\n",
       "      <td>81</td>\n",
       "      <td>143k</td>\n",
       "      <td>4.0</td>\n",
       "      <td>4.5 stars  star  fairy_light_skin_tone  face_h...</td>\n",
       "      <td>1,432</td>\n",
       "      <td>0.0</td>\n",
       "      <td>1</td>\n",
       "      <td>star,star,fairy_light_skin_ton,face_holding_ba...</td>\n",
       "    </tr>\n",
       "  </tbody>\n",
       "</table>\n",
       "</div>"
      ],
      "text/plain": [
       "             title reviewer_name num_reviews num_followers  star_rating  \\\n",
       "0  The Stolen Heir     Emily May       2,031          310k          4.0   \n",
       "1  The Stolen Heir       jessica       2,563         42.2k          4.0   \n",
       "2  The Stolen Heir         katia         306           526          3.0   \n",
       "6  The Stolen Heir     madeline          111            18          3.0   \n",
       "7  The Stolen Heir    Haley pham          81          143k          4.0   \n",
       "\n",
       "                                         review_text num_likes  num_comments  \\\n",
       "0  Not quite The Cruel Prince but I enjoyed this ...     1,206           3.0   \n",
       "1  hmm. i didnt obsess over this one like i did w...       654           0.0   \n",
       "2  3.5 ★oak was a disappointment, but suren!! i l...     1,233           0.0   \n",
       "6  Every single mention of Oak’s hooves was a jum...     1,707           4.0   \n",
       "7  4.5 stars  star  fairy_light_skin_tone  face_h...     1,432           0.0   \n",
       "\n",
       "   sentiment                                       cleaned_text  \n",
       "0          1  quit,cruel,princ,enjoy,loti,love,back,world,lo...  \n",
       "1          1  hmm,didnt,obsess,one,like,origin,trilogywhil,e...  \n",
       "2          0  oak,disappoint,suren,love,much,cant,pretend,do...  \n",
       "6          0              everi,singl,mention,oak,hoov,jumpscar  \n",
       "7          1  star,star,fairy_light_skin_ton,face_holding_ba...  "
      ]
     },
     "execution_count": 9,
     "metadata": {},
     "output_type": "execute_result"
    }
   ],
   "source": [
    "df_cleaned_1.head()"
   ]
  },
  {
   "cell_type": "code",
   "execution_count": 23,
   "id": "4ac67cf7",
   "metadata": {},
   "outputs": [
    {
     "data": {
      "text/html": [
       "<div>\n",
       "<style scoped>\n",
       "    .dataframe tbody tr th:only-of-type {\n",
       "        vertical-align: middle;\n",
       "    }\n",
       "\n",
       "    .dataframe tbody tr th {\n",
       "        vertical-align: top;\n",
       "    }\n",
       "\n",
       "    .dataframe thead th {\n",
       "        text-align: right;\n",
       "    }\n",
       "</style>\n",
       "<table border=\"1\" class=\"dataframe\">\n",
       "  <thead>\n",
       "    <tr style=\"text-align: right;\">\n",
       "      <th></th>\n",
       "      <th>title</th>\n",
       "      <th>reviewer_name</th>\n",
       "      <th>num_reviews</th>\n",
       "      <th>num_followers</th>\n",
       "      <th>star_rating</th>\n",
       "      <th>review_text</th>\n",
       "      <th>num_likes</th>\n",
       "      <th>num_comments</th>\n",
       "      <th>sentiment</th>\n",
       "    </tr>\n",
       "  </thead>\n",
       "  <tbody>\n",
       "    <tr>\n",
       "      <th>0</th>\n",
       "      <td>The Stolen Heir</td>\n",
       "      <td>Emily May</td>\n",
       "      <td>2,031</td>\n",
       "      <td>310k</td>\n",
       "      <td>4.0</td>\n",
       "      <td>Not quite The Cruel Prince but I enjoyed this ...</td>\n",
       "      <td>1,206</td>\n",
       "      <td>3.0</td>\n",
       "      <td>1</td>\n",
       "    </tr>\n",
       "    <tr>\n",
       "      <th>1</th>\n",
       "      <td>The Stolen Heir</td>\n",
       "      <td>jessica</td>\n",
       "      <td>2,563</td>\n",
       "      <td>42.2k</td>\n",
       "      <td>4.0</td>\n",
       "      <td>hmm. i didnt obsess over this one like i did w...</td>\n",
       "      <td>654</td>\n",
       "      <td>0.0</td>\n",
       "      <td>1</td>\n",
       "    </tr>\n",
       "    <tr>\n",
       "      <th>2</th>\n",
       "      <td>The Stolen Heir</td>\n",
       "      <td>katia</td>\n",
       "      <td>306</td>\n",
       "      <td>526</td>\n",
       "      <td>3.0</td>\n",
       "      <td>3.5 ★oak was a disappointment, but suren!! i l...</td>\n",
       "      <td>1,233</td>\n",
       "      <td>0.0</td>\n",
       "      <td>0</td>\n",
       "    </tr>\n",
       "    <tr>\n",
       "      <th>6</th>\n",
       "      <td>The Stolen Heir</td>\n",
       "      <td>madeline</td>\n",
       "      <td>111</td>\n",
       "      <td>18</td>\n",
       "      <td>3.0</td>\n",
       "      <td>Every single mention of Oak’s hooves was a jum...</td>\n",
       "      <td>1,707</td>\n",
       "      <td>4.0</td>\n",
       "      <td>0</td>\n",
       "    </tr>\n",
       "    <tr>\n",
       "      <th>7</th>\n",
       "      <td>The Stolen Heir</td>\n",
       "      <td>Haley pham</td>\n",
       "      <td>81</td>\n",
       "      <td>143k</td>\n",
       "      <td>4.0</td>\n",
       "      <td>4.5 stars ⭐️🧚🏻🥹</td>\n",
       "      <td>1,432</td>\n",
       "      <td>0.0</td>\n",
       "      <td>1</td>\n",
       "    </tr>\n",
       "  </tbody>\n",
       "</table>\n",
       "</div>"
      ],
      "text/plain": [
       "             title reviewer_name num_reviews num_followers  star_rating  \\\n",
       "0  The Stolen Heir     Emily May       2,031          310k          4.0   \n",
       "1  The Stolen Heir       jessica       2,563         42.2k          4.0   \n",
       "2  The Stolen Heir         katia         306           526          3.0   \n",
       "6  The Stolen Heir     madeline          111            18          3.0   \n",
       "7  The Stolen Heir    Haley pham          81          143k          4.0   \n",
       "\n",
       "                                         review_text num_likes  num_comments  \\\n",
       "0  Not quite The Cruel Prince but I enjoyed this ...     1,206           3.0   \n",
       "1  hmm. i didnt obsess over this one like i did w...       654           0.0   \n",
       "2  3.5 ★oak was a disappointment, but suren!! i l...     1,233           0.0   \n",
       "6  Every single mention of Oak’s hooves was a jum...     1,707           4.0   \n",
       "7                                    4.5 stars ⭐️🧚🏻🥹     1,432           0.0   \n",
       "\n",
       "   sentiment  \n",
       "0          1  \n",
       "1          1  \n",
       "2          0  \n",
       "6          0  \n",
       "7          1  "
      ]
     },
     "execution_count": 23,
     "metadata": {},
     "output_type": "execute_result"
    }
   ],
   "source": [
    "df_cleaned.head()"
   ]
  },
  {
   "cell_type": "code",
   "execution_count": 10,
   "id": "9ec4bcfe",
   "metadata": {},
   "outputs": [],
   "source": [
    "df_cleaned_1.to_csv('df_cleaned.csv', index=False)"
   ]
  },
  {
   "cell_type": "code",
   "execution_count": 22,
   "id": "318679e4",
   "metadata": {},
   "outputs": [
    {
     "name": "stdout",
     "output_type": "stream",
     "text": [
      "Number of rows per star rating:\n",
      "2    17996\n",
      "1    14874\n",
      "0    13876\n",
      "Name: sentiment, dtype: int64\n"
     ]
    },
    {
     "data": {
      "image/png": "[encoded data removed]",
      "text/plain": [
       "<Figure size 432x288 with 1 Axes>"
      ]
     },
     "metadata": {
      "needs_background": "light"
     },
     "output_type": "display_data"
    }
   ],
   "source": [
    "print(\"Number of rows per star rating:\")\n",
    "print(df_cleaned['sentiment'].value_counts())\n",
    "\n",
    "# Plotting the sentiment distribution\n",
    "plt.figure()\n",
    "pd.value_counts(df_cleaned['sentiment']).plot.bar(title=\"Sentiment distribution in df\")\n",
    "plt.xlabel(\"Sentiment\")\n",
    "plt.ylabel(\"No. of rows in df\")\n",
    "plt.show()"
   ]
  }
 ],
 "metadata": {
  "kernelspec": {
   "display_name": "Python 3 (ipykernel)",
   "language": "python",
   "name": "python3"
  },
  "language_info": {
   "codemirror_mode": {
    "name": "ipython",
    "version": 3
   },
   "file_extension": ".py",
   "mimetype": "text/x-python",
   "name": "python",
   "nbconvert_exporter": "python",
   "pygments_lexer": "ipython3",
   "version": "3.9.7"
  }
 },
 "nbformat": 4,
 "nbformat_minor": 5
}
